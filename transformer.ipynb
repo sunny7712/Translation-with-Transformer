{
 "cells": [
  {
   "cell_type": "markdown",
   "id": "5c789de1",
   "metadata": {
    "papermill": {
     "duration": 0.02079,
     "end_time": "2023-06-18T17:08:40.233280",
     "exception": false,
     "start_time": "2023-06-18T17:08:40.212490",
     "status": "completed"
    },
    "tags": []
   },
   "source": [
    "## Setup"
   ]
  },
  {
   "cell_type": "code",
   "execution_count": 1,
   "id": "f12dc56a",
   "metadata": {
    "execution": {
     "iopub.execute_input": "2023-06-18T17:08:40.278915Z",
     "iopub.status.busy": "2023-06-18T17:08:40.278496Z",
     "iopub.status.idle": "2023-06-18T17:09:03.874215Z",
     "shell.execute_reply": "2023-06-18T17:09:03.873040Z"
    },
    "papermill": {
     "duration": 23.619819,
     "end_time": "2023-06-18T17:09:03.876858",
     "exception": false,
     "start_time": "2023-06-18T17:08:40.257039",
     "status": "completed"
    },
    "tags": []
   },
   "outputs": [
    {
     "name": "stdout",
     "output_type": "stream",
     "text": [
      "\u001b[33mWARNING: Running pip as the 'root' user can result in broken permissions and conflicting behaviour with the system package manager. It is recommended to use a virtual environment instead: https://pip.pypa.io/warnings/venv\u001b[0m\u001b[33m\r\n",
      "\u001b[0m\u001b[33mWARNING: Running pip as the 'root' user can result in broken permissions and conflicting behaviour with the system package manager. It is recommended to use a virtual environment instead: https://pip.pypa.io/warnings/venv\u001b[0m\u001b[33m\r\n",
      "\u001b[0m"
     ]
    }
   ],
   "source": [
    "!pip install -q tensorflow_datasets\n",
    "!pip install -q -U tensorflow-text tensorflow"
   ]
  },
  {
   "cell_type": "code",
   "execution_count": 2,
   "id": "5eab2bd6",
   "metadata": {
    "execution": {
     "iopub.execute_input": "2023-06-18T17:09:03.921127Z",
     "iopub.status.busy": "2023-06-18T17:09:03.920212Z",
     "iopub.status.idle": "2023-06-18T17:09:12.900888Z",
     "shell.execute_reply": "2023-06-18T17:09:12.899944Z"
    },
    "papermill": {
     "duration": 9.00464,
     "end_time": "2023-06-18T17:09:12.903260",
     "exception": false,
     "start_time": "2023-06-18T17:09:03.898620",
     "status": "completed"
    },
    "tags": []
   },
   "outputs": [
    {
     "name": "stderr",
     "output_type": "stream",
     "text": [
      "/opt/conda/lib/python3.10/site-packages/tensorflow_io/python/ops/__init__.py:98: UserWarning: unable to load libtensorflow_io_plugins.so: unable to open file: libtensorflow_io_plugins.so, from paths: ['/opt/conda/lib/python3.10/site-packages/tensorflow_io/python/ops/libtensorflow_io_plugins.so']\n",
      "caused by: ['/opt/conda/lib/python3.10/site-packages/tensorflow_io/python/ops/libtensorflow_io_plugins.so: undefined symbol: _ZN3tsl6StatusC1EN10tensorflow5error4CodeESt17basic_string_viewIcSt11char_traitsIcEENS_14SourceLocationE']\n",
      "  warnings.warn(f\"unable to load libtensorflow_io_plugins.so: {e}\")\n",
      "/opt/conda/lib/python3.10/site-packages/tensorflow_io/python/ops/__init__.py:104: UserWarning: file system plugins are not loaded: unable to open file: libtensorflow_io.so, from paths: ['/opt/conda/lib/python3.10/site-packages/tensorflow_io/python/ops/libtensorflow_io.so']\n",
      "caused by: ['/opt/conda/lib/python3.10/site-packages/tensorflow_io/python/ops/libtensorflow_io.so: undefined symbol: _ZTVN10tensorflow13GcsFileSystemE']\n",
      "  warnings.warn(f\"file system plugins are not loaded: {e}\")\n"
     ]
    }
   ],
   "source": [
    "import logging\n",
    "import time\n",
    "\n",
    "import tensorflow as tf\n",
    "import numpy as np\n",
    "import matplotlib.pyplot as plt\n",
    "\n",
    "import tensorflow_datasets as tfds\n",
    "import tensorflow_text"
   ]
  },
  {
   "cell_type": "markdown",
   "id": "3e1326b4",
   "metadata": {
    "papermill": {
     "duration": 0.020241,
     "end_time": "2023-06-18T17:09:12.944455",
     "exception": false,
     "start_time": "2023-06-18T17:09:12.924214",
     "status": "completed"
    },
    "tags": []
   },
   "source": [
    "# Data Handling"
   ]
  },
  {
   "cell_type": "markdown",
   "id": "17f79883",
   "metadata": {
    "papermill": {
     "duration": 0.02011,
     "end_time": "2023-06-18T17:09:12.984909",
     "exception": false,
     "start_time": "2023-06-18T17:09:12.964799",
     "status": "completed"
    },
    "tags": []
   },
   "source": [
    "## Downloading the data"
   ]
  },
  {
   "cell_type": "code",
   "execution_count": 3,
   "id": "75d0eb00",
   "metadata": {
    "execution": {
     "iopub.execute_input": "2023-06-18T17:09:13.027848Z",
     "iopub.status.busy": "2023-06-18T17:09:13.026699Z",
     "iopub.status.idle": "2023-06-18T17:09:36.974280Z",
     "shell.execute_reply": "2023-06-18T17:09:36.973360Z"
    },
    "papermill": {
     "duration": 23.971273,
     "end_time": "2023-06-18T17:09:36.976640",
     "exception": false,
     "start_time": "2023-06-18T17:09:13.005367",
     "status": "completed"
    },
    "tags": []
   },
   "outputs": [
    {
     "name": "stdout",
     "output_type": "stream",
     "text": [
      "\u001b[1mDownloading and preparing dataset 124.94 MiB (download: 124.94 MiB, generated: Unknown size, total: 124.94 MiB) to /root/tensorflow_datasets/ted_hrlr_translate/pt_to_en/1.0.0...\u001b[0m\n"
     ]
    },
    {
     "data": {
      "application/vnd.jupyter.widget-view+json": {
       "model_id": "8362ff93e3434773a61c9fa2c2a8160f",
       "version_major": 2,
       "version_minor": 0
      },
      "text/plain": [
       "Dl Completed...: 0 url [00:00, ? url/s]"
      ]
     },
     "metadata": {},
     "output_type": "display_data"
    },
    {
     "data": {
      "application/vnd.jupyter.widget-view+json": {
       "model_id": "fbb0f139987b4aaf9c15e4f236534d7d",
       "version_major": 2,
       "version_minor": 0
      },
      "text/plain": [
       "Dl Size...: 0 MiB [00:00, ? MiB/s]"
      ]
     },
     "metadata": {},
     "output_type": "display_data"
    },
    {
     "data": {
      "application/vnd.jupyter.widget-view+json": {
       "model_id": "037815dac4b24f0f8821395620fcd113",
       "version_major": 2,
       "version_minor": 0
      },
      "text/plain": [
       "Extraction completed...: 0 file [00:00, ? file/s]"
      ]
     },
     "metadata": {},
     "output_type": "display_data"
    },
    {
     "data": {
      "application/vnd.jupyter.widget-view+json": {
       "model_id": "fd5710e7c02c48f79755abe12b38d88d",
       "version_major": 2,
       "version_minor": 0
      },
      "text/plain": [
       "Generating splits...:   0%|          | 0/3 [00:00<?, ? splits/s]"
      ]
     },
     "metadata": {},
     "output_type": "display_data"
    },
    {
     "data": {
      "application/vnd.jupyter.widget-view+json": {
       "model_id": "28775c3cd8564b1aafdd2b4bfbc40bbf",
       "version_major": 2,
       "version_minor": 0
      },
      "text/plain": [
       "Generating train examples...:   0%|          | 0/51785 [00:00<?, ? examples/s]"
      ]
     },
     "metadata": {},
     "output_type": "display_data"
    },
    {
     "data": {
      "application/vnd.jupyter.widget-view+json": {
       "model_id": "4f72fcd0611c48b589e20a5730cebe60",
       "version_major": 2,
       "version_minor": 0
      },
      "text/plain": [
       "Shuffling /root/tensorflow_datasets/ted_hrlr_translate/pt_to_en/1.0.0.incompleteFGUE6I/ted_hrlr_translate-trai…"
      ]
     },
     "metadata": {},
     "output_type": "display_data"
    },
    {
     "data": {
      "application/vnd.jupyter.widget-view+json": {
       "model_id": "fc79b27e86fb4d6d85a637eab78e259b",
       "version_major": 2,
       "version_minor": 0
      },
      "text/plain": [
       "Generating validation examples...:   0%|          | 0/1193 [00:00<?, ? examples/s]"
      ]
     },
     "metadata": {},
     "output_type": "display_data"
    },
    {
     "data": {
      "application/vnd.jupyter.widget-view+json": {
       "model_id": "b8c965709542475baee297de373b0b93",
       "version_major": 2,
       "version_minor": 0
      },
      "text/plain": [
       "Shuffling /root/tensorflow_datasets/ted_hrlr_translate/pt_to_en/1.0.0.incompleteFGUE6I/ted_hrlr_translate-vali…"
      ]
     },
     "metadata": {},
     "output_type": "display_data"
    },
    {
     "data": {
      "application/vnd.jupyter.widget-view+json": {
       "model_id": "ea7b9c70be1b48d1a0df0e55ce25b50a",
       "version_major": 2,
       "version_minor": 0
      },
      "text/plain": [
       "Generating test examples...:   0%|          | 0/1803 [00:00<?, ? examples/s]"
      ]
     },
     "metadata": {},
     "output_type": "display_data"
    },
    {
     "data": {
      "application/vnd.jupyter.widget-view+json": {
       "model_id": "8833138bcbe24cc7818b35737354977d",
       "version_major": 2,
       "version_minor": 0
      },
      "text/plain": [
       "Shuffling /root/tensorflow_datasets/ted_hrlr_translate/pt_to_en/1.0.0.incompleteFGUE6I/ted_hrlr_translate-test…"
      ]
     },
     "metadata": {},
     "output_type": "display_data"
    },
    {
     "name": "stdout",
     "output_type": "stream",
     "text": [
      "\u001b[1mDataset ted_hrlr_translate downloaded and prepared to /root/tensorflow_datasets/ted_hrlr_translate/pt_to_en/1.0.0. Subsequent calls will reuse this data.\u001b[0m\n"
     ]
    }
   ],
   "source": [
    "examples, metadata = tfds.load('ted_hrlr_translate/pt_to_en',\n",
    "                               with_info=True,\n",
    "                               as_supervised=True)\n",
    "\n",
    "train_examples, val_examples = examples['train'], examples['validation']"
   ]
  },
  {
   "cell_type": "markdown",
   "id": "cbbc714a",
   "metadata": {
    "papermill": {
     "duration": 0.022867,
     "end_time": "2023-06-18T17:09:37.023455",
     "exception": false,
     "start_time": "2023-06-18T17:09:37.000588",
     "status": "completed"
    },
    "tags": []
   },
   "source": [
    "## Importing the custom tokenizer"
   ]
  },
  {
   "cell_type": "code",
   "execution_count": 4,
   "id": "af6b67fe",
   "metadata": {
    "execution": {
     "iopub.execute_input": "2023-06-18T17:09:37.072240Z",
     "iopub.status.busy": "2023-06-18T17:09:37.071307Z",
     "iopub.status.idle": "2023-06-18T17:09:38.030938Z",
     "shell.execute_reply": "2023-06-18T17:09:38.030029Z"
    },
    "papermill": {
     "duration": 0.986784,
     "end_time": "2023-06-18T17:09:38.033230",
     "exception": false,
     "start_time": "2023-06-18T17:09:37.046446",
     "status": "completed"
    },
    "tags": []
   },
   "outputs": [],
   "source": [
    "model_path = '/kaggle/input/bert-subword-tokenizer/bert_subword_tokenizer_pt_en_converter'\n",
    "tokenizers = tf.saved_model.load(model_path)"
   ]
  },
  {
   "cell_type": "code",
   "execution_count": 5,
   "id": "ecbb0e89",
   "metadata": {
    "execution": {
     "iopub.execute_input": "2023-06-18T17:09:38.079996Z",
     "iopub.status.busy": "2023-06-18T17:09:38.079705Z",
     "iopub.status.idle": "2023-06-18T17:09:38.088876Z",
     "shell.execute_reply": "2023-06-18T17:09:38.087957Z"
    },
    "papermill": {
     "duration": 0.034404,
     "end_time": "2023-06-18T17:09:38.090884",
     "exception": false,
     "start_time": "2023-06-18T17:09:38.056480",
     "status": "completed"
    },
    "tags": []
   },
   "outputs": [
    {
     "data": {
      "text/plain": [
       "['detokenize',\n",
       " 'get_reserved_tokens',\n",
       " 'get_vocab_path',\n",
       " 'get_vocab_size',\n",
       " 'lookup',\n",
       " 'tokenize',\n",
       " 'tokenizer',\n",
       " 'vocab']"
      ]
     },
     "execution_count": 5,
     "metadata": {},
     "output_type": "execute_result"
    }
   ],
   "source": [
    "[item for item in dir(tokenizers.en) if not item.startswith('_')]"
   ]
  },
  {
   "cell_type": "code",
   "execution_count": 6,
   "id": "6ef7d663",
   "metadata": {
    "execution": {
     "iopub.execute_input": "2023-06-18T17:09:38.137034Z",
     "iopub.status.busy": "2023-06-18T17:09:38.136741Z",
     "iopub.status.idle": "2023-06-18T17:09:46.710281Z",
     "shell.execute_reply": "2023-06-18T17:09:46.709362Z"
    },
    "papermill": {
     "duration": 8.598776,
     "end_time": "2023-06-18T17:09:46.712244",
     "exception": false,
     "start_time": "2023-06-18T17:09:38.113468",
     "status": "completed"
    },
    "tags": []
   },
   "outputs": [
    {
     "name": "stdout",
     "output_type": "stream",
     "text": [
      "..................................................."
     ]
    },
    {
     "data": {
      "image/png": "[encoded data removed]",
      "text/plain": [
       "<Figure size 640x480 with 1 Axes>"
      ]
     },
     "metadata": {},
     "output_type": "display_data"
    }
   ],
   "source": [
    "lengths = []\n",
    "\n",
    "for pt_examples, en_examples in train_examples.batch(1024):\n",
    "    pt_tokens = tokenizers.pt.tokenize(pt_examples)\n",
    "    lengths.append(pt_tokens.row_lengths())\n",
    "    \n",
    "    en_tokens = tokenizers.en.tokenize(en_examples)\n",
    "    lengths.append(en_tokens.row_lengths())\n",
    "    print('.', end = '', flush = True)\n",
    "    \n",
    "    \n",
    "all_lengths = np.concatenate(lengths)\n",
    "\n",
    "plt.hist(all_lengths, np.linspace(0, 500, 101))\n",
    "plt.ylim(plt.ylim())\n",
    "max_length = max(all_lengths)\n",
    "plt.plot([max_length, max_length], plt.ylim())\n",
    "plt.title(f'Maximum tokens per example: {max_length}');"
   ]
  },
  {
   "cell_type": "markdown",
   "id": "687fa033",
   "metadata": {
    "papermill": {
     "duration": 0.025852,
     "end_time": "2023-06-18T17:09:46.764455",
     "exception": false,
     "start_time": "2023-06-18T17:09:46.738603",
     "status": "completed"
    },
    "tags": []
   },
   "source": [
    "# Set up a data pipeline"
   ]
  },
  {
   "cell_type": "code",
   "execution_count": 7,
   "id": "8ba0c8b4",
   "metadata": {
    "execution": {
     "iopub.execute_input": "2023-06-18T17:09:46.819124Z",
     "iopub.status.busy": "2023-06-18T17:09:46.818142Z",
     "iopub.status.idle": "2023-06-18T17:09:46.824720Z",
     "shell.execute_reply": "2023-06-18T17:09:46.823793Z"
    },
    "papermill": {
     "duration": 0.035733,
     "end_time": "2023-06-18T17:09:46.826759",
     "exception": false,
     "start_time": "2023-06-18T17:09:46.791026",
     "status": "completed"
    },
    "tags": []
   },
   "outputs": [],
   "source": [
    "MAX_TOKENS = 128\n",
    "\n",
    "def prepare_batch(pt, en):\n",
    "    pt = tokenizers.pt.tokenize(pt) # output is ragged\n",
    "    pt = pt[:, :MAX_TOKENS] #trim to max_tokens\n",
    "    pt = pt.to_tensor() # convert to 0-padded dense tensor\n",
    "    \n",
    "    en = tokenizers.en.tokenize(en)\n",
    "    en = en[:, :(MAX_TOKENS + 1)]\n",
    "    en_inputs = en[:, :-1].to_tensor() # Drop the [END] tokens\n",
    "    en_labels = en[:, 1:].to_tensor()  # Drop the [START] tokens\n",
    "    \n",
    "    return (pt, en_inputs), en_labels"
   ]
  },
  {
   "cell_type": "code",
   "execution_count": 8,
   "id": "f8afae53",
   "metadata": {
    "execution": {
     "iopub.execute_input": "2023-06-18T17:09:46.880095Z",
     "iopub.status.busy": "2023-06-18T17:09:46.879790Z",
     "iopub.status.idle": "2023-06-18T17:09:46.883634Z",
     "shell.execute_reply": "2023-06-18T17:09:46.882790Z"
    },
    "papermill": {
     "duration": 0.032928,
     "end_time": "2023-06-18T17:09:46.885622",
     "exception": false,
     "start_time": "2023-06-18T17:09:46.852694",
     "status": "completed"
    },
    "tags": []
   },
   "outputs": [],
   "source": [
    "BUFFER_SIZE = 20000\n",
    "BATCH_SIZE = 64"
   ]
  },
  {
   "cell_type": "code",
   "execution_count": 9,
   "id": "f2b56953",
   "metadata": {
    "execution": {
     "iopub.execute_input": "2023-06-18T17:09:46.940329Z",
     "iopub.status.busy": "2023-06-18T17:09:46.940065Z",
     "iopub.status.idle": "2023-06-18T17:09:46.945841Z",
     "shell.execute_reply": "2023-06-18T17:09:46.945051Z"
    },
    "papermill": {
     "duration": 0.036044,
     "end_time": "2023-06-18T17:09:46.947695",
     "exception": false,
     "start_time": "2023-06-18T17:09:46.911651",
     "status": "completed"
    },
    "tags": []
   },
   "outputs": [],
   "source": [
    "def make_batches(ds):\n",
    "    return(\n",
    "        ds\n",
    "        .shuffle(BUFFER_SIZE)\n",
    "        .batch(BATCH_SIZE)\n",
    "        .map(prepare_batch, tf.data.AUTOTUNE)\n",
    "        .prefetch(buffer_size = tf.data.AUTOTUNE)\n",
    "    )"
   ]
  },
  {
   "cell_type": "code",
   "execution_count": 10,
   "id": "4fd3659e",
   "metadata": {
    "execution": {
     "iopub.execute_input": "2023-06-18T17:09:47.000854Z",
     "iopub.status.busy": "2023-06-18T17:09:47.000584Z",
     "iopub.status.idle": "2023-06-18T17:09:47.404708Z",
     "shell.execute_reply": "2023-06-18T17:09:47.403723Z"
    },
    "papermill": {
     "duration": 0.433218,
     "end_time": "2023-06-18T17:09:47.406979",
     "exception": false,
     "start_time": "2023-06-18T17:09:46.973761",
     "status": "completed"
    },
    "tags": []
   },
   "outputs": [],
   "source": [
    "# Create training and validation set batches.\n",
    "train_batches = make_batches(train_examples)\n",
    "val_batches = make_batches(val_examples)"
   ]
  },
  {
   "cell_type": "code",
   "execution_count": 11,
   "id": "192c128c",
   "metadata": {
    "execution": {
     "iopub.execute_input": "2023-06-18T17:09:47.461244Z",
     "iopub.status.busy": "2023-06-18T17:09:47.460908Z",
     "iopub.status.idle": "2023-06-18T17:09:48.579952Z",
     "shell.execute_reply": "2023-06-18T17:09:48.579047Z"
    },
    "papermill": {
     "duration": 1.148323,
     "end_time": "2023-06-18T17:09:48.582170",
     "exception": false,
     "start_time": "2023-06-18T17:09:47.433847",
     "status": "completed"
    },
    "tags": []
   },
   "outputs": [
    {
     "name": "stdout",
     "output_type": "stream",
     "text": [
      "(64, 79)\n",
      "(64, 87)\n",
      "(64, 87)\n",
      "tf.Tensor([  2 217  27 101 169  13  82 186   9  55], shape=(10,), dtype=int64)\n",
      "tf.Tensor([217  27 101 169  13  82 186   9  55 164], shape=(10,), dtype=int64)\n"
     ]
    }
   ],
   "source": [
    "for (pt, en), en_labels in train_batches.take(1):\n",
    "  break\n",
    "\n",
    "print(pt.shape)\n",
    "print(en.shape)\n",
    "print(en_labels.shape)\n",
    "print(en[0][:10])\n",
    "print(en_labels[0][:10])"
   ]
  },
  {
   "cell_type": "markdown",
   "id": "dff40ce1",
   "metadata": {
    "papermill": {
     "duration": 0.026024,
     "end_time": "2023-06-18T17:09:48.638070",
     "exception": false,
     "start_time": "2023-06-18T17:09:48.612046",
     "status": "completed"
    },
    "tags": []
   },
   "source": [
    "# Positional Encoding"
   ]
  },
  {
   "cell_type": "code",
   "execution_count": 12,
   "id": "e2c1180c",
   "metadata": {
    "execution": {
     "iopub.execute_input": "2023-06-18T17:09:48.691550Z",
     "iopub.status.busy": "2023-06-18T17:09:48.691231Z",
     "iopub.status.idle": "2023-06-18T17:09:48.698224Z",
     "shell.execute_reply": "2023-06-18T17:09:48.697300Z"
    },
    "papermill": {
     "duration": 0.036089,
     "end_time": "2023-06-18T17:09:48.700178",
     "exception": false,
     "start_time": "2023-06-18T17:09:48.664089",
     "status": "completed"
    },
    "tags": []
   },
   "outputs": [],
   "source": [
    "# Instead of interleaving the sines and cosines, the vectors of sines and cosines are simply concatenated.\n",
    "\n",
    "def positional_encoding(length, depth):\n",
    "    depth = depth / 2\n",
    "    \n",
    "    positions = np.arange(length)[:, np.newaxis] # (pos, 1)\n",
    "    depths = np.arange(depth)[np.newaxis, :] / depth # (1, depth)\n",
    "    \n",
    "    angle_rates = 1 / (10000 ** depths) # (1, depth)\n",
    "    angle_rads = positions * angle_rates # (pos, depth)\n",
    "    \n",
    "    pos_encoding = np.concatenate(\n",
    "        [np.sin(angle_rads), np.cos(angle_rads)],\n",
    "        axis = -1\n",
    "    )\n",
    "    return tf.cast(pos_encoding, dtype = tf.float32)\n",
    "    "
   ]
  },
  {
   "cell_type": "code",
   "execution_count": 13,
   "id": "38e5edea",
   "metadata": {
    "execution": {
     "iopub.execute_input": "2023-06-18T17:09:48.753956Z",
     "iopub.status.busy": "2023-06-18T17:09:48.753688Z",
     "iopub.status.idle": "2023-06-18T17:09:49.669099Z",
     "shell.execute_reply": "2023-06-18T17:09:49.665961Z"
    },
    "papermill": {
     "duration": 0.944811,
     "end_time": "2023-06-18T17:09:49.671294",
     "exception": false,
     "start_time": "2023-06-18T17:09:48.726483",
     "status": "completed"
    },
    "tags": []
   },
   "outputs": [
    {
     "name": "stdout",
     "output_type": "stream",
     "text": [
      "(2048, 512)\n"
     ]
    },
    {
     "data": {
      "image/png": "[encoded data removed]",
      "text/plain": [
       "<Figure size 640x480 with 2 Axes>"
      ]
     },
     "metadata": {},
     "output_type": "display_data"
    }
   ],
   "source": [
    "pos_encoding = positional_encoding(length=2048, depth=512)\n",
    "\n",
    "# Check the shape.\n",
    "print(pos_encoding.shape)\n",
    "\n",
    "# Plot the dimensions.\n",
    "plt.pcolormesh(pos_encoding.numpy().T, cmap='RdBu')\n",
    "plt.ylabel('Depth')\n",
    "plt.xlabel('Position')\n",
    "plt.colorbar()\n",
    "plt.show()"
   ]
  },
  {
   "cell_type": "markdown",
   "id": "f2b4becf",
   "metadata": {
    "papermill": {
     "duration": 0.029333,
     "end_time": "2023-06-18T17:09:49.730570",
     "exception": false,
     "start_time": "2023-06-18T17:09:49.701237",
     "status": "completed"
    },
    "tags": []
   },
   "source": [
    " Below the position encoding vectors are normalized and the vector from position 1000 is compared, by dot-product, to all the others:\n",
    "\n"
   ]
  },
  {
   "cell_type": "code",
   "execution_count": 14,
   "id": "d19fe331",
   "metadata": {
    "execution": {
     "iopub.execute_input": "2023-06-18T17:09:49.791405Z",
     "iopub.status.busy": "2023-06-18T17:09:49.791071Z",
     "iopub.status.idle": "2023-06-18T17:09:51.752554Z",
     "shell.execute_reply": "2023-06-18T17:09:51.751684Z"
    },
    "papermill": {
     "duration": 1.994498,
     "end_time": "2023-06-18T17:09:51.754607",
     "exception": false,
     "start_time": "2023-06-18T17:09:49.760109",
     "status": "completed"
    },
    "tags": []
   },
   "outputs": [
    {
     "data": {
      "text/plain": [
       "(0.0, 1.0)"
      ]
     },
     "execution_count": 14,
     "metadata": {},
     "output_type": "execute_result"
    },
    {
     "data": {
      "image/png": "[encoded data removed]",
      "text/plain": [
       "<Figure size 640x480 with 2 Axes>"
      ]
     },
     "metadata": {},
     "output_type": "display_data"
    }
   ],
   "source": [
    "pos_encoding/=tf.norm(pos_encoding, axis=1, keepdims=True)\n",
    "p = pos_encoding[1000]\n",
    "dots = tf.einsum('pd,d -> p', pos_encoding, p)\n",
    "plt.subplot(2,1,1)\n",
    "plt.plot(dots)\n",
    "plt.ylim([0,1])\n",
    "plt.plot([950, 950, float('nan'), 1050, 1050],\n",
    "         [0,1,float('nan'),0,1], color='k', label='Zoom')\n",
    "plt.legend()\n",
    "plt.subplot(2,1,2)\n",
    "plt.plot(dots)\n",
    "plt.xlim([950, 1050])\n",
    "plt.ylim([0,1])"
   ]
  },
  {
   "cell_type": "code",
   "execution_count": 15,
   "id": "8e3baf18",
   "metadata": {
    "execution": {
     "iopub.execute_input": "2023-06-18T17:09:51.819309Z",
     "iopub.status.busy": "2023-06-18T17:09:51.818945Z",
     "iopub.status.idle": "2023-06-18T17:09:51.826452Z",
     "shell.execute_reply": "2023-06-18T17:09:51.825504Z"
    },
    "papermill": {
     "duration": 0.042913,
     "end_time": "2023-06-18T17:09:51.828458",
     "exception": false,
     "start_time": "2023-06-18T17:09:51.785545",
     "status": "completed"
    },
    "tags": []
   },
   "outputs": [],
   "source": [
    "class PositionalEmbedding(tf.keras.layers.Layer):\n",
    "    def __init__(self, vocab_size, d_model):\n",
    "        super().__init__()\n",
    "        self.d_model = d_model\n",
    "        self.embedding = tf.keras.layers.Embedding(vocab_size, d_model, mask_zero = True)\n",
    "        self.pos_encoding = positional_encoding(length = 2048, depth = d_model)\n",
    "    \n",
    "    def compute_mask(self, *args, **kwargs):\n",
    "        return self.embedding.compute_mask(*args, **kwargs)\n",
    "    \n",
    "    def call(self, x):\n",
    "        length = tf.shape(x)[1]  # 0 is batch dimension\n",
    "        x = self.embedding(x)\n",
    "        # This factor sets the relative scale of the embedding and positonal_encoding.\n",
    "        x *= tf.math.sqrt(tf.cast(self.d_model, tf.float32))\n",
    "        x = x + self.pos_encoding[tf.newaxis, :length, :]\n",
    "        return x\n",
    "        "
   ]
  },
  {
   "cell_type": "code",
   "execution_count": 16,
   "id": "213a1c40",
   "metadata": {
    "execution": {
     "iopub.execute_input": "2023-06-18T17:09:51.890147Z",
     "iopub.status.busy": "2023-06-18T17:09:51.889819Z",
     "iopub.status.idle": "2023-06-18T17:09:51.991932Z",
     "shell.execute_reply": "2023-06-18T17:09:51.990955Z"
    },
    "papermill": {
     "duration": 0.135695,
     "end_time": "2023-06-18T17:09:51.994292",
     "exception": false,
     "start_time": "2023-06-18T17:09:51.858597",
     "status": "completed"
    },
    "tags": []
   },
   "outputs": [],
   "source": [
    "embed_pt = PositionalEmbedding(vocab_size = tokenizers.pt.get_vocab_size(), d_model = 512)\n",
    "embed_en = PositionalEmbedding(vocab_size = tokenizers.en.get_vocab_size(), d_model = 512)\n",
    "\n",
    "pt_emb = embed_pt(pt)\n",
    "en_emb = embed_en(en)"
   ]
  },
  {
   "cell_type": "code",
   "execution_count": 17,
   "id": "e9a41f77",
   "metadata": {
    "execution": {
     "iopub.execute_input": "2023-06-18T17:09:52.056988Z",
     "iopub.status.busy": "2023-06-18T17:09:52.056693Z",
     "iopub.status.idle": "2023-06-18T17:09:52.064103Z",
     "shell.execute_reply": "2023-06-18T17:09:52.063139Z"
    },
    "papermill": {
     "duration": 0.040903,
     "end_time": "2023-06-18T17:09:52.066079",
     "exception": false,
     "start_time": "2023-06-18T17:09:52.025176",
     "status": "completed"
    },
    "tags": []
   },
   "outputs": [
    {
     "data": {
      "text/plain": [
       "<tf.Tensor: shape=(64, 87), dtype=bool, numpy=\n",
       "array([[ True,  True,  True, ..., False, False, False],\n",
       "       [ True,  True,  True, ...,  True,  True,  True],\n",
       "       [ True,  True,  True, ..., False, False, False],\n",
       "       ...,\n",
       "       [ True,  True,  True, ..., False, False, False],\n",
       "       [ True,  True,  True, ..., False, False, False],\n",
       "       [ True,  True,  True, ..., False, False, False]])>"
      ]
     },
     "execution_count": 17,
     "metadata": {},
     "output_type": "execute_result"
    }
   ],
   "source": [
    "en_emb._keras_mask"
   ]
  },
  {
   "cell_type": "markdown",
   "id": "f6f6ab56",
   "metadata": {
    "papermill": {
     "duration": 0.030118,
     "end_time": "2023-06-18T17:09:52.126825",
     "exception": false,
     "start_time": "2023-06-18T17:09:52.096707",
     "status": "completed"
    },
    "tags": []
   },
   "source": [
    "# Base Attention Class\n",
    "Start with a simple base class that just contains the component layers. Each attention use-case will be implemented as a subclass."
   ]
  },
  {
   "cell_type": "code",
   "execution_count": 18,
   "id": "05b6a772",
   "metadata": {
    "execution": {
     "iopub.execute_input": "2023-06-18T17:09:52.188651Z",
     "iopub.status.busy": "2023-06-18T17:09:52.188326Z",
     "iopub.status.idle": "2023-06-18T17:09:52.193669Z",
     "shell.execute_reply": "2023-06-18T17:09:52.192787Z"
    },
    "papermill": {
     "duration": 0.038755,
     "end_time": "2023-06-18T17:09:52.195625",
     "exception": false,
     "start_time": "2023-06-18T17:09:52.156870",
     "status": "completed"
    },
    "tags": []
   },
   "outputs": [],
   "source": [
    "class BaseAttention(tf.keras.layers.Layer):\n",
    "    def __init__(self, **kwargs):\n",
    "        super().__init__()\n",
    "        self.mha = tf.keras.layers.MultiHeadAttention(**kwargs)\n",
    "        self.layernorm = tf.keras.layers.LayerNormalization()\n",
    "        self.add = tf.keras.layers.Add()"
   ]
  },
  {
   "cell_type": "markdown",
   "id": "be7b0bbb",
   "metadata": {
    "papermill": {
     "duration": 0.030395,
     "end_time": "2023-06-18T17:09:52.256098",
     "exception": false,
     "start_time": "2023-06-18T17:09:52.225703",
     "status": "completed"
    },
    "tags": []
   },
   "source": [
    "## Cross Attention Layer\n",
    "At the literal center of the Transformer is the cross-attention layer. This layer connects the encoder and decoder."
   ]
  },
  {
   "cell_type": "code",
   "execution_count": 19,
   "id": "074e9578",
   "metadata": {
    "execution": {
     "iopub.execute_input": "2023-06-18T17:09:52.318504Z",
     "iopub.status.busy": "2023-06-18T17:09:52.317906Z",
     "iopub.status.idle": "2023-06-18T17:09:52.323455Z",
     "shell.execute_reply": "2023-06-18T17:09:52.322584Z"
    },
    "papermill": {
     "duration": 0.038985,
     "end_time": "2023-06-18T17:09:52.325422",
     "exception": false,
     "start_time": "2023-06-18T17:09:52.286437",
     "status": "completed"
    },
    "tags": []
   },
   "outputs": [],
   "source": [
    " class CrossAttention(BaseAttention):\n",
    "    def call(self, x, context):\n",
    "        attn_output, attn_scores = self.mha(\n",
    "            query = x,\n",
    "            key = context,\n",
    "            value = context,\n",
    "            return_attention_scores = True\n",
    "        )\n",
    "        \n",
    "        self.last_attn_scores = attn_scores # Cache the attention scores for plotting later.\n",
    "        \n",
    "        x = self.add([attn_output, x])\n",
    "        x = self.layernorm(x)\n",
    "        return x"
   ]
  },
  {
   "cell_type": "code",
   "execution_count": 20,
   "id": "831c0bdf",
   "metadata": {
    "execution": {
     "iopub.execute_input": "2023-06-18T17:09:52.386855Z",
     "iopub.status.busy": "2023-06-18T17:09:52.386585Z",
     "iopub.status.idle": "2023-06-18T17:09:53.223040Z",
     "shell.execute_reply": "2023-06-18T17:09:53.221695Z"
    },
    "papermill": {
     "duration": 0.869815,
     "end_time": "2023-06-18T17:09:53.225243",
     "exception": false,
     "start_time": "2023-06-18T17:09:52.355428",
     "status": "completed"
    },
    "tags": []
   },
   "outputs": [
    {
     "name": "stdout",
     "output_type": "stream",
     "text": [
      "(64, 79, 512)\n",
      "(64, 87, 512)\n",
      "(64, 87, 512)\n"
     ]
    }
   ],
   "source": [
    "sample_ca = CrossAttention(num_heads=2, key_dim=512)\n",
    "\n",
    "print(pt_emb.shape)\n",
    "print(en_emb.shape)\n",
    "print(sample_ca(en_emb, pt_emb).shape)"
   ]
  },
  {
   "cell_type": "markdown",
   "id": "69c5c710",
   "metadata": {
    "papermill": {
     "duration": 0.030717,
     "end_time": "2023-06-18T17:09:53.287017",
     "exception": false,
     "start_time": "2023-06-18T17:09:53.256300",
     "status": "completed"
    },
    "tags": []
   },
   "source": [
    "The output length is the length of the query sequence, and not the length of the context key/value sequence."
   ]
  },
  {
   "cell_type": "markdown",
   "id": "92348146",
   "metadata": {
    "papermill": {
     "duration": 0.030665,
     "end_time": "2023-06-18T17:09:53.348514",
     "exception": false,
     "start_time": "2023-06-18T17:09:53.317849",
     "status": "completed"
    },
    "tags": []
   },
   "source": [
    "## Global Self Attention Layer"
   ]
  },
  {
   "cell_type": "markdown",
   "id": "dc1323fa",
   "metadata": {
    "papermill": {
     "duration": 0.031093,
     "end_time": "2023-06-18T17:09:53.410788",
     "exception": false,
     "start_time": "2023-06-18T17:09:53.379695",
     "status": "completed"
    },
    "tags": []
   },
   "source": [
    "The global self attention layer lets every sequence element directly access every other sequence element, with only a few operations, and all the outputs can be computed in parallel.\n"
   ]
  },
  {
   "cell_type": "code",
   "execution_count": 21,
   "id": "b8cd7fcc",
   "metadata": {
    "execution": {
     "iopub.execute_input": "2023-06-18T17:09:53.473988Z",
     "iopub.status.busy": "2023-06-18T17:09:53.473332Z",
     "iopub.status.idle": "2023-06-18T17:09:53.478836Z",
     "shell.execute_reply": "2023-06-18T17:09:53.477962Z"
    },
    "papermill": {
     "duration": 0.039647,
     "end_time": "2023-06-18T17:09:53.480990",
     "exception": false,
     "start_time": "2023-06-18T17:09:53.441343",
     "status": "completed"
    },
    "tags": []
   },
   "outputs": [],
   "source": [
    "class GlobalSelfAttention(BaseAttention):\n",
    "    def call(self, x):\n",
    "        attn_output = self.mha(\n",
    "            query = x,\n",
    "            value = x,\n",
    "            key = x\n",
    "        )\n",
    "        x = self.add([x, attn_output])\n",
    "        x = self.layernorm(x)\n",
    "        return x"
   ]
  },
  {
   "cell_type": "code",
   "execution_count": 22,
   "id": "c8f285bd",
   "metadata": {
    "execution": {
     "iopub.execute_input": "2023-06-18T17:09:53.545391Z",
     "iopub.status.busy": "2023-06-18T17:09:53.544743Z",
     "iopub.status.idle": "2023-06-18T17:09:53.582268Z",
     "shell.execute_reply": "2023-06-18T17:09:53.581325Z"
    },
    "papermill": {
     "duration": 0.07204,
     "end_time": "2023-06-18T17:09:53.584389",
     "exception": false,
     "start_time": "2023-06-18T17:09:53.512349",
     "status": "completed"
    },
    "tags": []
   },
   "outputs": [
    {
     "name": "stdout",
     "output_type": "stream",
     "text": [
      "(64, 79, 512)\n",
      "(64, 79, 512)\n"
     ]
    }
   ],
   "source": [
    "sample_gsa = GlobalSelfAttention(num_heads=2, key_dim=512)\n",
    "\n",
    "print(pt_emb.shape)\n",
    "print(sample_gsa(pt_emb).shape)"
   ]
  },
  {
   "cell_type": "markdown",
   "id": "ded3baec",
   "metadata": {
    "papermill": {
     "duration": 0.030514,
     "end_time": "2023-06-18T17:09:53.648762",
     "exception": false,
     "start_time": "2023-06-18T17:09:53.618248",
     "status": "completed"
    },
    "tags": []
   },
   "source": [
    "## The causal self attention layer\n",
    "This layer does a similar job as the global self attention layer, for the output sequence. The causal mask ensures that each location only has access to the locations that come before it"
   ]
  },
  {
   "cell_type": "code",
   "execution_count": 23,
   "id": "a8f292bd",
   "metadata": {
    "execution": {
     "iopub.execute_input": "2023-06-18T17:09:53.712842Z",
     "iopub.status.busy": "2023-06-18T17:09:53.711755Z",
     "iopub.status.idle": "2023-06-18T17:09:53.718161Z",
     "shell.execute_reply": "2023-06-18T17:09:53.717245Z"
    },
    "papermill": {
     "duration": 0.040384,
     "end_time": "2023-06-18T17:09:53.720129",
     "exception": false,
     "start_time": "2023-06-18T17:09:53.679745",
     "status": "completed"
    },
    "tags": []
   },
   "outputs": [],
   "source": [
    "class CausalSelfAttention(BaseAttention):\n",
    "      def call(self, x):\n",
    "        attn_output = self.mha(\n",
    "            query = x,\n",
    "            value = x,\n",
    "            key = x,\n",
    "            use_causal_mask = True)\n",
    "        x = self.add([x, attn_output])\n",
    "        x = self.layernorm(x)\n",
    "        return x"
   ]
  },
  {
   "cell_type": "code",
   "execution_count": 24,
   "id": "c4cd62ff",
   "metadata": {
    "execution": {
     "iopub.execute_input": "2023-06-18T17:09:53.784089Z",
     "iopub.status.busy": "2023-06-18T17:09:53.782543Z",
     "iopub.status.idle": "2023-06-18T17:09:53.828651Z",
     "shell.execute_reply": "2023-06-18T17:09:53.827619Z"
    },
    "papermill": {
     "duration": 0.079927,
     "end_time": "2023-06-18T17:09:53.830539",
     "exception": false,
     "start_time": "2023-06-18T17:09:53.750612",
     "status": "completed"
    },
    "tags": []
   },
   "outputs": [
    {
     "name": "stdout",
     "output_type": "stream",
     "text": [
      "(64, 87, 512)\n",
      "(64, 87, 512)\n"
     ]
    }
   ],
   "source": [
    "sample_csa = CausalSelfAttention(num_heads=2, key_dim=512)\n",
    "\n",
    "print(en_emb.shape)\n",
    "print(sample_csa(en_emb).shape)\n"
   ]
  },
  {
   "cell_type": "code",
   "execution_count": 25,
   "id": "9238cd7e",
   "metadata": {
    "execution": {
     "iopub.execute_input": "2023-06-18T17:09:53.894216Z",
     "iopub.status.busy": "2023-06-18T17:09:53.893376Z",
     "iopub.status.idle": "2023-06-18T17:09:53.900685Z",
     "shell.execute_reply": "2023-06-18T17:09:53.899835Z"
    },
    "papermill": {
     "duration": 0.041026,
     "end_time": "2023-06-18T17:09:53.902629",
     "exception": false,
     "start_time": "2023-06-18T17:09:53.861603",
     "status": "completed"
    },
    "tags": []
   },
   "outputs": [],
   "source": [
    "class FeedForward(tf.keras.layers.Layer):\n",
    "    def __init__(self, d_model, dff, dropout_rate = 0.1):\n",
    "        super().__init__()\n",
    "        self.seq = tf.keras.Sequential([\n",
    "            tf.keras.layers.Dense(dff, activation = 'relu'),\n",
    "            tf.keras.layers.Dense(d_model),\n",
    "            tf.keras.layers.Dropout(dropout_rate)\n",
    "        ])\n",
    "        self.add = tf.keras.layers.Add()\n",
    "        self.layernorm = tf.keras.layers.LayerNormalization()\n",
    "        \n",
    "    def call(self, x):\n",
    "        x = self.add([x, self.seq(x)])\n",
    "        x = self.layernorm(x)\n",
    "        return x"
   ]
  },
  {
   "cell_type": "code",
   "execution_count": 26,
   "id": "f1511d26",
   "metadata": {
    "execution": {
     "iopub.execute_input": "2023-06-18T17:09:53.966043Z",
     "iopub.status.busy": "2023-06-18T17:09:53.965279Z",
     "iopub.status.idle": "2023-06-18T17:09:54.032713Z",
     "shell.execute_reply": "2023-06-18T17:09:54.031405Z"
    },
    "papermill": {
     "duration": 0.101508,
     "end_time": "2023-06-18T17:09:54.034759",
     "exception": false,
     "start_time": "2023-06-18T17:09:53.933251",
     "status": "completed"
    },
    "tags": []
   },
   "outputs": [
    {
     "name": "stdout",
     "output_type": "stream",
     "text": [
      "(64, 87, 512)\n",
      "(64, 87, 512)\n"
     ]
    }
   ],
   "source": [
    "sample_ffn = FeedForward(512, 2048)\n",
    "\n",
    "print(en_emb.shape)\n",
    "print(sample_ffn(en_emb).shape)"
   ]
  },
  {
   "cell_type": "markdown",
   "id": "786ea152",
   "metadata": {
    "papermill": {
     "duration": 0.03076,
     "end_time": "2023-06-18T17:09:54.096848",
     "exception": false,
     "start_time": "2023-06-18T17:09:54.066088",
     "status": "completed"
    },
    "tags": []
   },
   "source": [
    "# Encoder Layer"
   ]
  },
  {
   "cell_type": "code",
   "execution_count": 27,
   "id": "7d6ebb84",
   "metadata": {
    "execution": {
     "iopub.execute_input": "2023-06-18T17:09:54.164148Z",
     "iopub.status.busy": "2023-06-18T17:09:54.163620Z",
     "iopub.status.idle": "2023-06-18T17:09:54.174658Z",
     "shell.execute_reply": "2023-06-18T17:09:54.173609Z"
    },
    "papermill": {
     "duration": 0.050192,
     "end_time": "2023-06-18T17:09:54.177888",
     "exception": false,
     "start_time": "2023-06-18T17:09:54.127696",
     "status": "completed"
    },
    "tags": []
   },
   "outputs": [],
   "source": [
    "class EncoderLayer(tf.keras.layers.Layer):\n",
    "      def __init__(self,*, d_model, num_heads, dff, dropout_rate = 0.1):\n",
    "        super().__init__()\n",
    "\n",
    "        self.self_attention = GlobalSelfAttention(\n",
    "            num_heads = num_heads,\n",
    "            key_dim = d_model,\n",
    "            dropout = dropout_rate\n",
    "        )\n",
    "\n",
    "        self.ffn = FeedForward(d_model, dff)\n",
    "\n",
    "      def call(self, x):\n",
    "        x = self.self_attention(x)\n",
    "        x = self.ffn(x)\n",
    "        return x\n"
   ]
  },
  {
   "cell_type": "code",
   "execution_count": 28,
   "id": "5096d381",
   "metadata": {
    "execution": {
     "iopub.execute_input": "2023-06-18T17:09:54.294072Z",
     "iopub.status.busy": "2023-06-18T17:09:54.293717Z",
     "iopub.status.idle": "2023-06-18T17:09:54.390966Z",
     "shell.execute_reply": "2023-06-18T17:09:54.389407Z"
    },
    "papermill": {
     "duration": 0.155366,
     "end_time": "2023-06-18T17:09:54.392952",
     "exception": false,
     "start_time": "2023-06-18T17:09:54.237586",
     "status": "completed"
    },
    "tags": []
   },
   "outputs": [
    {
     "name": "stdout",
     "output_type": "stream",
     "text": [
      "(64, 79, 512)\n",
      "(64, 79, 512)\n"
     ]
    }
   ],
   "source": [
    "sample_encoder_layer = EncoderLayer(d_model = 512, num_heads = 8, dff = 2048)\n",
    "\n",
    "print(pt_emb.shape)\n",
    "print(sample_encoder_layer(pt_emb).shape)"
   ]
  },
  {
   "cell_type": "markdown",
   "id": "1fbc1d5e",
   "metadata": {
    "papermill": {
     "duration": 0.030647,
     "end_time": "2023-06-18T17:09:54.455440",
     "exception": false,
     "start_time": "2023-06-18T17:09:54.424793",
     "status": "completed"
    },
    "tags": []
   },
   "source": [
    "# Encoder"
   ]
  },
  {
   "cell_type": "code",
   "execution_count": 29,
   "id": "6cce568c",
   "metadata": {
    "execution": {
     "iopub.execute_input": "2023-06-18T17:09:54.519238Z",
     "iopub.status.busy": "2023-06-18T17:09:54.518418Z",
     "iopub.status.idle": "2023-06-18T17:09:54.526597Z",
     "shell.execute_reply": "2023-06-18T17:09:54.525770Z"
    },
    "papermill": {
     "duration": 0.042378,
     "end_time": "2023-06-18T17:09:54.528528",
     "exception": false,
     "start_time": "2023-06-18T17:09:54.486150",
     "status": "completed"
    },
    "tags": []
   },
   "outputs": [],
   "source": [
    "class Encoder(tf.keras.layers.Layer):\n",
    "    def __init__(self, *, num_layers, d_model, num_heads, dff, vocab_size, dropout_rate = 0.1):\n",
    "        super().__init__()\n",
    "        \n",
    "        self.d_model = d_model\n",
    "        self.num_layers = num_layers\n",
    "        \n",
    "        self.pos_embedding = PositionalEmbedding(\n",
    "            vocab_size = vocab_size, d_model = d_model\n",
    "        )\n",
    "        \n",
    "        self.enc_layers = [\n",
    "            EncoderLayer(\n",
    "                d_model = d_model,\n",
    "                num_heads = num_heads,\n",
    "                dff = dff,\n",
    "                dropout_rate = dropout_rate\n",
    "            )\n",
    "            for _ in range(num_layers)\n",
    "        ]\n",
    "        \n",
    "        self.dropout = tf.keras.layers.Dropout(dropout_rate)\n",
    "        \n",
    "    def call(self, x):\n",
    "         # `x` is token-IDs shape: (batch, seq_len)\n",
    "        x = self.pos_embedding(x) # Shape `(batch_size, seq_len, d_model)`.\n",
    "        x = self.dropout(x)\n",
    "        for i in range(self.num_layers):\n",
    "            x = self.enc_layers[i](x)\n",
    "            \n",
    "        return x # Shape `(batch_size, seq_len, d_model)`."
   ]
  },
  {
   "cell_type": "code",
   "execution_count": 30,
   "id": "efa2901e",
   "metadata": {
    "execution": {
     "iopub.execute_input": "2023-06-18T17:09:54.591507Z",
     "iopub.status.busy": "2023-06-18T17:09:54.590693Z",
     "iopub.status.idle": "2023-06-18T17:09:54.951602Z",
     "shell.execute_reply": "2023-06-18T17:09:54.950683Z"
    },
    "papermill": {
     "duration": 0.39715,
     "end_time": "2023-06-18T17:09:54.956112",
     "exception": false,
     "start_time": "2023-06-18T17:09:54.558962",
     "status": "completed"
    },
    "tags": []
   },
   "outputs": [
    {
     "name": "stdout",
     "output_type": "stream",
     "text": [
      "(64, 79)\n",
      "(64, 79, 512)\n"
     ]
    }
   ],
   "source": [
    "# Instantiate the encoder.\n",
    "sample_encoder = Encoder(num_layers=4,\n",
    "                         d_model=512,\n",
    "                         num_heads=8,\n",
    "                         dff=2048,\n",
    "                         vocab_size=8500)\n",
    "\n",
    "sample_encoder_output = sample_encoder(pt, training=False)\n",
    "\n",
    "# Print the shape.\n",
    "print(pt.shape)\n",
    "print(sample_encoder_output.shape)  # Shape `(batch_size, input_seq_len, d_model)`."
   ]
  },
  {
   "cell_type": "markdown",
   "id": "0445ebfd",
   "metadata": {
    "papermill": {
     "duration": 0.03076,
     "end_time": "2023-06-18T17:09:55.019959",
     "exception": false,
     "start_time": "2023-06-18T17:09:54.989199",
     "status": "completed"
    },
    "tags": []
   },
   "source": [
    "# Decoder Layer"
   ]
  },
  {
   "cell_type": "code",
   "execution_count": 31,
   "id": "24e11701",
   "metadata": {
    "execution": {
     "iopub.execute_input": "2023-06-18T17:09:55.083961Z",
     "iopub.status.busy": "2023-06-18T17:09:55.083597Z",
     "iopub.status.idle": "2023-06-18T17:09:55.091103Z",
     "shell.execute_reply": "2023-06-18T17:09:55.090073Z"
    },
    "papermill": {
     "duration": 0.042296,
     "end_time": "2023-06-18T17:09:55.092997",
     "exception": false,
     "start_time": "2023-06-18T17:09:55.050701",
     "status": "completed"
    },
    "tags": []
   },
   "outputs": [],
   "source": [
    "class DecoderLayer(tf.keras.layers.Layer):\n",
    "    def __init__(self, *, d_model, num_heads, dff, dropout_rate = 0.1):\n",
    "        super().__init__()\n",
    "        \n",
    "        self.causal_self_attention = CausalSelfAttention(\n",
    "            num_heads = num_heads,\n",
    "            key_dim = d_model,\n",
    "            dropout = dropout_rate\n",
    "        )\n",
    "        \n",
    "        self.cross_attention = CrossAttention(\n",
    "            num_heads = num_heads,\n",
    "             key_dim = d_model,\n",
    "            dropout = dropout_rate\n",
    "        )\n",
    "        \n",
    "        self.ffn = FeedForward(d_model, dff)\n",
    "        \n",
    "    def call(self, x, context):\n",
    "        x = self.causal_self_attention(x = x)\n",
    "        x = self.cross_attention(x = x, context = context)\n",
    "        \n",
    "        # Cache the last attention scores for plotting later\n",
    "        self.last_attn_scores = self.cross_attention.last_attn_scores\n",
    "        \n",
    "        x = self.ffn(x)  # Shape `(batch_size, seq_len, d_model)`.\n",
    "        \n",
    "        return x"
   ]
  },
  {
   "cell_type": "code",
   "execution_count": 32,
   "id": "531d48b9",
   "metadata": {
    "execution": {
     "iopub.execute_input": "2023-06-18T17:09:55.156568Z",
     "iopub.status.busy": "2023-06-18T17:09:55.155806Z",
     "iopub.status.idle": "2023-06-18T17:09:55.288581Z",
     "shell.execute_reply": "2023-06-18T17:09:55.287323Z"
    },
    "papermill": {
     "duration": 0.166379,
     "end_time": "2023-06-18T17:09:55.290530",
     "exception": false,
     "start_time": "2023-06-18T17:09:55.124151",
     "status": "completed"
    },
    "tags": []
   },
   "outputs": [
    {
     "name": "stdout",
     "output_type": "stream",
     "text": [
      "(64, 87, 512)\n",
      "(64, 79, 512)\n",
      "(64, 87, 512)\n"
     ]
    }
   ],
   "source": [
    "sample_decoder_layer = DecoderLayer(d_model=512, num_heads=8, dff=2048)\n",
    "\n",
    "sample_decoder_layer_output = sample_decoder_layer(\n",
    "    x=en_emb, context=pt_emb)\n",
    "\n",
    "print(en_emb.shape)\n",
    "print(pt_emb.shape)\n",
    "print(sample_decoder_layer_output.shape)  # `(batch_size, seq_len, d_model)`"
   ]
  },
  {
   "cell_type": "markdown",
   "id": "1ddba852",
   "metadata": {
    "papermill": {
     "duration": 0.030877,
     "end_time": "2023-06-18T17:09:55.352677",
     "exception": false,
     "start_time": "2023-06-18T17:09:55.321800",
     "status": "completed"
    },
    "tags": []
   },
   "source": [
    "# Decoder"
   ]
  },
  {
   "cell_type": "code",
   "execution_count": 33,
   "id": "bfe9b3f8",
   "metadata": {
    "execution": {
     "iopub.execute_input": "2023-06-18T17:09:55.416358Z",
     "iopub.status.busy": "2023-06-18T17:09:55.415996Z",
     "iopub.status.idle": "2023-06-18T17:09:55.424962Z",
     "shell.execute_reply": "2023-06-18T17:09:55.424070Z"
    },
    "papermill": {
     "duration": 0.043207,
     "end_time": "2023-06-18T17:09:55.426897",
     "exception": false,
     "start_time": "2023-06-18T17:09:55.383690",
     "status": "completed"
    },
    "tags": []
   },
   "outputs": [],
   "source": [
    "class Decoder(tf.keras.layers.Layer):\n",
    "    def __init__(self, * , num_layers, d_model, num_heads, dff, vocab_size, dropout_rate = 0.1):\n",
    "        super().__init__()\n",
    "        \n",
    "        self.d_model = d_model\n",
    "        self.num_layers = num_layers\n",
    "        \n",
    "        self.pos_embedding = PositionalEmbedding(\n",
    "            vocab_size = vocab_size,\n",
    "            d_model = d_model\n",
    "        )\n",
    "        \n",
    "        self.dropout = tf.keras.layers.Dropout(dropout_rate)\n",
    "        \n",
    "        self.dec_layers = [\n",
    "            DecoderLayer(\n",
    "                d_model = d_model,\n",
    "                num_heads = num_heads, \n",
    "                dff = dff,\n",
    "                dropout_rate = dropout_rate\n",
    "            )\n",
    "            for _ in range(num_layers)\n",
    "        ]\n",
    "        \n",
    "        self.last_attn_scores = None\n",
    "        \n",
    "    def call(self, x, context):\n",
    "        x = self.pos_embedding(x)\n",
    "        x = self.dropout(x)\n",
    "        \n",
    "        for i in range(self.num_layers):\n",
    "            x = self.dec_layers[i](x, context)\n",
    "            \n",
    "        self.last_attn_scores = self.dec_layers[-1].last_attn_scores\n",
    "        \n",
    "        return x"
   ]
  },
  {
   "cell_type": "code",
   "execution_count": 34,
   "id": "6eb5eb1b",
   "metadata": {
    "execution": {
     "iopub.execute_input": "2023-06-18T17:09:55.491800Z",
     "iopub.status.busy": "2023-06-18T17:09:55.491509Z",
     "iopub.status.idle": "2023-06-18T17:09:56.009812Z",
     "shell.execute_reply": "2023-06-18T17:09:56.008812Z"
    },
    "papermill": {
     "duration": 0.554097,
     "end_time": "2023-06-18T17:09:56.011840",
     "exception": false,
     "start_time": "2023-06-18T17:09:55.457743",
     "status": "completed"
    },
    "tags": []
   },
   "outputs": [
    {
     "name": "stdout",
     "output_type": "stream",
     "text": [
      "(64, 87)\n",
      "(64, 79, 512)\n",
      "(64, 87, 512)\n"
     ]
    }
   ],
   "source": [
    "# Instantiate the decoder.\n",
    "sample_decoder = Decoder(num_layers=4,\n",
    "                         d_model=512,\n",
    "                         num_heads=8,\n",
    "                         dff=2048,\n",
    "                         vocab_size=8000)\n",
    "\n",
    "output = sample_decoder(\n",
    "    x=en,\n",
    "    context=pt_emb)\n",
    "\n",
    "# Print the shapes.\n",
    "print(en.shape)\n",
    "print(pt_emb.shape)\n",
    "print(output.shape)"
   ]
  },
  {
   "cell_type": "code",
   "execution_count": 35,
   "id": "4cb81236",
   "metadata": {
    "execution": {
     "iopub.execute_input": "2023-06-18T17:09:56.076981Z",
     "iopub.status.busy": "2023-06-18T17:09:56.075957Z",
     "iopub.status.idle": "2023-06-18T17:09:56.082654Z",
     "shell.execute_reply": "2023-06-18T17:09:56.081585Z"
    },
    "papermill": {
     "duration": 0.041573,
     "end_time": "2023-06-18T17:09:56.085019",
     "exception": false,
     "start_time": "2023-06-18T17:09:56.043446",
     "status": "completed"
    },
    "tags": []
   },
   "outputs": [
    {
     "data": {
      "text/plain": [
       "TensorShape([64, 8, 87, 79])"
      ]
     },
     "execution_count": 35,
     "metadata": {},
     "output_type": "execute_result"
    }
   ],
   "source": [
    "sample_decoder.last_attn_scores.shape  # (batch, heads, target_seq, input_seq)"
   ]
  },
  {
   "cell_type": "markdown",
   "id": "28f46b25",
   "metadata": {
    "papermill": {
     "duration": 0.030992,
     "end_time": "2023-06-18T17:09:56.148077",
     "exception": false,
     "start_time": "2023-06-18T17:09:56.117085",
     "status": "completed"
    },
    "tags": []
   },
   "source": [
    "# Final Transformer"
   ]
  },
  {
   "cell_type": "code",
   "execution_count": 36,
   "id": "a1a56e48",
   "metadata": {
    "execution": {
     "iopub.execute_input": "2023-06-18T17:09:56.212507Z",
     "iopub.status.busy": "2023-06-18T17:09:56.211667Z",
     "iopub.status.idle": "2023-06-18T17:09:56.220450Z",
     "shell.execute_reply": "2023-06-18T17:09:56.219470Z"
    },
    "papermill": {
     "duration": 0.043256,
     "end_time": "2023-06-18T17:09:56.222372",
     "exception": false,
     "start_time": "2023-06-18T17:09:56.179116",
     "status": "completed"
    },
    "tags": []
   },
   "outputs": [],
   "source": [
    "class Transformer(tf.keras.Model):\n",
    "    def __init__(self, * , num_layers, d_model, num_heads, dff, input_vocab_size, target_vocab_size, dropout_rate = 0.1):\n",
    "        super().__init__()\n",
    "        \n",
    "        self.encoder = Encoder(\n",
    "            num_layers = num_layers, \n",
    "            d_model = d_model,\n",
    "            num_heads = num_heads,\n",
    "            dff = dff,\n",
    "            vocab_size = input_vocab_size,\n",
    "            dropout_rate = dropout_rate\n",
    "        )\n",
    "        \n",
    "        self.decoder = Decoder(\n",
    "            num_layers = num_layers, \n",
    "            d_model = d_model,\n",
    "            num_heads = num_heads,\n",
    "            dff = dff,\n",
    "            vocab_size = target_vocab_size,\n",
    "            dropout_rate = dropout_rate\n",
    "        )\n",
    "        \n",
    "        self.final_layer = tf.keras.layers.Dense(target_vocab_size)\n",
    "        \n",
    "    def call(self, inputs):\n",
    "        context, x = inputs\n",
    "        \n",
    "        context = self.encoder(context)\n",
    "        \n",
    "        x = self.decoder(x, context)\n",
    "        \n",
    "        logits = self.final_layer(x)\n",
    "        \n",
    "        try:\n",
    "            # Drop the keras mask, so it doesn't scale the losses/metrics.\n",
    "            # b/250038731\n",
    "            del logits._keras_mask\n",
    "        except AttributeError:\n",
    "            pass\n",
    "        \n",
    "        return logits"
   ]
  },
  {
   "cell_type": "markdown",
   "id": "18fbab46",
   "metadata": {
    "papermill": {
     "duration": 0.031671,
     "end_time": "2023-06-18T17:09:56.285521",
     "exception": false,
     "start_time": "2023-06-18T17:09:56.253850",
     "status": "completed"
    },
    "tags": []
   },
   "source": [
    "# Hyperparameters"
   ]
  },
  {
   "cell_type": "code",
   "execution_count": 37,
   "id": "07c3b7f2",
   "metadata": {
    "execution": {
     "iopub.execute_input": "2023-06-18T17:09:56.349997Z",
     "iopub.status.busy": "2023-06-18T17:09:56.349683Z",
     "iopub.status.idle": "2023-06-18T17:09:56.353979Z",
     "shell.execute_reply": "2023-06-18T17:09:56.353142Z"
    },
    "papermill": {
     "duration": 0.038616,
     "end_time": "2023-06-18T17:09:56.355989",
     "exception": false,
     "start_time": "2023-06-18T17:09:56.317373",
     "status": "completed"
    },
    "tags": []
   },
   "outputs": [],
   "source": [
    "num_layers = 4\n",
    "d_model = 128\n",
    "dff = 512\n",
    "num_heads = 8\n",
    "dropout_rate = 0.1"
   ]
  },
  {
   "cell_type": "code",
   "execution_count": 38,
   "id": "edfe734e",
   "metadata": {
    "execution": {
     "iopub.execute_input": "2023-06-18T17:09:56.420304Z",
     "iopub.status.busy": "2023-06-18T17:09:56.419995Z",
     "iopub.status.idle": "2023-06-18T17:09:57.385693Z",
     "shell.execute_reply": "2023-06-18T17:09:57.384829Z"
    },
    "papermill": {
     "duration": 1.001197,
     "end_time": "2023-06-18T17:09:57.388346",
     "exception": false,
     "start_time": "2023-06-18T17:09:56.387149",
     "status": "completed"
    },
    "tags": []
   },
   "outputs": [
    {
     "name": "stdout",
     "output_type": "stream",
     "text": [
      "(64, 87)\n",
      "(64, 79)\n",
      "(64, 87, 7010)\n"
     ]
    }
   ],
   "source": [
    "transformer = Transformer(\n",
    "    num_layers = num_layers,\n",
    "    d_model = d_model,\n",
    "    num_heads = num_heads,\n",
    "    dff = dff,\n",
    "    input_vocab_size = tokenizers.pt.get_vocab_size().numpy(),\n",
    "    target_vocab_size = tokenizers.en.get_vocab_size().numpy(),\n",
    "    dropout_rate = dropout_rate)\n",
    "\n",
    "output = transformer((pt, en))\n",
    "\n",
    "print(en.shape)\n",
    "print(pt.shape)\n",
    "print(output.shape)"
   ]
  },
  {
   "cell_type": "code",
   "execution_count": 39,
   "id": "3ad6e9aa",
   "metadata": {
    "execution": {
     "iopub.execute_input": "2023-06-18T17:09:57.480180Z",
     "iopub.status.busy": "2023-06-18T17:09:57.479796Z",
     "iopub.status.idle": "2023-06-18T17:09:57.484936Z",
     "shell.execute_reply": "2023-06-18T17:09:57.484135Z"
    },
    "papermill": {
     "duration": 0.055914,
     "end_time": "2023-06-18T17:09:57.490233",
     "exception": false,
     "start_time": "2023-06-18T17:09:57.434319",
     "status": "completed"
    },
    "tags": []
   },
   "outputs": [
    {
     "name": "stdout",
     "output_type": "stream",
     "text": [
      "(64, 8, 87, 79)\n"
     ]
    }
   ],
   "source": [
    "attn_scores = transformer.decoder.dec_layers[-1].last_attn_scores\n",
    "print(attn_scores.shape)  # (batch, heads, target_seq, input_seq)"
   ]
  },
  {
   "cell_type": "code",
   "execution_count": 40,
   "id": "4ba53639",
   "metadata": {
    "execution": {
     "iopub.execute_input": "2023-06-18T17:09:57.580445Z",
     "iopub.status.busy": "2023-06-18T17:09:57.580104Z",
     "iopub.status.idle": "2023-06-18T17:09:57.646802Z",
     "shell.execute_reply": "2023-06-18T17:09:57.646044Z"
    },
    "papermill": {
     "duration": 0.114413,
     "end_time": "2023-06-18T17:09:57.649200",
     "exception": false,
     "start_time": "2023-06-18T17:09:57.534787",
     "status": "completed"
    },
    "tags": []
   },
   "outputs": [
    {
     "name": "stdout",
     "output_type": "stream",
     "text": [
      "Model: \"transformer\"\n",
      "_________________________________________________________________\n",
      " Layer (type)                Output Shape              Param #   \n",
      "=================================================================\n",
      " encoder_1 (Encoder)         multiple                  3632768   \n",
      "                                                                 \n",
      " decoder_1 (Decoder)         multiple                  5647104   \n",
      "                                                                 \n",
      " dense_38 (Dense)            multiple                  904290    \n",
      "                                                                 \n",
      "=================================================================\n",
      "Total params: 10,184,162\n",
      "Trainable params: 10,184,162\n",
      "Non-trainable params: 0\n",
      "_________________________________________________________________\n"
     ]
    }
   ],
   "source": [
    "transformer.summary()"
   ]
  },
  {
   "cell_type": "markdown",
   "id": "e87ff59f",
   "metadata": {
    "papermill": {
     "duration": 0.045246,
     "end_time": "2023-06-18T17:09:57.741332",
     "exception": false,
     "start_time": "2023-06-18T17:09:57.696086",
     "status": "completed"
    },
    "tags": []
   },
   "source": [
    "# Optimizer"
   ]
  },
  {
   "cell_type": "markdown",
   "id": "75e05f76",
   "metadata": {
    "papermill": {
     "duration": 0.045998,
     "end_time": "2023-06-18T17:09:57.833254",
     "exception": false,
     "start_time": "2023-06-18T17:09:57.787256",
     "status": "completed"
    },
    "tags": []
   },
   "source": [
    "Use the Adam optimizer with a custom learning rate scheduler according to the formula in the original Transformer paper."
   ]
  },
  {
   "cell_type": "code",
   "execution_count": 41,
   "id": "b4689a55",
   "metadata": {
    "execution": {
     "iopub.execute_input": "2023-06-18T17:09:57.926648Z",
     "iopub.status.busy": "2023-06-18T17:09:57.926273Z",
     "iopub.status.idle": "2023-06-18T17:09:57.935310Z",
     "shell.execute_reply": "2023-06-18T17:09:57.934496Z"
    },
    "papermill": {
     "duration": 0.058593,
     "end_time": "2023-06-18T17:09:57.937727",
     "exception": false,
     "start_time": "2023-06-18T17:09:57.879134",
     "status": "completed"
    },
    "tags": []
   },
   "outputs": [],
   "source": [
    "class CustomSchedule(tf.keras.optimizers.schedules.LearningRateSchedule):\n",
    "    def __init__(self, d_model, warmup_steps = 4000):\n",
    "        super().__init__()\n",
    "        \n",
    "        self.d_model = d_model\n",
    "        self.d_model = tf.cast(self.d_model, tf.float32)\n",
    "        \n",
    "        self.warmup_steps = warmup_steps\n",
    "        \n",
    "    def __call__(self, step):\n",
    "        step = tf.cast(step, tf.float32)\n",
    "        arg1 = tf.math.rsqrt(step)\n",
    "        arg2 = step * (self.warmup_steps ** -1.5)\n",
    "        \n",
    "        return tf.math.rsqrt(self.d_model) * tf.math.minimum(arg1, arg2)"
   ]
  },
  {
   "cell_type": "code",
   "execution_count": 42,
   "id": "1265994d",
   "metadata": {
    "execution": {
     "iopub.execute_input": "2023-06-18T17:09:58.023078Z",
     "iopub.status.busy": "2023-06-18T17:09:58.022746Z",
     "iopub.status.idle": "2023-06-18T17:09:58.040013Z",
     "shell.execute_reply": "2023-06-18T17:09:58.038969Z"
    },
    "papermill": {
     "duration": 0.058762,
     "end_time": "2023-06-18T17:09:58.042140",
     "exception": false,
     "start_time": "2023-06-18T17:09:57.983378",
     "status": "completed"
    },
    "tags": []
   },
   "outputs": [],
   "source": [
    "learning_rate = CustomSchedule(d_model)\n",
    "\n",
    "optimizer = tf.keras.optimizers.Adam(learning_rate, beta_1 = 0.9, beta_2 = 0.98, epsilon = 1e-9)"
   ]
  },
  {
   "cell_type": "code",
   "execution_count": 43,
   "id": "e991ce86",
   "metadata": {
    "execution": {
     "iopub.execute_input": "2023-06-18T17:09:58.109652Z",
     "iopub.status.busy": "2023-06-18T17:09:58.109320Z",
     "iopub.status.idle": "2023-06-18T17:09:58.406865Z",
     "shell.execute_reply": "2023-06-18T17:09:58.405939Z"
    },
    "papermill": {
     "duration": 0.333707,
     "end_time": "2023-06-18T17:09:58.409133",
     "exception": false,
     "start_time": "2023-06-18T17:09:58.075426",
     "status": "completed"
    },
    "tags": []
   },
   "outputs": [
    {
     "data": {
      "text/plain": [
       "Text(0.5, 0, 'Train Step')"
      ]
     },
     "execution_count": 43,
     "metadata": {},
     "output_type": "execute_result"
    },
    {
     "data": {
      "image/png": "[encoded data removed]",
      "text/plain": [
       "<Figure size 640x480 with 1 Axes>"
      ]
     },
     "metadata": {},
     "output_type": "display_data"
    }
   ],
   "source": [
    "plt.plot(learning_rate(tf.range(40000, dtype=tf.float32)))\n",
    "plt.ylabel('Learning Rate')\n",
    "plt.xlabel('Train Step')"
   ]
  },
  {
   "cell_type": "markdown",
   "id": "07c9af8a",
   "metadata": {
    "papermill": {
     "duration": 0.032951,
     "end_time": "2023-06-18T17:09:58.476629",
     "exception": false,
     "start_time": "2023-06-18T17:09:58.443678",
     "status": "completed"
    },
    "tags": []
   },
   "source": [
    "# Set up the loss and metrics\n"
   ]
  },
  {
   "cell_type": "markdown",
   "id": "3c933c9e",
   "metadata": {
    "papermill": {
     "duration": 0.033399,
     "end_time": "2023-06-18T17:09:58.543108",
     "exception": false,
     "start_time": "2023-06-18T17:09:58.509709",
     "status": "completed"
    },
    "tags": []
   },
   "source": [
    "Since the target sequences are padded, it is important to apply a padding mask when calculating the loss."
   ]
  },
  {
   "cell_type": "code",
   "execution_count": 44,
   "id": "7dddb424",
   "metadata": {
    "execution": {
     "iopub.execute_input": "2023-06-18T17:09:58.610786Z",
     "iopub.status.busy": "2023-06-18T17:09:58.610452Z",
     "iopub.status.idle": "2023-06-18T17:09:58.618374Z",
     "shell.execute_reply": "2023-06-18T17:09:58.617373Z"
    },
    "papermill": {
     "duration": 0.044777,
     "end_time": "2023-06-18T17:09:58.620746",
     "exception": false,
     "start_time": "2023-06-18T17:09:58.575969",
     "status": "completed"
    },
    "tags": []
   },
   "outputs": [],
   "source": [
    "def masked_loss(label, pred):\n",
    "    mask = (label != 0)\n",
    "    \n",
    "    loss_object = tf.keras.losses.SparseCategoricalCrossentropy(\n",
    "        from_logits = True,\n",
    "        reduction = 'none'\n",
    "    )\n",
    "    \n",
    "    loss = loss_object(label, pred)\n",
    "    mask = tf.cast(mask, dtype = loss.dtype)\n",
    "    loss *= mask\n",
    "    loss = tf.reduce_sum(loss) / tf.reduce_sum(mask)\n",
    "    \n",
    "    return loss\n",
    "\n",
    "def masked_accuracy(label, pred):\n",
    "    pred = tf.argmax(pred, axis = 2)\n",
    "        \n",
    "    label = tf.cast(label, pred.dtype)\n",
    "    match = label == pred\n",
    "\n",
    "    mask = label != 0\n",
    "\n",
    "    match = match & mask\n",
    "\n",
    "    match = tf.cast(match, dtype = tf.float32)\n",
    "    mask = tf.cast(mask, dtype = tf.float32)\n",
    "    \n",
    "    return tf.reduce_sum(match) / tf.reduce_sum(mask)"
   ]
  },
  {
   "cell_type": "code",
   "execution_count": 45,
   "id": "e77b9f9c",
   "metadata": {
    "execution": {
     "iopub.execute_input": "2023-06-18T17:09:58.691788Z",
     "iopub.status.busy": "2023-06-18T17:09:58.691488Z",
     "iopub.status.idle": "2023-06-18T17:09:58.698754Z",
     "shell.execute_reply": "2023-06-18T17:09:58.697705Z"
    },
    "papermill": {
     "duration": 0.044739,
     "end_time": "2023-06-18T17:09:58.702049",
     "exception": false,
     "start_time": "2023-06-18T17:09:58.657310",
     "status": "completed"
    },
    "tags": []
   },
   "outputs": [
    {
     "name": "stdout",
     "output_type": "stream",
     "text": [
      "/device:GPU:0\n"
     ]
    }
   ],
   "source": [
    "print(tf.test.gpu_device_name())"
   ]
  },
  {
   "cell_type": "markdown",
   "id": "2df4022a",
   "metadata": {
    "papermill": {
     "duration": 0.03286,
     "end_time": "2023-06-18T17:09:58.768361",
     "exception": false,
     "start_time": "2023-06-18T17:09:58.735501",
     "status": "completed"
    },
    "tags": []
   },
   "source": [
    "# Train the model\n"
   ]
  },
  {
   "cell_type": "code",
   "execution_count": 46,
   "id": "185bf07d",
   "metadata": {
    "execution": {
     "iopub.execute_input": "2023-06-18T17:09:58.836752Z",
     "iopub.status.busy": "2023-06-18T17:09:58.836429Z",
     "iopub.status.idle": "2023-06-18T18:12:04.063409Z",
     "shell.execute_reply": "2023-06-18T18:12:04.061479Z"
    },
    "papermill": {
     "duration": 3726.581443,
     "end_time": "2023-06-18T18:12:05.382794",
     "exception": false,
     "start_time": "2023-06-18T17:09:58.801351",
     "status": "completed"
    },
    "tags": []
   },
   "outputs": [
    {
     "name": "stdout",
     "output_type": "stream",
     "text": [
      "Epoch 1/20\n",
      "810/810 [==============================] - 247s 261ms/step - loss: 6.5863 - masked_accuracy: 0.1434 - val_loss: 5.0392 - val_masked_accuracy: 0.2506\n",
      "Epoch 2/20\n",
      "810/810 [==============================] - 155s 191ms/step - loss: 4.5624 - masked_accuracy: 0.2993 - val_loss: 4.0627 - val_masked_accuracy: 0.3552\n",
      "Epoch 3/20\n",
      "810/810 [==============================] - 149s 183ms/step - loss: 3.8099 - masked_accuracy: 0.3820 - val_loss: 3.4446 - val_masked_accuracy: 0.4345\n",
      "Epoch 4/20\n",
      "810/810 [==============================] - 147s 181ms/step - loss: 3.2706 - masked_accuracy: 0.4407 - val_loss: 2.9665 - val_masked_accuracy: 0.4918\n",
      "Epoch 5/20\n",
      "810/810 [==============================] - 146s 179ms/step - loss: 2.8805 - masked_accuracy: 0.4853 - val_loss: 2.7579 - val_masked_accuracy: 0.5175\n",
      "Epoch 6/20\n",
      "810/810 [==============================] - 147s 181ms/step - loss: 2.5616 - masked_accuracy: 0.5243 - val_loss: 2.4906 - val_masked_accuracy: 0.5552\n",
      "Epoch 7/20\n",
      "810/810 [==============================] - 146s 180ms/step - loss: 2.2938 - masked_accuracy: 0.5586 - val_loss: 2.3496 - val_masked_accuracy: 0.5705\n",
      "Epoch 8/20\n",
      "810/810 [==============================] - 145s 178ms/step - loss: 2.1017 - masked_accuracy: 0.5845 - val_loss: 2.2518 - val_masked_accuracy: 0.5875\n",
      "Epoch 9/20\n",
      "810/810 [==============================] - 145s 179ms/step - loss: 1.9553 - masked_accuracy: 0.6052 - val_loss: 2.1900 - val_masked_accuracy: 0.5964\n",
      "Epoch 10/20\n",
      "810/810 [==============================] - 146s 179ms/step - loss: 1.8387 - masked_accuracy: 0.6217 - val_loss: 2.1221 - val_masked_accuracy: 0.6081\n",
      "Epoch 11/20\n",
      "810/810 [==============================] - 146s 179ms/step - loss: 1.7435 - masked_accuracy: 0.6351 - val_loss: 2.0921 - val_masked_accuracy: 0.6144\n",
      "Epoch 12/20\n",
      "810/810 [==============================] - 146s 179ms/step - loss: 1.6626 - masked_accuracy: 0.6472 - val_loss: 2.0927 - val_masked_accuracy: 0.6130\n",
      "Epoch 13/20\n",
      "810/810 [==============================] - 146s 179ms/step - loss: 1.5876 - masked_accuracy: 0.6587 - val_loss: 2.0627 - val_masked_accuracy: 0.6216\n",
      "Epoch 14/20\n",
      "810/810 [==============================] - 146s 179ms/step - loss: 1.5252 - masked_accuracy: 0.6680 - val_loss: 2.0506 - val_masked_accuracy: 0.6246\n",
      "Epoch 15/20\n",
      "810/810 [==============================] - 145s 178ms/step - loss: 1.4699 - masked_accuracy: 0.6768 - val_loss: 2.0396 - val_masked_accuracy: 0.6228\n",
      "Epoch 16/20\n",
      "810/810 [==============================] - 147s 180ms/step - loss: 1.4173 - masked_accuracy: 0.6853 - val_loss: 2.0316 - val_masked_accuracy: 0.6300\n",
      "Epoch 17/20\n",
      "810/810 [==============================] - 144s 177ms/step - loss: 1.3719 - masked_accuracy: 0.6920 - val_loss: 2.0363 - val_masked_accuracy: 0.6297\n",
      "Epoch 18/20\n",
      "810/810 [==============================] - 145s 178ms/step - loss: 1.3296 - masked_accuracy: 0.6988 - val_loss: 2.0335 - val_masked_accuracy: 0.6287\n",
      "Epoch 19/20\n",
      "810/810 [==============================] - 146s 179ms/step - loss: 1.2920 - masked_accuracy: 0.7051 - val_loss: 2.0542 - val_masked_accuracy: 0.6285\n",
      "Epoch 20/20\n",
      "810/810 [==============================] - 146s 179ms/step - loss: 1.2557 - masked_accuracy: 0.7112 - val_loss: 2.0603 - val_masked_accuracy: 0.6302\n"
     ]
    },
    {
     "data": {
      "text/plain": [
       "<keras.callbacks.History at 0x7afb97708100>"
      ]
     },
     "execution_count": 46,
     "metadata": {},
     "output_type": "execute_result"
    }
   ],
   "source": [
    "transformer.compile(loss = masked_loss, optimizer = optimizer, metrics = [masked_accuracy])\n",
    "\n",
    "transformer.fit(train_batches, epochs = 20, validation_data = val_batches)"
   ]
  },
  {
   "cell_type": "markdown",
   "id": "4c642af1",
   "metadata": {
    "papermill": {
     "duration": 1.438647,
     "end_time": "2023-06-18T18:12:08.393353",
     "exception": false,
     "start_time": "2023-06-18T18:12:06.954706",
     "status": "completed"
    },
    "tags": []
   },
   "source": [
    "# Inference"
   ]
  },
  {
   "cell_type": "code",
   "execution_count": 47,
   "id": "41d02e1a",
   "metadata": {
    "execution": {
     "iopub.execute_input": "2023-06-18T18:12:11.059946Z",
     "iopub.status.busy": "2023-06-18T18:12:11.058914Z",
     "iopub.status.idle": "2023-06-18T18:12:11.070940Z",
     "shell.execute_reply": "2023-06-18T18:12:11.070017Z"
    },
    "papermill": {
     "duration": 1.347123,
     "end_time": "2023-06-18T18:12:11.072908",
     "exception": false,
     "start_time": "2023-06-18T18:12:09.725785",
     "status": "completed"
    },
    "tags": []
   },
   "outputs": [],
   "source": [
    "class Translator(tf.Module):\n",
    "  def __init__(self, tokenizers, transformer):\n",
    "    self.tokenizers = tokenizers\n",
    "    self.transformer = transformer\n",
    "\n",
    "  def __call__(self, sentence, max_length=MAX_TOKENS):\n",
    "    # The input sentence is Portuguese, hence adding the `[START]` and `[END]` tokens.\n",
    "    assert isinstance(sentence, tf.Tensor)\n",
    "    if len(sentence.shape) == 0:\n",
    "      sentence = sentence[tf.newaxis]\n",
    "\n",
    "    sentence = self.tokenizers.pt.tokenize(sentence).to_tensor()\n",
    "\n",
    "    encoder_input = sentence\n",
    "\n",
    "    # As the output language is English, initialize the output with the\n",
    "    # English `[START]` token.\n",
    "    start_end = self.tokenizers.en.tokenize([''])[0]\n",
    "    start = start_end[0][tf.newaxis]\n",
    "    end = start_end[1][tf.newaxis]\n",
    "\n",
    "    # `tf.TensorArray` is required here (instead of a Python list), so that the\n",
    "    # dynamic-loop can be traced by `tf.function`.\n",
    "    output_array = tf.TensorArray(dtype=tf.int64, size=0, dynamic_size=True)\n",
    "    output_array = output_array.write(0, start)\n",
    "\n",
    "    for i in tf.range(max_length):\n",
    "      output = tf.transpose(output_array.stack())\n",
    "      predictions = self.transformer([encoder_input, output], training=False)\n",
    "\n",
    "      # Select the last token from the `seq_len` dimension.\n",
    "      predictions = predictions[:, -1:, :]  # Shape `(batch_size, 1, vocab_size)`.\n",
    "\n",
    "      predicted_id = tf.argmax(predictions, axis=-1)\n",
    "\n",
    "      # Concatenate the `predicted_id` to the output which is given to the\n",
    "      # decoder as its input.\n",
    "      output_array = output_array.write(i+1, predicted_id[0])\n",
    "\n",
    "      if predicted_id == end:\n",
    "        break\n",
    "\n",
    "    output = tf.transpose(output_array.stack())\n",
    "    # The output shape is `(1, tokens)`.\n",
    "    text = tokenizers.en.detokenize(output)[0]  # Shape: `()`.\n",
    "\n",
    "    tokens = tokenizers.en.lookup(output)[0]\n",
    "\n",
    "    # `tf.function` prevents us from using the attention_weights that were\n",
    "    # calculated on the last iteration of the loop.\n",
    "    # So, recalculate them outside the loop.\n",
    "    self.transformer([encoder_input, output[:,:-1]], training=False)\n",
    "    attention_weights = self.transformer.decoder.last_attn_scores\n",
    "\n",
    "    return text, tokens, attention_weights"
   ]
  },
  {
   "cell_type": "code",
   "execution_count": 48,
   "id": "532d6b12",
   "metadata": {
    "execution": {
     "iopub.execute_input": "2023-06-18T18:12:13.687798Z",
     "iopub.status.busy": "2023-06-18T18:12:13.687415Z",
     "iopub.status.idle": "2023-06-18T18:12:13.692139Z",
     "shell.execute_reply": "2023-06-18T18:12:13.691086Z"
    },
    "papermill": {
     "duration": 1.326228,
     "end_time": "2023-06-18T18:12:13.694143",
     "exception": false,
     "start_time": "2023-06-18T18:12:12.367915",
     "status": "completed"
    },
    "tags": []
   },
   "outputs": [],
   "source": [
    "translator = Translator(tokenizers, transformer)"
   ]
  },
  {
   "cell_type": "code",
   "execution_count": 49,
   "id": "839ec3d9",
   "metadata": {
    "execution": {
     "iopub.execute_input": "2023-06-18T18:12:16.260401Z",
     "iopub.status.busy": "2023-06-18T18:12:16.259996Z",
     "iopub.status.idle": "2023-06-18T18:12:16.265254Z",
     "shell.execute_reply": "2023-06-18T18:12:16.264257Z"
    },
    "papermill": {
     "duration": 1.254043,
     "end_time": "2023-06-18T18:12:16.267169",
     "exception": false,
     "start_time": "2023-06-18T18:12:15.013126",
     "status": "completed"
    },
    "tags": []
   },
   "outputs": [],
   "source": [
    "def print_translation(sentence, tokens, ground_truth):\n",
    "    print(f'{\"Input:\":15s}: {sentence}')\n",
    "    print(f'{\"Prediction\":15s}: {tokens.numpy().decode(\"utf-8\")}')\n",
    "    print(f'{\"Ground truth\":15s}: {ground_truth}')"
   ]
  },
  {
   "cell_type": "code",
   "execution_count": 50,
   "id": "d445496c",
   "metadata": {
    "execution": {
     "iopub.execute_input": "2023-06-18T18:12:18.838404Z",
     "iopub.status.busy": "2023-06-18T18:12:18.838041Z",
     "iopub.status.idle": "2023-06-18T18:12:21.446702Z",
     "shell.execute_reply": "2023-06-18T18:12:21.444453Z"
    },
    "papermill": {
     "duration": 3.859514,
     "end_time": "2023-06-18T18:12:21.449094",
     "exception": false,
     "start_time": "2023-06-18T18:12:17.589580",
     "status": "completed"
    },
    "tags": []
   },
   "outputs": [
    {
     "name": "stdout",
     "output_type": "stream",
     "text": [
      "Input:         : este é um problema que temos que resolver.\n",
      "Prediction     : this is a problem we have to address .\n",
      "Ground truth   : this is a problem we have to solve .\n"
     ]
    }
   ],
   "source": [
    "#example 1\n",
    "sentence = 'este é um problema que temos que resolver.'\n",
    "ground_truth = 'this is a problem we have to solve .'\n",
    "\n",
    "translated_text, translated_tokens, attention_weights = translator(tf.constant(sentence))\n",
    "print_translation(sentence, translated_text, ground_truth)"
   ]
  },
  {
   "cell_type": "code",
   "execution_count": 51,
   "id": "26447999",
   "metadata": {
    "execution": {
     "iopub.execute_input": "2023-06-18T18:12:24.017566Z",
     "iopub.status.busy": "2023-06-18T18:12:24.017214Z",
     "iopub.status.idle": "2023-06-18T18:12:25.665687Z",
     "shell.execute_reply": "2023-06-18T18:12:25.664469Z"
    },
    "papermill": {
     "duration": 2.897405,
     "end_time": "2023-06-18T18:12:25.667711",
     "exception": false,
     "start_time": "2023-06-18T18:12:22.770306",
     "status": "completed"
    },
    "tags": []
   },
   "outputs": [
    {
     "name": "stdout",
     "output_type": "stream",
     "text": [
      "Input:         : os meus vizinhos ouviram sobre esta ideia.\n",
      "Prediction     : my neighbors heard about this idea .\n",
      "Ground truth   : and my neighboring homes heard about this idea .\n"
     ]
    }
   ],
   "source": [
    "#example 2\n",
    "sentence = 'os meus vizinhos ouviram sobre esta ideia.'\n",
    "ground_truth = 'and my neighboring homes heard about this idea .'\n",
    "\n",
    "translated_text, translated_tokens, attention_weights = translator(tf.constant(sentence))\n",
    "print_translation(sentence, translated_text, ground_truth)"
   ]
  },
  {
   "cell_type": "code",
   "execution_count": 52,
   "id": "479f2369",
   "metadata": {
    "execution": {
     "iopub.execute_input": "2023-06-18T18:12:28.297928Z",
     "iopub.status.busy": "2023-06-18T18:12:28.297576Z",
     "iopub.status.idle": "2023-06-18T18:12:32.438641Z",
     "shell.execute_reply": "2023-06-18T18:12:32.437604Z"
    },
    "papermill": {
     "duration": 5.458696,
     "end_time": "2023-06-18T18:12:32.440676",
     "exception": false,
     "start_time": "2023-06-18T18:12:26.981980",
     "status": "completed"
    },
    "tags": []
   },
   "outputs": [
    {
     "name": "stdout",
     "output_type": "stream",
     "text": [
      "Input:         : vou então muito rapidamente partilhar convosco algumas histórias de algumas coisas mágicas que aconteceram.\n",
      "Prediction     : so i ' m going to then very quickly share with you some stories of some magicians that happen .\n",
      "Ground truth   : so i'll just share with you some stories very quickly of some magical things that have happened.\n"
     ]
    }
   ],
   "source": [
    "sentence = 'vou então muito rapidamente partilhar convosco algumas histórias de algumas coisas mágicas que aconteceram.'\n",
    "ground_truth = \"so i'll just share with you some stories very quickly of some magical things that have happened.\"\n",
    "\n",
    "translated_text, translated_tokens, attention_weights = translator(tf.constant(sentence))\n",
    "print_translation(sentence, translated_text, ground_truth)"
   ]
  },
  {
   "cell_type": "markdown",
   "id": "e6d7ebe9",
   "metadata": {
    "papermill": {
     "duration": 1.316964,
     "end_time": "2023-06-18T18:12:34.999943",
     "exception": false,
     "start_time": "2023-06-18T18:12:33.682979",
     "status": "completed"
    },
    "tags": []
   },
   "source": [
    "# Attention Plots"
   ]
  },
  {
   "cell_type": "code",
   "execution_count": 53,
   "id": "0acdedb0",
   "metadata": {
    "execution": {
     "iopub.execute_input": "2023-06-18T18:12:37.553545Z",
     "iopub.status.busy": "2023-06-18T18:12:37.553182Z",
     "iopub.status.idle": "2023-06-18T18:12:39.779825Z",
     "shell.execute_reply": "2023-06-18T18:12:39.778809Z"
    },
    "papermill": {
     "duration": 3.540379,
     "end_time": "2023-06-18T18:12:39.781849",
     "exception": false,
     "start_time": "2023-06-18T18:12:36.241470",
     "status": "completed"
    },
    "tags": []
   },
   "outputs": [
    {
     "name": "stdout",
     "output_type": "stream",
     "text": [
      "Input:         : este é o primeiro livro que eu fiz.\n",
      "Prediction     : this is the first book i did .\n",
      "Ground truth   : this is the first book i've ever done.\n"
     ]
    }
   ],
   "source": [
    "sentence = 'este é o primeiro livro que eu fiz.'\n",
    "ground_truth = \"this is the first book i've ever done.\"\n",
    "\n",
    "translated_text, translated_tokens, attention_weights = translator(tf.constant(sentence))\n",
    "print_translation(sentence, translated_text, ground_truth)"
   ]
  },
  {
   "cell_type": "code",
   "execution_count": 54,
   "id": "a937bc46",
   "metadata": {
    "execution": {
     "iopub.execute_input": "2023-06-18T18:12:42.345554Z",
     "iopub.status.busy": "2023-06-18T18:12:42.345191Z",
     "iopub.status.idle": "2023-06-18T18:12:42.352583Z",
     "shell.execute_reply": "2023-06-18T18:12:42.351617Z"
    },
    "papermill": {
     "duration": 1.32719,
     "end_time": "2023-06-18T18:12:42.354606",
     "exception": false,
     "start_time": "2023-06-18T18:12:41.027416",
     "status": "completed"
    },
    "tags": []
   },
   "outputs": [],
   "source": [
    "def plot_attention_head(in_tokens, translated_tokens, attention):\n",
    "  # The model didn't generate `<START>` in the output. Skip it.\n",
    "  translated_tokens = translated_tokens[1:]\n",
    "\n",
    "  ax = plt.gca()\n",
    "  ax.matshow(attention)\n",
    "  ax.set_xticks(range(len(in_tokens)))\n",
    "  ax.set_yticks(range(len(translated_tokens)))\n",
    "\n",
    "  labels = [label.decode('utf-8') for label in in_tokens.numpy()]\n",
    "  ax.set_xticklabels(\n",
    "      labels, rotation=90)\n",
    "\n",
    "  labels = [label.decode('utf-8') for label in translated_tokens.numpy()]\n",
    "  ax.set_yticklabels(labels)"
   ]
  },
  {
   "cell_type": "code",
   "execution_count": 55,
   "id": "8242dcf4",
   "metadata": {
    "execution": {
     "iopub.execute_input": "2023-06-18T18:12:45.065358Z",
     "iopub.status.busy": "2023-06-18T18:12:45.064966Z",
     "iopub.status.idle": "2023-06-18T18:12:45.074381Z",
     "shell.execute_reply": "2023-06-18T18:12:45.073378Z"
    },
    "papermill": {
     "duration": 1.36824,
     "end_time": "2023-06-18T18:12:45.076511",
     "exception": false,
     "start_time": "2023-06-18T18:12:43.708271",
     "status": "completed"
    },
    "tags": []
   },
   "outputs": [
    {
     "data": {
      "text/plain": [
       "TensorShape([9, 11])"
      ]
     },
     "execution_count": 55,
     "metadata": {},
     "output_type": "execute_result"
    }
   ],
   "source": [
    "head = 0\n",
    "# Shape: `(batch=1, num_heads, seq_len_q, seq_len_k)`.\n",
    "attention_heads = tf.squeeze(attention_weights, 0)\n",
    "attention = attention_heads[head]\n",
    "attention.shape"
   ]
  },
  {
   "cell_type": "code",
   "execution_count": 56,
   "id": "46b8eff1",
   "metadata": {
    "execution": {
     "iopub.execute_input": "2023-06-18T18:12:47.639067Z",
     "iopub.status.busy": "2023-06-18T18:12:47.638699Z",
     "iopub.status.idle": "2023-06-18T18:12:47.666835Z",
     "shell.execute_reply": "2023-06-18T18:12:47.665945Z"
    },
    "papermill": {
     "duration": 1.345481,
     "end_time": "2023-06-18T18:12:47.668899",
     "exception": false,
     "start_time": "2023-06-18T18:12:46.323418",
     "status": "completed"
    },
    "tags": []
   },
   "outputs": [
    {
     "name": "stdout",
     "output_type": "stream",
     "text": [
      "tf.Tensor(\n",
      "[b'[START]' b'este' b'e' b'o' b'primeiro' b'livro' b'que' b'eu' b'fiz'\n",
      " b'.' b'[END]'], shape=(11,), dtype=string)\n",
      "tf.Tensor(\n",
      "[b'[START]' b'this' b'is' b'the' b'first' b'book' b'i' b'did' b'.'\n",
      " b'[END]'], shape=(10,), dtype=string)\n"
     ]
    }
   ],
   "source": [
    "in_tokens = tf.convert_to_tensor([sentence])\n",
    "in_tokens = tokenizers.pt.tokenize(in_tokens).to_tensor()\n",
    "in_tokens = tokenizers.pt.lookup(in_tokens)[0]\n",
    "print(in_tokens)\n",
    "print(translated_tokens)"
   ]
  },
  {
   "cell_type": "code",
   "execution_count": 57,
   "id": "e0fbe0d4",
   "metadata": {
    "execution": {
     "iopub.execute_input": "2023-06-18T18:12:50.272686Z",
     "iopub.status.busy": "2023-06-18T18:12:50.272337Z",
     "iopub.status.idle": "2023-06-18T18:12:50.701776Z",
     "shell.execute_reply": "2023-06-18T18:12:50.700754Z"
    },
    "papermill": {
     "duration": 1.789801,
     "end_time": "2023-06-18T18:12:50.705199",
     "exception": false,
     "start_time": "2023-06-18T18:12:48.915398",
     "status": "completed"
    },
    "tags": []
   },
   "outputs": [
    {
     "data": {
      "image/png": "[encoded data removed]",
      "text/plain": [
       "<Figure size 640x480 with 1 Axes>"
      ]
     },
     "metadata": {},
     "output_type": "display_data"
    }
   ],
   "source": [
    "plot_attention_head(in_tokens, translated_tokens, attention)"
   ]
  },
  {
   "cell_type": "code",
   "execution_count": 58,
   "id": "a3f28469",
   "metadata": {
    "execution": {
     "iopub.execute_input": "2023-06-18T18:12:53.305585Z",
     "iopub.status.busy": "2023-06-18T18:12:53.305241Z",
     "iopub.status.idle": "2023-06-18T18:12:53.312029Z",
     "shell.execute_reply": "2023-06-18T18:12:53.311070Z"
    },
    "papermill": {
     "duration": 1.336107,
     "end_time": "2023-06-18T18:12:53.313987",
     "exception": false,
     "start_time": "2023-06-18T18:12:51.977880",
     "status": "completed"
    },
    "tags": []
   },
   "outputs": [],
   "source": [
    "def plot_attention_weights(sentence, translated_tokens, attention_heads):\n",
    "  in_tokens = tf.convert_to_tensor([sentence])\n",
    "  in_tokens = tokenizers.pt.tokenize(in_tokens).to_tensor()\n",
    "  in_tokens = tokenizers.pt.lookup(in_tokens)[0]\n",
    "\n",
    "  fig = plt.figure(figsize=(16, 8))\n",
    "\n",
    "  for h, head in enumerate(attention_heads):\n",
    "    ax = fig.add_subplot(2, 4, h+1)\n",
    "\n",
    "    plot_attention_head(in_tokens, translated_tokens, head)\n",
    "\n",
    "    ax.set_xlabel(f'Head {h+1}')\n",
    "\n",
    "  plt.tight_layout()\n",
    "  plt.show()"
   ]
  },
  {
   "cell_type": "code",
   "execution_count": 59,
   "id": "53e15098",
   "metadata": {
    "execution": {
     "iopub.execute_input": "2023-06-18T18:12:55.899050Z",
     "iopub.status.busy": "2023-06-18T18:12:55.898695Z",
     "iopub.status.idle": "2023-06-18T18:12:58.975664Z",
     "shell.execute_reply": "2023-06-18T18:12:58.973464Z"
    },
    "papermill": {
     "duration": 4.338183,
     "end_time": "2023-06-18T18:12:58.977865",
     "exception": false,
     "start_time": "2023-06-18T18:12:54.639682",
     "status": "completed"
    },
    "tags": []
   },
   "outputs": [
    {
     "data": {
      "image/png": "[encoded data removed]",
      "text/plain": [
       "<Figure size 1600x800 with 8 Axes>"
      ]
     },
     "metadata": {},
     "output_type": "display_data"
    }
   ],
   "source": [
    "plot_attention_weights(sentence,translated_tokens, attention_weights[0])"
   ]
  },
  {
   "cell_type": "markdown",
   "id": "bd6b0bb6",
   "metadata": {
    "papermill": {
     "duration": 1.262443,
     "end_time": "2023-06-18T18:13:01.624513",
     "exception": false,
     "start_time": "2023-06-18T18:13:00.362070",
     "status": "completed"
    },
    "tags": []
   },
   "source": [
    "# Exporting the model"
   ]
  },
  {
   "cell_type": "code",
   "execution_count": 60,
   "id": "67ae8483",
   "metadata": {
    "execution": {
     "iopub.execute_input": "2023-06-18T18:13:04.189878Z",
     "iopub.status.busy": "2023-06-18T18:13:04.189524Z",
     "iopub.status.idle": "2023-06-18T18:13:04.196069Z",
     "shell.execute_reply": "2023-06-18T18:13:04.195051Z"
    },
    "papermill": {
     "duration": 1.250605,
     "end_time": "2023-06-18T18:13:04.197958",
     "exception": false,
     "start_time": "2023-06-18T18:13:02.947353",
     "status": "completed"
    },
    "tags": []
   },
   "outputs": [],
   "source": [
    "class ExportTranslator(tf.Module):\n",
    "  def __init__(self, translator):\n",
    "    self.translator = translator\n",
    "\n",
    "  @tf.function(input_signature=[tf.TensorSpec(shape=[], dtype=tf.string)])\n",
    "  def __call__(self, sentence):\n",
    "    (result,\n",
    "     tokens,\n",
    "     attention_weights) = self.translator(sentence, max_length=MAX_TOKENS)\n",
    "\n",
    "    return result"
   ]
  },
  {
   "cell_type": "code",
   "execution_count": 61,
   "id": "9b7bcd68",
   "metadata": {
    "execution": {
     "iopub.execute_input": "2023-06-18T18:13:06.828331Z",
     "iopub.status.busy": "2023-06-18T18:13:06.827941Z",
     "iopub.status.idle": "2023-06-18T18:13:06.832426Z",
     "shell.execute_reply": "2023-06-18T18:13:06.831475Z"
    },
    "papermill": {
     "duration": 1.319528,
     "end_time": "2023-06-18T18:13:06.834410",
     "exception": false,
     "start_time": "2023-06-18T18:13:05.514882",
     "status": "completed"
    },
    "tags": []
   },
   "outputs": [],
   "source": [
    "translator = ExportTranslator(translator)"
   ]
  },
  {
   "cell_type": "code",
   "execution_count": 62,
   "id": "969814ff",
   "metadata": {
    "execution": {
     "iopub.execute_input": "2023-06-18T18:13:09.472859Z",
     "iopub.status.busy": "2023-06-18T18:13:09.472508Z",
     "iopub.status.idle": "2023-06-18T18:13:14.879000Z",
     "shell.execute_reply": "2023-06-18T18:13:14.878018Z"
    },
    "papermill": {
     "duration": 6.799588,
     "end_time": "2023-06-18T18:13:14.881309",
     "exception": false,
     "start_time": "2023-06-18T18:13:08.081721",
     "status": "completed"
    },
    "tags": []
   },
   "outputs": [
    {
     "data": {
      "text/plain": [
       "b'this is the first book i did .'"
      ]
     },
     "execution_count": 62,
     "metadata": {},
     "output_type": "execute_result"
    }
   ],
   "source": [
    "translator('este é o primeiro livro que eu fiz.').numpy()"
   ]
  },
  {
   "cell_type": "code",
   "execution_count": 63,
   "id": "b63214c0",
   "metadata": {
    "execution": {
     "iopub.execute_input": "2023-06-18T18:13:17.459131Z",
     "iopub.status.busy": "2023-06-18T18:13:17.458752Z",
     "iopub.status.idle": "2023-06-18T18:13:50.316424Z",
     "shell.execute_reply": "2023-06-18T18:13:50.315426Z"
    },
    "papermill": {
     "duration": 34.187004,
     "end_time": "2023-06-18T18:13:50.318951",
     "exception": false,
     "start_time": "2023-06-18T18:13:16.131947",
     "status": "completed"
    },
    "tags": []
   },
   "outputs": [],
   "source": [
    "tf.saved_model.save(translator, export_dir='pt_en_translator')"
   ]
  },
  {
   "cell_type": "code",
   "execution_count": 64,
   "id": "9c9521aa",
   "metadata": {
    "execution": {
     "iopub.execute_input": "2023-06-18T18:13:52.881307Z",
     "iopub.status.busy": "2023-06-18T18:13:52.880940Z",
     "iopub.status.idle": "2023-06-18T18:14:00.171840Z",
     "shell.execute_reply": "2023-06-18T18:14:00.170785Z"
    },
    "papermill": {
     "duration": 8.607112,
     "end_time": "2023-06-18T18:14:00.174028",
     "exception": false,
     "start_time": "2023-06-18T18:13:51.566916",
     "status": "completed"
    },
    "tags": []
   },
   "outputs": [
    {
     "name": "stdout",
     "output_type": "stream",
     "text": [
      "  adding: kaggle/working/pt_en_translator/ (stored 0%)\r\n",
      "  adding: kaggle/working/pt_en_translator/saved_model.pb (deflated 77%)\r\n",
      "  adding: kaggle/working/pt_en_translator/assets/ (stored 0%)\r\n",
      "  adding: kaggle/working/pt_en_translator/assets/pt_vocab.txt (deflated 57%)\r\n",
      "  adding: kaggle/working/pt_en_translator/assets/en_vocab.txt (deflated 54%)\r\n",
      "  adding: kaggle/working/pt_en_translator/variables/ (stored 0%)\r\n",
      "  adding: kaggle/working/pt_en_translator/variables/variables.data-00000-of-00001 (deflated 8%)\r\n",
      "  adding: kaggle/working/pt_en_translator/variables/variables.index (deflated 79%)\r\n",
      "  adding: kaggle/working/pt_en_translator/fingerprint.pb (stored 0%)\r\n"
     ]
    }
   ],
   "source": [
    "!zip -r file.zip '/kaggle/working/pt_en_translator'"
   ]
  },
  {
   "cell_type": "code",
   "execution_count": 65,
   "id": "d6042aeb",
   "metadata": {
    "execution": {
     "iopub.execute_input": "2023-06-18T18:14:02.735956Z",
     "iopub.status.busy": "2023-06-18T18:14:02.734892Z",
     "iopub.status.idle": "2023-06-18T18:14:03.771663Z",
     "shell.execute_reply": "2023-06-18T18:14:03.770510Z"
    },
    "papermill": {
     "duration": 2.351414,
     "end_time": "2023-06-18T18:14:03.774182",
     "exception": false,
     "start_time": "2023-06-18T18:14:01.422768",
     "status": "completed"
    },
    "tags": []
   },
   "outputs": [
    {
     "name": "stdout",
     "output_type": "stream",
     "text": [
      "111M\tfile.zip\r\n"
     ]
    }
   ],
   "source": [
    "!du -h *.zip"
   ]
  },
  {
   "cell_type": "markdown",
   "id": "3efa1cba",
   "metadata": {
    "papermill": {
     "duration": 1.308675,
     "end_time": "2023-06-18T18:14:06.327756",
     "exception": false,
     "start_time": "2023-06-18T18:14:05.019081",
     "status": "completed"
    },
    "tags": []
   },
   "source": [
    "# Reloaded Model"
   ]
  },
  {
   "cell_type": "code",
   "execution_count": 66,
   "id": "af9a74a2",
   "metadata": {
    "execution": {
     "iopub.execute_input": "2023-06-18T18:14:08.885114Z",
     "iopub.status.busy": "2023-06-18T18:14:08.884689Z",
     "iopub.status.idle": "2023-06-18T18:14:22.178932Z",
     "shell.execute_reply": "2023-06-18T18:14:22.178033Z"
    },
    "papermill": {
     "duration": 14.543393,
     "end_time": "2023-06-18T18:14:22.181271",
     "exception": false,
     "start_time": "2023-06-18T18:14:07.637878",
     "status": "completed"
    },
    "tags": []
   },
   "outputs": [],
   "source": [
    "reloaded_model = tf.saved_model.load('/kaggle/input/pt-en-translator/pt_en_translator')"
   ]
  },
  {
   "cell_type": "code",
   "execution_count": 67,
   "id": "0f45e60f",
   "metadata": {
    "execution": {
     "iopub.execute_input": "2023-06-18T18:14:24.838600Z",
     "iopub.status.busy": "2023-06-18T18:14:24.838249Z",
     "iopub.status.idle": "2023-06-18T18:14:26.896519Z",
     "shell.execute_reply": "2023-06-18T18:14:26.895559Z"
    },
    "papermill": {
     "duration": 3.309056,
     "end_time": "2023-06-18T18:14:26.898738",
     "exception": false,
     "start_time": "2023-06-18T18:14:23.589682",
     "status": "completed"
    },
    "tags": []
   },
   "outputs": [
    {
     "data": {
      "text/plain": [
       "b'ste and the first book i did .'"
      ]
     },
     "execution_count": 67,
     "metadata": {},
     "output_type": "execute_result"
    }
   ],
   "source": [
    "reloaded_model('ste é o primeiro livro que eu fiz.').numpy()"
   ]
  }
 ],
 "metadata": {
  "kernelspec": {
   "display_name": "Python 3",
   "language": "python",
   "name": "python3"
  },
  "language_info": {
   "codemirror_mode": {
    "name": "ipython",
    "version": 3
   },
   "file_extension": ".py",
   "mimetype": "text/x-python",
   "name": "python",
   "nbconvert_exporter": "python",
   "pygments_lexer": "ipython3",
   "version": "3.10.10"
  },
  "papermill": {
   "default_parameters": {},
   "duration": 3961.321095,
   "end_time": "2023-06-18T18:14:31.421910",
   "environment_variables": {},
   "exception": null,
   "input_path": "__notebook__.ipynb",
   "output_path": "__notebook__.ipynb",
   "parameters": {},
   "start_time": "2023-06-18T17:08:30.100815",
   "version": "2.4.0"
  },
  "widgets": {
   "application/vnd.jupyter.widget-state+json": {
    "state": {
     "02e4ada10210426789495016315171cd": {
      "model_module": "@jupyter-widgets/base",
      "model_module_version": "1.2.0",
      "model_name": "LayoutModel",
      "state": {
       "_model_module": "@jupyter-widgets/base",
       "_model_module_version": "1.2.0",
       "_model_name": "LayoutModel",
       "_view_count": null,
       "_view_module": "@jupyter-widgets/base",
       "_view_module_version": "1.2.0",
       "_view_name": "LayoutView",
       "align_content": null,
       "align_items": null,
       "align_self": null,
       "border": null,
       "bottom": null,
       "display": null,
       "flex": null,
       "flex_flow": null,
       "grid_area": null,
       "grid_auto_columns": null,
       "grid_auto_flow": null,
       "grid_auto_rows": null,
       "grid_column": null,
       "grid_gap": null,
       "grid_row": null,
       "grid_template_areas": null,
       "grid_template_columns": null,
       "grid_template_rows": null,
       "height": null,
       "justify_content": null,
       "justify_items": null,
       "left": null,
       "margin": null,
       "max_height": null,
       "max_width": null,
       "min_height": null,
       "min_width": null,
       "object_fit": null,
       "object_position": null,
       "order": null,
       "overflow": null,
       "overflow_x": null,
       "overflow_y": null,
       "padding": null,
       "right": null,
       "top": null,
       "visibility": null,
       "width": null
      }
     },
     "037815dac4b24f0f8821395620fcd113": {
      "model_module": "@jupyter-widgets/controls",
      "model_module_version": "1.5.0",
      "model_name": "HBoxModel",
      "state": {
       "_dom_classes": [],
       "_model_module": "@jupyter-widgets/controls",
       "_model_module_version": "1.5.0",
       "_model_name": "HBoxModel",
       "_view_count": null,
       "_view_module": "@jupyter-widgets/controls",
       "_view_module_version": "1.5.0",
       "_view_name": "HBoxView",
       "box_style": "",
       "children": [
        "IPY_MODEL_dec7a020c25e4033a6615acdb57ae628",
        "IPY_MODEL_eedfb607ddb84493b275e0f3145f1597",
        "IPY_MODEL_7cadcc92d41742528de133bbb302c3f1"
       ],
       "layout": "IPY_MODEL_81b9284e6af543538e0dd63d41b302d6"
      }
     },
     "080bd69d76e34feb96d586f78675c964": {
      "model_module": "@jupyter-widgets/controls",
      "model_module_version": "1.5.0",
      "model_name": "DescriptionStyleModel",
      "state": {
       "_model_module": "@jupyter-widgets/controls",
       "_model_module_version": "1.5.0",
       "_model_name": "DescriptionStyleModel",
       "_view_count": null,
       "_view_module": "@jupyter-widgets/base",
       "_view_module_version": "1.2.0",
       "_view_name": "StyleView",
       "description_width": ""
      }
     },
     "08fb35a4720a40a993e6e70df9264cdf": {
      "model_module": "@jupyter-widgets/controls",
      "model_module_version": "1.5.0",
      "model_name": "DescriptionStyleModel",
      "state": {
       "_model_module": "@jupyter-widgets/controls",
       "_model_module_version": "1.5.0",
       "_model_name": "DescriptionStyleModel",
       "_view_count": null,
       "_view_module": "@jupyter-widgets/base",
       "_view_module_version": "1.2.0",
       "_view_name": "StyleView",
       "description_width": ""
      }
     },
     "09c5a1878ef44353ba4383d2c2d69648": {
      "model_module": "@jupyter-widgets/controls",
      "model_module_version": "1.5.0",
      "model_name": "FloatProgressModel",
      "state": {
       "_dom_classes": [],
       "_model_module": "@jupyter-widgets/controls",
       "_model_module_version": "1.5.0",
       "_model_name": "FloatProgressModel",
       "_view_count": null,
       "_view_module": "@jupyter-widgets/controls",
       "_view_module_version": "1.5.0",
       "_view_name": "ProgressView",
       "bar_style": "",
       "description": "",
       "description_tooltip": null,
       "layout": "IPY_MODEL_a7bc2eeb5f6e475188e12d3a899b1039",
       "max": 3.0,
       "min": 0.0,
       "orientation": "horizontal",
       "style": "IPY_MODEL_30ca91360c9c459bb4312aa7dd2aa48c",
       "value": 3.0
      }
     },
     "0aabe2465b9346ffb174c5294424660b": {
      "model_module": "@jupyter-widgets/base",
      "model_module_version": "1.2.0",
      "model_name": "LayoutModel",
      "state": {
       "_model_module": "@jupyter-widgets/base",
       "_model_module_version": "1.2.0",
       "_model_name": "LayoutModel",
       "_view_count": null,
       "_view_module": "@jupyter-widgets/base",
       "_view_module_version": "1.2.0",
       "_view_name": "LayoutView",
       "align_content": null,
       "align_items": null,
       "align_self": null,
       "border": null,
       "bottom": null,
       "display": null,
       "flex": null,
       "flex_flow": null,
       "grid_area": null,
       "grid_auto_columns": null,
       "grid_auto_flow": null,
       "grid_auto_rows": null,
       "grid_column": null,
       "grid_gap": null,
       "grid_row": null,
       "grid_template_areas": null,
       "grid_template_columns": null,
       "grid_template_rows": null,
       "height": null,
       "justify_content": null,
       "justify_items": null,
       "left": null,
       "margin": null,
       "max_height": null,
       "max_width": null,
       "min_height": null,
       "min_width": null,
       "object_fit": null,
       "object_position": null,
       "order": null,
       "overflow": null,
       "overflow_x": null,
       "overflow_y": null,
       "padding": null,
       "right": null,
       "top": null,
       "visibility": null,
       "width": null
      }
     },
     "0c55cf79bc194f89b12faa597c2a4867": {
      "model_module": "@jupyter-widgets/controls",
      "model_module_version": "1.5.0",
      "model_name": "HTMLModel",
      "state": {
       "_dom_classes": [],
       "_model_module": "@jupyter-widgets/controls",
       "_model_module_version": "1.5.0",
       "_model_name": "HTMLModel",
       "_view_count": null,
       "_view_module": "@jupyter-widgets/controls",
       "_view_module_version": "1.5.0",
       "_view_name": "HTMLView",
       "description": "",
       "description_tooltip": null,
       "layout": "IPY_MODEL_0c9e2cf60d744580a6bda6266f0d9d66",
       "placeholder": "​",
       "style": "IPY_MODEL_20071966f41b4feb92d4857225376ce9",
       "value": "Generating splits...: 100%"
      }
     },
     "0c9e2cf60d744580a6bda6266f0d9d66": {
      "model_module": "@jupyter-widgets/base",
      "model_module_version": "1.2.0",
      "model_name": "LayoutModel",
      "state": {
       "_model_module": "@jupyter-widgets/base",
       "_model_module_version": "1.2.0",
       "_model_name": "LayoutModel",
       "_view_count": null,
       "_view_module": "@jupyter-widgets/base",
       "_view_module_version": "1.2.0",
       "_view_name": "LayoutView",
       "align_content": null,
       "align_items": null,
       "align_self": null,
       "border": null,
       "bottom": null,
       "display": null,
       "flex": null,
       "flex_flow": null,
       "grid_area": null,
       "grid_auto_columns": null,
       "grid_auto_flow": null,
       "grid_auto_rows": null,
       "grid_column": null,
       "grid_gap": null,
       "grid_row": null,
       "grid_template_areas": null,
       "grid_template_columns": null,
       "grid_template_rows": null,
       "height": null,
       "justify_content": null,
       "justify_items": null,
       "left": null,
       "margin": null,
       "max_height": null,
       "max_width": null,
       "min_height": null,
       "min_width": null,
       "object_fit": null,
       "object_position": null,
       "order": null,
       "overflow": null,
       "overflow_x": null,
       "overflow_y": null,
       "padding": null,
       "right": null,
       "top": null,
       "visibility": null,
       "width": null
      }
     },
     "0f51a45b633d49a7a53358fdabdf7681": {
      "model_module": "@jupyter-widgets/controls",
      "model_module_version": "1.5.0",
      "model_name": "DescriptionStyleModel",
      "state": {
       "_model_module": "@jupyter-widgets/controls",
       "_model_module_version": "1.5.0",
       "_model_name": "DescriptionStyleModel",
       "_view_count": null,
       "_view_module": "@jupyter-widgets/base",
       "_view_module_version": "1.2.0",
       "_view_name": "StyleView",
       "description_width": ""
      }
     },
     "1035873c3c5d4f0caaa7001bf1f86b3a": {
      "model_module": "@jupyter-widgets/base",
      "model_module_version": "1.2.0",
      "model_name": "LayoutModel",
      "state": {
       "_model_module": "@jupyter-widgets/base",
       "_model_module_version": "1.2.0",
       "_model_name": "LayoutModel",
       "_view_count": null,
       "_view_module": "@jupyter-widgets/base",
       "_view_module_version": "1.2.0",
       "_view_name": "LayoutView",
       "align_content": null,
       "align_items": null,
       "align_self": null,
       "border": null,
       "bottom": null,
       "display": null,
       "flex": null,
       "flex_flow": null,
       "grid_area": null,
       "grid_auto_columns": null,
       "grid_auto_flow": null,
       "grid_auto_rows": null,
       "grid_column": null,
       "grid_gap": null,
       "grid_row": null,
       "grid_template_areas": null,
       "grid_template_columns": null,
       "grid_template_rows": null,
       "height": null,
       "justify_content": null,
       "justify_items": null,
       "left": null,
       "margin": null,
       "max_height": null,
       "max_width": null,
       "min_height": null,
       "min_width": null,
       "object_fit": null,
       "object_position": null,
       "order": null,
       "overflow": null,
       "overflow_x": null,
       "overflow_y": null,
       "padding": null,
       "right": null,
       "top": null,
       "visibility": null,
       "width": null
      }
     },
     "194def62bfd441a58fa1128ab1a71491": {
      "model_module": "@jupyter-widgets/base",
      "model_module_version": "1.2.0",
      "model_name": "LayoutModel",
      "state": {
       "_model_module": "@jupyter-widgets/base",
       "_model_module_version": "1.2.0",
       "_model_name": "LayoutModel",
       "_view_count": null,
       "_view_module": "@jupyter-widgets/base",
       "_view_module_version": "1.2.0",
       "_view_name": "LayoutView",
       "align_content": null,
       "align_items": null,
       "align_self": null,
       "border": null,
       "bottom": null,
       "display": null,
       "flex": null,
       "flex_flow": null,
       "grid_area": null,
       "grid_auto_columns": null,
       "grid_auto_flow": null,
       "grid_auto_rows": null,
       "grid_column": null,
       "grid_gap": null,
       "grid_row": null,
       "grid_template_areas": null,
       "grid_template_columns": null,
       "grid_template_rows": null,
       "height": null,
       "justify_content": null,
       "justify_items": null,
       "left": null,
       "margin": null,
       "max_height": null,
       "max_width": null,
       "min_height": null,
       "min_width": null,
       "object_fit": null,
       "object_position": null,
       "order": null,
       "overflow": null,
       "overflow_x": null,
       "overflow_y": null,
       "padding": null,
       "right": null,
       "top": null,
       "visibility": null,
       "width": null
      }
     },
     "1c89dfe9a24844f7b79665cf3d299f4e": {
      "model_module": "@jupyter-widgets/base",
      "model_module_version": "1.2.0",
      "model_name": "LayoutModel",
      "state": {
       "_model_module": "@jupyter-widgets/base",
       "_model_module_version": "1.2.0",
       "_model_name": "LayoutModel",
       "_view_count": null,
       "_view_module": "@jupyter-widgets/base",
       "_view_module_version": "1.2.0",
       "_view_name": "LayoutView",
       "align_content": null,
       "align_items": null,
       "align_self": null,
       "border": null,
       "bottom": null,
       "display": null,
       "flex": null,
       "flex_flow": null,
       "grid_area": null,
       "grid_auto_columns": null,
       "grid_auto_flow": null,
       "grid_auto_rows": null,
       "grid_column": null,
       "grid_gap": null,
       "grid_row": null,
       "grid_template_areas": null,
       "grid_template_columns": null,
       "grid_template_rows": null,
       "height": null,
       "justify_content": null,
       "justify_items": null,
       "left": null,
       "margin": null,
       "max_height": null,
       "max_width": null,
       "min_height": null,
       "min_width": null,
       "object_fit": null,
       "object_position": null,
       "order": null,
       "overflow": null,
       "overflow_x": null,
       "overflow_y": null,
       "padding": null,
       "right": null,
       "top": null,
       "visibility": null,
       "width": null
      }
     },
     "20071966f41b4feb92d4857225376ce9": {
      "model_module": "@jupyter-widgets/controls",
      "model_module_version": "1.5.0",
      "model_name": "DescriptionStyleModel",
      "state": {
       "_model_module": "@jupyter-widgets/controls",
       "_model_module_version": "1.5.0",
       "_model_name": "DescriptionStyleModel",
       "_view_count": null,
       "_view_module": "@jupyter-widgets/base",
       "_view_module_version": "1.2.0",
       "_view_name": "StyleView",
       "description_width": ""
      }
     },
     "2672251245494174be7e690addd32762": {
      "model_module": "@jupyter-widgets/controls",
      "model_module_version": "1.5.0",
      "model_name": "HTMLModel",
      "state": {
       "_dom_classes": [],
       "_model_module": "@jupyter-widgets/controls",
       "_model_module_version": "1.5.0",
       "_model_name": "HTMLModel",
       "_view_count": null,
       "_view_module": "@jupyter-widgets/controls",
       "_view_module_version": "1.5.0",
       "_view_name": "HTMLView",
       "description": "",
       "description_tooltip": null,
       "layout": "IPY_MODEL_46c5ce97e1f24e98962a26f786e11356",
       "placeholder": "​",
       "style": "IPY_MODEL_f148e0add75f4669b080bb23a2fb43c7",
       "value": "Shuffling /root/tensorflow_datasets/ted_hrlr_translate/pt_to_en/1.0.0.incompleteFGUE6I/ted_hrlr_translate-validation.tfrecord*...:   0%"
      }
     },
     "28775c3cd8564b1aafdd2b4bfbc40bbf": {
      "model_module": "@jupyter-widgets/controls",
      "model_module_version": "1.5.0",
      "model_name": "HBoxModel",
      "state": {
       "_dom_classes": [],
       "_model_module": "@jupyter-widgets/controls",
       "_model_module_version": "1.5.0",
       "_model_name": "HBoxModel",
       "_view_count": null,
       "_view_module": "@jupyter-widgets/controls",
       "_view_module_version": "1.5.0",
       "_view_name": "HBoxView",
       "box_style": "",
       "children": [
        "IPY_MODEL_9e185f68910941a5937d81a853465861",
        "IPY_MODEL_c0a63e13e62c4d67b6a1f9c4ecba821a",
        "IPY_MODEL_e14cd7e149fb469d8253f4678a75a85c"
       ],
       "layout": "IPY_MODEL_80a8d3014e774dd18ebb3283a93fa19b"
      }
     },
     "287954e4aaf74d74a686587f0d53f936": {
      "model_module": "@jupyter-widgets/controls",
      "model_module_version": "1.5.0",
      "model_name": "ProgressStyleModel",
      "state": {
       "_model_module": "@jupyter-widgets/controls",
       "_model_module_version": "1.5.0",
       "_model_name": "ProgressStyleModel",
       "_view_count": null,
       "_view_module": "@jupyter-widgets/base",
       "_view_module_version": "1.2.0",
       "_view_name": "StyleView",
       "bar_color": null,
       "description_width": ""
      }
     },
     "303b6c625a484170a496fd057cecb84b": {
      "model_module": "@jupyter-widgets/base",
      "model_module_version": "1.2.0",
      "model_name": "LayoutModel",
      "state": {
       "_model_module": "@jupyter-widgets/base",
       "_model_module_version": "1.2.0",
       "_model_name": "LayoutModel",
       "_view_count": null,
       "_view_module": "@jupyter-widgets/base",
       "_view_module_version": "1.2.0",
       "_view_name": "LayoutView",
       "align_content": null,
       "align_items": null,
       "align_self": null,
       "border": null,
       "bottom": null,
       "display": null,
       "flex": null,
       "flex_flow": null,
       "grid_area": null,
       "grid_auto_columns": null,
       "grid_auto_flow": null,
       "grid_auto_rows": null,
       "grid_column": null,
       "grid_gap": null,
       "grid_row": null,
       "grid_template_areas": null,
       "grid_template_columns": null,
       "grid_template_rows": null,
       "height": null,
       "justify_content": null,
       "justify_items": null,
       "left": null,
       "margin": null,
       "max_height": null,
       "max_width": null,
       "min_height": null,
       "min_width": null,
       "object_fit": null,
       "object_position": null,
       "order": null,
       "overflow": null,
       "overflow_x": null,
       "overflow_y": null,
       "padding": null,
       "right": null,
       "top": null,
       "visibility": null,
       "width": null
      }
     },
     "30ca91360c9c459bb4312aa7dd2aa48c": {
      "model_module": "@jupyter-widgets/controls",
      "model_module_version": "1.5.0",
      "model_name": "ProgressStyleModel",
      "state": {
       "_model_module": "@jupyter-widgets/controls",
       "_model_module_version": "1.5.0",
       "_model_name": "ProgressStyleModel",
       "_view_count": null,
       "_view_module": "@jupyter-widgets/base",
       "_view_module_version": "1.2.0",
       "_view_name": "StyleView",
       "bar_color": null,
       "description_width": ""
      }
     },
     "30db771fd4404666ae228c8efe58a420": {
      "model_module": "@jupyter-widgets/controls",
      "model_module_version": "1.5.0",
      "model_name": "DescriptionStyleModel",
      "state": {
       "_model_module": "@jupyter-widgets/controls",
       "_model_module_version": "1.5.0",
       "_model_name": "DescriptionStyleModel",
       "_view_count": null,
       "_view_module": "@jupyter-widgets/base",
       "_view_module_version": "1.2.0",
       "_view_name": "StyleView",
       "description_width": ""
      }
     },
     "3714163ff878465e88a4ed95bf0f9384": {
      "model_module": "@jupyter-widgets/base",
      "model_module_version": "1.2.0",
      "model_name": "LayoutModel",
      "state": {
       "_model_module": "@jupyter-widgets/base",
       "_model_module_version": "1.2.0",
       "_model_name": "LayoutModel",
       "_view_count": null,
       "_view_module": "@jupyter-widgets/base",
       "_view_module_version": "1.2.0",
       "_view_name": "LayoutView",
       "align_content": null,
       "align_items": null,
       "align_self": null,
       "border": null,
       "bottom": null,
       "display": null,
       "flex": null,
       "flex_flow": null,
       "grid_area": null,
       "grid_auto_columns": null,
       "grid_auto_flow": null,
       "grid_auto_rows": null,
       "grid_column": null,
       "grid_gap": null,
       "grid_row": null,
       "grid_template_areas": null,
       "grid_template_columns": null,
       "grid_template_rows": null,
       "height": null,
       "justify_content": null,
       "justify_items": null,
       "left": null,
       "margin": null,
       "max_height": null,
       "max_width": null,
       "min_height": null,
       "min_width": null,
       "object_fit": null,
       "object_position": null,
       "order": null,
       "overflow": null,
       "overflow_x": null,
       "overflow_y": null,
       "padding": null,
       "right": null,
       "top": null,
       "visibility": null,
       "width": null
      }
     },
     "397bc820e509458ca5221fd827e5c624": {
      "model_module": "@jupyter-widgets/controls",
      "model_module_version": "1.5.0",
      "model_name": "FloatProgressModel",
      "state": {
       "_dom_classes": [],
       "_model_module": "@jupyter-widgets/controls",
       "_model_module_version": "1.5.0",
       "_model_name": "FloatProgressModel",
       "_view_count": null,
       "_view_module": "@jupyter-widgets/controls",
       "_view_module_version": "1.5.0",
       "_view_name": "ProgressView",
       "bar_style": "",
       "description": "",
       "description_tooltip": null,
       "layout": "IPY_MODEL_8461ebc8d7d74bd68da56bc6b0a42270",
       "max": 1803.0,
       "min": 0.0,
       "orientation": "horizontal",
       "style": "IPY_MODEL_dbad359bb22a464890ebc891ff90c01d",
       "value": 1803.0
      }
     },
     "3a9e710e0369418494090c45b97920cf": {
      "model_module": "@jupyter-widgets/controls",
      "model_module_version": "1.5.0",
      "model_name": "DescriptionStyleModel",
      "state": {
       "_model_module": "@jupyter-widgets/controls",
       "_model_module_version": "1.5.0",
       "_model_name": "DescriptionStyleModel",
       "_view_count": null,
       "_view_module": "@jupyter-widgets/base",
       "_view_module_version": "1.2.0",
       "_view_name": "StyleView",
       "description_width": ""
      }
     },
     "3b8921342573427b9cea26a4fadb37a2": {
      "model_module": "@jupyter-widgets/controls",
      "model_module_version": "1.5.0",
      "model_name": "DescriptionStyleModel",
      "state": {
       "_model_module": "@jupyter-widgets/controls",
       "_model_module_version": "1.5.0",
       "_model_name": "DescriptionStyleModel",
       "_view_count": null,
       "_view_module": "@jupyter-widgets/base",
       "_view_module_version": "1.2.0",
       "_view_name": "StyleView",
       "description_width": ""
      }
     },
     "44bff8a1e91c49be98886537437f0c27": {
      "model_module": "@jupyter-widgets/controls",
      "model_module_version": "1.5.0",
      "model_name": "DescriptionStyleModel",
      "state": {
       "_model_module": "@jupyter-widgets/controls",
       "_model_module_version": "1.5.0",
       "_model_name": "DescriptionStyleModel",
       "_view_count": null,
       "_view_module": "@jupyter-widgets/base",
       "_view_module_version": "1.2.0",
       "_view_name": "StyleView",
       "description_width": ""
      }
     },
     "45cc035ff6f44d92a22cfa12c34c79c3": {
      "model_module": "@jupyter-widgets/controls",
      "model_module_version": "1.5.0",
      "model_name": "HTMLModel",
      "state": {
       "_dom_classes": [],
       "_model_module": "@jupyter-widgets/controls",
       "_model_module_version": "1.5.0",
       "_model_name": "HTMLModel",
       "_view_count": null,
       "_view_module": "@jupyter-widgets/controls",
       "_view_module_version": "1.5.0",
       "_view_name": "HTMLView",
       "description": "",
       "description_tooltip": null,
       "layout": "IPY_MODEL_3714163ff878465e88a4ed95bf0f9384",
       "placeholder": "​",
       "style": "IPY_MODEL_750b2be72ac343b09a9cf81c5ed50d7d",
       "value": " 1/1 [00:14&lt;00:00, 11.21s/ url]"
      }
     },
     "46c5ce97e1f24e98962a26f786e11356": {
      "model_module": "@jupyter-widgets/base",
      "model_module_version": "1.2.0",
      "model_name": "LayoutModel",
      "state": {
       "_model_module": "@jupyter-widgets/base",
       "_model_module_version": "1.2.0",
       "_model_name": "LayoutModel",
       "_view_count": null,
       "_view_module": "@jupyter-widgets/base",
       "_view_module_version": "1.2.0",
       "_view_name": "LayoutView",
       "align_content": null,
       "align_items": null,
       "align_self": null,
       "border": null,
       "bottom": null,
       "display": null,
       "flex": null,
       "flex_flow": null,
       "grid_area": null,
       "grid_auto_columns": null,
       "grid_auto_flow": null,
       "grid_auto_rows": null,
       "grid_column": null,
       "grid_gap": null,
       "grid_row": null,
       "grid_template_areas": null,
       "grid_template_columns": null,
       "grid_template_rows": null,
       "height": null,
       "justify_content": null,
       "justify_items": null,
       "left": null,
       "margin": null,
       "max_height": null,
       "max_width": null,
       "min_height": null,
       "min_width": null,
       "object_fit": null,
       "object_position": null,
       "order": null,
       "overflow": null,
       "overflow_x": null,
       "overflow_y": null,
       "padding": null,
       "right": null,
       "top": null,
       "visibility": null,
       "width": null
      }
     },
     "48293876001c479e8c4d4a1d69a21cfd": {
      "model_module": "@jupyter-widgets/controls",
      "model_module_version": "1.5.0",
      "model_name": "HTMLModel",
      "state": {
       "_dom_classes": [],
       "_model_module": "@jupyter-widgets/controls",
       "_model_module_version": "1.5.0",
       "_model_name": "HTMLModel",
       "_view_count": null,
       "_view_module": "@jupyter-widgets/controls",
       "_view_module_version": "1.5.0",
       "_view_name": "HTMLView",
       "description": "",
       "description_tooltip": null,
       "layout": "IPY_MODEL_73ee0509401d46658df4069e37db8899",
       "placeholder": "​",
       "style": "IPY_MODEL_08fb35a4720a40a993e6e70df9264cdf",
       "value": "Generating validation examples...:  93%"
      }
     },
     "4a21c1569bc04667a36f3dd5b9b3949e": {
      "model_module": "@jupyter-widgets/controls",
      "model_module_version": "1.5.0",
      "model_name": "HTMLModel",
      "state": {
       "_dom_classes": [],
       "_model_module": "@jupyter-widgets/controls",
       "_model_module_version": "1.5.0",
       "_model_name": "HTMLModel",
       "_view_count": null,
       "_view_module": "@jupyter-widgets/controls",
       "_view_module_version": "1.5.0",
       "_view_name": "HTMLView",
       "description": "",
       "description_tooltip": null,
       "layout": "IPY_MODEL_0aabe2465b9346ffb174c5294424660b",
       "placeholder": "​",
       "style": "IPY_MODEL_3a9e710e0369418494090c45b97920cf",
       "value": " 1158/1803 [00:00&lt;00:00, 11573.42 examples/s]"
      }
     },
     "4d8098f230a142829e5c41a48c546c6e": {
      "model_module": "@jupyter-widgets/controls",
      "model_module_version": "1.5.0",
      "model_name": "DescriptionStyleModel",
      "state": {
       "_model_module": "@jupyter-widgets/controls",
       "_model_module_version": "1.5.0",
       "_model_name": "DescriptionStyleModel",
       "_view_count": null,
       "_view_module": "@jupyter-widgets/base",
       "_view_module_version": "1.2.0",
       "_view_name": "StyleView",
       "description_width": ""
      }
     },
     "4f72fcd0611c48b589e20a5730cebe60": {
      "model_module": "@jupyter-widgets/controls",
      "model_module_version": "1.5.0",
      "model_name": "HBoxModel",
      "state": {
       "_dom_classes": [],
       "_model_module": "@jupyter-widgets/controls",
       "_model_module_version": "1.5.0",
       "_model_name": "HBoxModel",
       "_view_count": null,
       "_view_module": "@jupyter-widgets/controls",
       "_view_module_version": "1.5.0",
       "_view_name": "HBoxView",
       "box_style": "",
       "children": [
        "IPY_MODEL_dd0fb9d746d445adacb0f9536745341d",
        "IPY_MODEL_5b848491ea0c4069a4fe8a58db201a96",
        "IPY_MODEL_644b806769b54359a197d73a71dc2a09"
       ],
       "layout": "IPY_MODEL_ce11892f3a9b4298a459642f09215509"
      }
     },
     "4f86a1e250f4478dbea174afbe04b56c": {
      "model_module": "@jupyter-widgets/controls",
      "model_module_version": "1.5.0",
      "model_name": "DescriptionStyleModel",
      "state": {
       "_model_module": "@jupyter-widgets/controls",
       "_model_module_version": "1.5.0",
       "_model_name": "DescriptionStyleModel",
       "_view_count": null,
       "_view_module": "@jupyter-widgets/base",
       "_view_module_version": "1.2.0",
       "_view_name": "StyleView",
       "description_width": ""
      }
     },
     "5370b1b3f45b48819eb2ea0946f90950": {
      "model_module": "@jupyter-widgets/controls",
      "model_module_version": "1.5.0",
      "model_name": "FloatProgressModel",
      "state": {
       "_dom_classes": [],
       "_model_module": "@jupyter-widgets/controls",
       "_model_module_version": "1.5.0",
       "_model_name": "FloatProgressModel",
       "_view_count": null,
       "_view_module": "@jupyter-widgets/controls",
       "_view_module_version": "1.5.0",
       "_view_name": "ProgressView",
       "bar_style": "success",
       "description": "",
       "description_tooltip": null,
       "layout": "IPY_MODEL_dc54c6aca89641dfabba293708211384",
       "max": 1.0,
       "min": 0.0,
       "orientation": "horizontal",
       "style": "IPY_MODEL_626056c5d6054341a87c19e54c668e51",
       "value": 1.0
      }
     },
     "571738f4a5c948a9b6127c0508ab1a20": {
      "model_module": "@jupyter-widgets/controls",
      "model_module_version": "1.5.0",
      "model_name": "DescriptionStyleModel",
      "state": {
       "_model_module": "@jupyter-widgets/controls",
       "_model_module_version": "1.5.0",
       "_model_name": "DescriptionStyleModel",
       "_view_count": null,
       "_view_module": "@jupyter-widgets/base",
       "_view_module_version": "1.2.0",
       "_view_name": "StyleView",
       "description_width": ""
      }
     },
     "5b848491ea0c4069a4fe8a58db201a96": {
      "model_module": "@jupyter-widgets/controls",
      "model_module_version": "1.5.0",
      "model_name": "FloatProgressModel",
      "state": {
       "_dom_classes": [],
       "_model_module": "@jupyter-widgets/controls",
       "_model_module_version": "1.5.0",
       "_model_name": "FloatProgressModel",
       "_view_count": null,
       "_view_module": "@jupyter-widgets/controls",
       "_view_module_version": "1.5.0",
       "_view_name": "ProgressView",
       "bar_style": "",
       "description": "",
       "description_tooltip": null,
       "layout": "IPY_MODEL_194def62bfd441a58fa1128ab1a71491",
       "max": 51785.0,
       "min": 0.0,
       "orientation": "horizontal",
       "style": "IPY_MODEL_76dfefbd0bcd4a0384e05a382606a88e",
       "value": 51785.0
      }
     },
     "5fff37abc654428eb8c6e15132dbd0d7": {
      "model_module": "@jupyter-widgets/controls",
      "model_module_version": "1.5.0",
      "model_name": "HTMLModel",
      "state": {
       "_dom_classes": [],
       "_model_module": "@jupyter-widgets/controls",
       "_model_module_version": "1.5.0",
       "_model_name": "HTMLModel",
       "_view_count": null,
       "_view_module": "@jupyter-widgets/controls",
       "_view_module_version": "1.5.0",
       "_view_name": "HTMLView",
       "description": "",
       "description_tooltip": null,
       "layout": "IPY_MODEL_e19e8b7ac4344520aece4a28036349e9",
       "placeholder": "​",
       "style": "IPY_MODEL_30db771fd4404666ae228c8efe58a420",
       "value": "Dl Size...: 100%"
      }
     },
     "626056c5d6054341a87c19e54c668e51": {
      "model_module": "@jupyter-widgets/controls",
      "model_module_version": "1.5.0",
      "model_name": "ProgressStyleModel",
      "state": {
       "_model_module": "@jupyter-widgets/controls",
       "_model_module_version": "1.5.0",
       "_model_name": "ProgressStyleModel",
       "_view_count": null,
       "_view_module": "@jupyter-widgets/base",
       "_view_module_version": "1.2.0",
       "_view_name": "StyleView",
       "bar_color": null,
       "description_width": ""
      }
     },
     "644b806769b54359a197d73a71dc2a09": {
      "model_module": "@jupyter-widgets/controls",
      "model_module_version": "1.5.0",
      "model_name": "HTMLModel",
      "state": {
       "_dom_classes": [],
       "_model_module": "@jupyter-widgets/controls",
       "_model_module_version": "1.5.0",
       "_model_name": "HTMLModel",
       "_view_count": null,
       "_view_module": "@jupyter-widgets/controls",
       "_view_module_version": "1.5.0",
       "_view_name": "HTMLView",
       "description": "",
       "description_tooltip": null,
       "layout": "IPY_MODEL_b85fad24765444b3812edda5ec57a427",
       "placeholder": "​",
       "style": "IPY_MODEL_923583dc7e7e49339e7ccc507f48e057",
       "value": " 19142/51785 [00:00&lt;00:00, 191399.19 examples/s]"
      }
     },
     "6f4206ddfacc43bbae1ac1296cf980c6": {
      "model_module": "@jupyter-widgets/base",
      "model_module_version": "1.2.0",
      "model_name": "LayoutModel",
      "state": {
       "_model_module": "@jupyter-widgets/base",
       "_model_module_version": "1.2.0",
       "_model_name": "LayoutModel",
       "_view_count": null,
       "_view_module": "@jupyter-widgets/base",
       "_view_module_version": "1.2.0",
       "_view_name": "LayoutView",
       "align_content": null,
       "align_items": null,
       "align_self": null,
       "border": null,
       "bottom": null,
       "display": null,
       "flex": null,
       "flex_flow": null,
       "grid_area": null,
       "grid_auto_columns": null,
       "grid_auto_flow": null,
       "grid_auto_rows": null,
       "grid_column": null,
       "grid_gap": null,
       "grid_row": null,
       "grid_template_areas": null,
       "grid_template_columns": null,
       "grid_template_rows": null,
       "height": null,
       "justify_content": null,
       "justify_items": null,
       "left": null,
       "margin": null,
       "max_height": null,
       "max_width": null,
       "min_height": null,
       "min_width": null,
       "object_fit": null,
       "object_position": null,
       "order": null,
       "overflow": null,
       "overflow_x": null,
       "overflow_y": null,
       "padding": null,
       "right": null,
       "top": null,
       "visibility": null,
       "width": null
      }
     },
     "72a120253b084ac0b7b745f7184af43e": {
      "model_module": "@jupyter-widgets/base",
      "model_module_version": "1.2.0",
      "model_name": "LayoutModel",
      "state": {
       "_model_module": "@jupyter-widgets/base",
       "_model_module_version": "1.2.0",
       "_model_name": "LayoutModel",
       "_view_count": null,
       "_view_module": "@jupyter-widgets/base",
       "_view_module_version": "1.2.0",
       "_view_name": "LayoutView",
       "align_content": null,
       "align_items": null,
       "align_self": null,
       "border": null,
       "bottom": null,
       "display": null,
       "flex": null,
       "flex_flow": null,
       "grid_area": null,
       "grid_auto_columns": null,
       "grid_auto_flow": null,
       "grid_auto_rows": null,
       "grid_column": null,
       "grid_gap": null,
       "grid_row": null,
       "grid_template_areas": null,
       "grid_template_columns": null,
       "grid_template_rows": null,
       "height": null,
       "justify_content": null,
       "justify_items": null,
       "left": null,
       "margin": null,
       "max_height": null,
       "max_width": null,
       "min_height": null,
       "min_width": null,
       "object_fit": null,
       "object_position": null,
       "order": null,
       "overflow": null,
       "overflow_x": null,
       "overflow_y": null,
       "padding": null,
       "right": null,
       "top": null,
       "visibility": null,
       "width": null
      }
     },
     "73ee0509401d46658df4069e37db8899": {
      "model_module": "@jupyter-widgets/base",
      "model_module_version": "1.2.0",
      "model_name": "LayoutModel",
      "state": {
       "_model_module": "@jupyter-widgets/base",
       "_model_module_version": "1.2.0",
       "_model_name": "LayoutModel",
       "_view_count": null,
       "_view_module": "@jupyter-widgets/base",
       "_view_module_version": "1.2.0",
       "_view_name": "LayoutView",
       "align_content": null,
       "align_items": null,
       "align_self": null,
       "border": null,
       "bottom": null,
       "display": null,
       "flex": null,
       "flex_flow": null,
       "grid_area": null,
       "grid_auto_columns": null,
       "grid_auto_flow": null,
       "grid_auto_rows": null,
       "grid_column": null,
       "grid_gap": null,
       "grid_row": null,
       "grid_template_areas": null,
       "grid_template_columns": null,
       "grid_template_rows": null,
       "height": null,
       "justify_content": null,
       "justify_items": null,
       "left": null,
       "margin": null,
       "max_height": null,
       "max_width": null,
       "min_height": null,
       "min_width": null,
       "object_fit": null,
       "object_position": null,
       "order": null,
       "overflow": null,
       "overflow_x": null,
       "overflow_y": null,
       "padding": null,
       "right": null,
       "top": null,
       "visibility": null,
       "width": null
      }
     },
     "750b2be72ac343b09a9cf81c5ed50d7d": {
      "model_module": "@jupyter-widgets/controls",
      "model_module_version": "1.5.0",
      "model_name": "DescriptionStyleModel",
      "state": {
       "_model_module": "@jupyter-widgets/controls",
       "_model_module_version": "1.5.0",
       "_model_name": "DescriptionStyleModel",
       "_view_count": null,
       "_view_module": "@jupyter-widgets/base",
       "_view_module_version": "1.2.0",
       "_view_name": "StyleView",
       "description_width": ""
      }
     },
     "75c00c184d4a4a0c86788d5e86e5dd69": {
      "model_module": "@jupyter-widgets/controls",
      "model_module_version": "1.5.0",
      "model_name": "DescriptionStyleModel",
      "state": {
       "_model_module": "@jupyter-widgets/controls",
       "_model_module_version": "1.5.0",
       "_model_name": "DescriptionStyleModel",
       "_view_count": null,
       "_view_module": "@jupyter-widgets/base",
       "_view_module_version": "1.2.0",
       "_view_name": "StyleView",
       "description_width": ""
      }
     },
     "76dfefbd0bcd4a0384e05a382606a88e": {
      "model_module": "@jupyter-widgets/controls",
      "model_module_version": "1.5.0",
      "model_name": "ProgressStyleModel",
      "state": {
       "_model_module": "@jupyter-widgets/controls",
       "_model_module_version": "1.5.0",
       "_model_name": "ProgressStyleModel",
       "_view_count": null,
       "_view_module": "@jupyter-widgets/base",
       "_view_module_version": "1.2.0",
       "_view_name": "StyleView",
       "bar_color": null,
       "description_width": ""
      }
     },
     "7710505335ad493a8a419bae651ec3a0": {
      "model_module": "@jupyter-widgets/controls",
      "model_module_version": "1.5.0",
      "model_name": "FloatProgressModel",
      "state": {
       "_dom_classes": [],
       "_model_module": "@jupyter-widgets/controls",
       "_model_module_version": "1.5.0",
       "_model_name": "FloatProgressModel",
       "_view_count": null,
       "_view_module": "@jupyter-widgets/controls",
       "_view_module_version": "1.5.0",
       "_view_name": "ProgressView",
       "bar_style": "success",
       "description": "",
       "description_tooltip": null,
       "layout": "IPY_MODEL_d4cdc6ca32234422b15c2ca6bf5b173d",
       "max": 1.0,
       "min": 0.0,
       "orientation": "horizontal",
       "style": "IPY_MODEL_c93dd087fecc4eb79321836a5affd410",
       "value": 1.0
      }
     },
     "772f0f52ce994367a3c039e7f4a574f1": {
      "model_module": "@jupyter-widgets/controls",
      "model_module_version": "1.5.0",
      "model_name": "HTMLModel",
      "state": {
       "_dom_classes": [],
       "_model_module": "@jupyter-widgets/controls",
       "_model_module_version": "1.5.0",
       "_model_name": "HTMLModel",
       "_view_count": null,
       "_view_module": "@jupyter-widgets/controls",
       "_view_module_version": "1.5.0",
       "_view_name": "HTMLView",
       "description": "",
       "description_tooltip": null,
       "layout": "IPY_MODEL_83e493807a1146fa92c5b54d2d615979",
       "placeholder": "​",
       "style": "IPY_MODEL_571738f4a5c948a9b6127c0508ab1a20",
       "value": " 0/1803 [00:00&lt;?, ? examples/s]"
      }
     },
     "777b8bf8b2064434b44d6c1ab3c997b8": {
      "model_module": "@jupyter-widgets/base",
      "model_module_version": "1.2.0",
      "model_name": "LayoutModel",
      "state": {
       "_model_module": "@jupyter-widgets/base",
       "_model_module_version": "1.2.0",
       "_model_name": "LayoutModel",
       "_view_count": null,
       "_view_module": "@jupyter-widgets/base",
       "_view_module_version": "1.2.0",
       "_view_name": "LayoutView",
       "align_content": null,
       "align_items": null,
       "align_self": null,
       "border": null,
       "bottom": null,
       "display": null,
       "flex": null,
       "flex_flow": null,
       "grid_area": null,
       "grid_auto_columns": null,
       "grid_auto_flow": null,
       "grid_auto_rows": null,
       "grid_column": null,
       "grid_gap": null,
       "grid_row": null,
       "grid_template_areas": null,
       "grid_template_columns": null,
       "grid_template_rows": null,
       "height": null,
       "justify_content": null,
       "justify_items": null,
       "left": null,
       "margin": null,
       "max_height": null,
       "max_width": null,
       "min_height": null,
       "min_width": null,
       "object_fit": null,
       "object_position": null,
       "order": null,
       "overflow": null,
       "overflow_x": null,
       "overflow_y": null,
       "padding": null,
       "right": null,
       "top": null,
       "visibility": "hidden",
       "width": null
      }
     },
     "7cadcc92d41742528de133bbb302c3f1": {
      "model_module": "@jupyter-widgets/controls",
      "model_module_version": "1.5.0",
      "model_name": "HTMLModel",
      "state": {
       "_dom_classes": [],
       "_model_module": "@jupyter-widgets/controls",
       "_model_module_version": "1.5.0",
       "_model_name": "HTMLModel",
       "_view_count": null,
       "_view_module": "@jupyter-widgets/controls",
       "_view_module_version": "1.5.0",
       "_view_name": "HTMLView",
       "description": "",
       "description_tooltip": null,
       "layout": "IPY_MODEL_02e4ada10210426789495016315171cd",
       "placeholder": "​",
       "style": "IPY_MODEL_080bd69d76e34feb96d586f78675c964",
       "value": " 112/112 [00:14&lt;00:00, 14.10s/ file]"
      }
     },
     "80a8d3014e774dd18ebb3283a93fa19b": {
      "model_module": "@jupyter-widgets/base",
      "model_module_version": "1.2.0",
      "model_name": "LayoutModel",
      "state": {
       "_model_module": "@jupyter-widgets/base",
       "_model_module_version": "1.2.0",
       "_model_name": "LayoutModel",
       "_view_count": null,
       "_view_module": "@jupyter-widgets/base",
       "_view_module_version": "1.2.0",
       "_view_name": "LayoutView",
       "align_content": null,
       "align_items": null,
       "align_self": null,
       "border": null,
       "bottom": null,
       "display": null,
       "flex": null,
       "flex_flow": null,
       "grid_area": null,
       "grid_auto_columns": null,
       "grid_auto_flow": null,
       "grid_auto_rows": null,
       "grid_column": null,
       "grid_gap": null,
       "grid_row": null,
       "grid_template_areas": null,
       "grid_template_columns": null,
       "grid_template_rows": null,
       "height": null,
       "justify_content": null,
       "justify_items": null,
       "left": null,
       "margin": null,
       "max_height": null,
       "max_width": null,
       "min_height": null,
       "min_width": null,
       "object_fit": null,
       "object_position": null,
       "order": null,
       "overflow": null,
       "overflow_x": null,
       "overflow_y": null,
       "padding": null,
       "right": null,
       "top": null,
       "visibility": "hidden",
       "width": null
      }
     },
     "80dc8571ad984490ae23be9be6e12496": {
      "model_module": "@jupyter-widgets/controls",
      "model_module_version": "1.5.0",
      "model_name": "ProgressStyleModel",
      "state": {
       "_model_module": "@jupyter-widgets/controls",
       "_model_module_version": "1.5.0",
       "_model_name": "ProgressStyleModel",
       "_view_count": null,
       "_view_module": "@jupyter-widgets/base",
       "_view_module_version": "1.2.0",
       "_view_name": "StyleView",
       "bar_color": null,
       "description_width": ""
      }
     },
     "81b9284e6af543538e0dd63d41b302d6": {
      "model_module": "@jupyter-widgets/base",
      "model_module_version": "1.2.0",
      "model_name": "LayoutModel",
      "state": {
       "_model_module": "@jupyter-widgets/base",
       "_model_module_version": "1.2.0",
       "_model_name": "LayoutModel",
       "_view_count": null,
       "_view_module": "@jupyter-widgets/base",
       "_view_module_version": "1.2.0",
       "_view_name": "LayoutView",
       "align_content": null,
       "align_items": null,
       "align_self": null,
       "border": null,
       "bottom": null,
       "display": null,
       "flex": null,
       "flex_flow": null,
       "grid_area": null,
       "grid_auto_columns": null,
       "grid_auto_flow": null,
       "grid_auto_rows": null,
       "grid_column": null,
       "grid_gap": null,
       "grid_row": null,
       "grid_template_areas": null,
       "grid_template_columns": null,
       "grid_template_rows": null,
       "height": null,
       "justify_content": null,
       "justify_items": null,
       "left": null,
       "margin": null,
       "max_height": null,
       "max_width": null,
       "min_height": null,
       "min_width": null,
       "object_fit": null,
       "object_position": null,
       "order": null,
       "overflow": null,
       "overflow_x": null,
       "overflow_y": null,
       "padding": null,
       "right": null,
       "top": null,
       "visibility": null,
       "width": null
      }
     },
     "832960cce591440eb1b89c52298e980d": {
      "model_module": "@jupyter-widgets/controls",
      "model_module_version": "1.5.0",
      "model_name": "ProgressStyleModel",
      "state": {
       "_model_module": "@jupyter-widgets/controls",
       "_model_module_version": "1.5.0",
       "_model_name": "ProgressStyleModel",
       "_view_count": null,
       "_view_module": "@jupyter-widgets/base",
       "_view_module_version": "1.2.0",
       "_view_name": "StyleView",
       "bar_color": null,
       "description_width": ""
      }
     },
     "8362ff93e3434773a61c9fa2c2a8160f": {
      "model_module": "@jupyter-widgets/controls",
      "model_module_version": "1.5.0",
      "model_name": "HBoxModel",
      "state": {
       "_dom_classes": [],
       "_model_module": "@jupyter-widgets/controls",
       "_model_module_version": "1.5.0",
       "_model_name": "HBoxModel",
       "_view_count": null,
       "_view_module": "@jupyter-widgets/controls",
       "_view_module_version": "1.5.0",
       "_view_name": "HBoxView",
       "box_style": "",
       "children": [
        "IPY_MODEL_c6cd7acd34b648d09f1e58e5b39f3fcc",
        "IPY_MODEL_7710505335ad493a8a419bae651ec3a0",
        "IPY_MODEL_45cc035ff6f44d92a22cfa12c34c79c3"
       ],
       "layout": "IPY_MODEL_d4144f3a591546cb8c069f7267fbef54"
      }
     },
     "83e493807a1146fa92c5b54d2d615979": {
      "model_module": "@jupyter-widgets/base",
      "model_module_version": "1.2.0",
      "model_name": "LayoutModel",
      "state": {
       "_model_module": "@jupyter-widgets/base",
       "_model_module_version": "1.2.0",
       "_model_name": "LayoutModel",
       "_view_count": null,
       "_view_module": "@jupyter-widgets/base",
       "_view_module_version": "1.2.0",
       "_view_name": "LayoutView",
       "align_content": null,
       "align_items": null,
       "align_self": null,
       "border": null,
       "bottom": null,
       "display": null,
       "flex": null,
       "flex_flow": null,
       "grid_area": null,
       "grid_auto_columns": null,
       "grid_auto_flow": null,
       "grid_auto_rows": null,
       "grid_column": null,
       "grid_gap": null,
       "grid_row": null,
       "grid_template_areas": null,
       "grid_template_columns": null,
       "grid_template_rows": null,
       "height": null,
       "justify_content": null,
       "justify_items": null,
       "left": null,
       "margin": null,
       "max_height": null,
       "max_width": null,
       "min_height": null,
       "min_width": null,
       "object_fit": null,
       "object_position": null,
       "order": null,
       "overflow": null,
       "overflow_x": null,
       "overflow_y": null,
       "padding": null,
       "right": null,
       "top": null,
       "visibility": null,
       "width": null
      }
     },
     "8461ebc8d7d74bd68da56bc6b0a42270": {
      "model_module": "@jupyter-widgets/base",
      "model_module_version": "1.2.0",
      "model_name": "LayoutModel",
      "state": {
       "_model_module": "@jupyter-widgets/base",
       "_model_module_version": "1.2.0",
       "_model_name": "LayoutModel",
       "_view_count": null,
       "_view_module": "@jupyter-widgets/base",
       "_view_module_version": "1.2.0",
       "_view_name": "LayoutView",
       "align_content": null,
       "align_items": null,
       "align_self": null,
       "border": null,
       "bottom": null,
       "display": null,
       "flex": null,
       "flex_flow": null,
       "grid_area": null,
       "grid_auto_columns": null,
       "grid_auto_flow": null,
       "grid_auto_rows": null,
       "grid_column": null,
       "grid_gap": null,
       "grid_row": null,
       "grid_template_areas": null,
       "grid_template_columns": null,
       "grid_template_rows": null,
       "height": null,
       "justify_content": null,
       "justify_items": null,
       "left": null,
       "margin": null,
       "max_height": null,
       "max_width": null,
       "min_height": null,
       "min_width": null,
       "object_fit": null,
       "object_position": null,
       "order": null,
       "overflow": null,
       "overflow_x": null,
       "overflow_y": null,
       "padding": null,
       "right": null,
       "top": null,
       "visibility": null,
       "width": null
      }
     },
     "8833138bcbe24cc7818b35737354977d": {
      "model_module": "@jupyter-widgets/controls",
      "model_module_version": "1.5.0",
      "model_name": "HBoxModel",
      "state": {
       "_dom_classes": [],
       "_model_module": "@jupyter-widgets/controls",
       "_model_module_version": "1.5.0",
       "_model_name": "HBoxModel",
       "_view_count": null,
       "_view_module": "@jupyter-widgets/controls",
       "_view_module_version": "1.5.0",
       "_view_name": "HBoxView",
       "box_style": "",
       "children": [
        "IPY_MODEL_fa39fb52e9cf42289699d557ea0fa764",
        "IPY_MODEL_397bc820e509458ca5221fd827e5c624",
        "IPY_MODEL_772f0f52ce994367a3c039e7f4a574f1"
       ],
       "layout": "IPY_MODEL_e97afcbe51944a229e174fad2572f6e2"
      }
     },
     "8d5f71fa2a7d45f693c63d66243dc24c": {
      "model_module": "@jupyter-widgets/controls",
      "model_module_version": "1.5.0",
      "model_name": "DescriptionStyleModel",
      "state": {
       "_model_module": "@jupyter-widgets/controls",
       "_model_module_version": "1.5.0",
       "_model_name": "DescriptionStyleModel",
       "_view_count": null,
       "_view_module": "@jupyter-widgets/base",
       "_view_module_version": "1.2.0",
       "_view_name": "StyleView",
       "description_width": ""
      }
     },
     "8e89fce642a84c60881cd685375130c8": {
      "model_module": "@jupyter-widgets/base",
      "model_module_version": "1.2.0",
      "model_name": "LayoutModel",
      "state": {
       "_model_module": "@jupyter-widgets/base",
       "_model_module_version": "1.2.0",
       "_model_name": "LayoutModel",
       "_view_count": null,
       "_view_module": "@jupyter-widgets/base",
       "_view_module_version": "1.2.0",
       "_view_name": "LayoutView",
       "align_content": null,
       "align_items": null,
       "align_self": null,
       "border": null,
       "bottom": null,
       "display": null,
       "flex": null,
       "flex_flow": null,
       "grid_area": null,
       "grid_auto_columns": null,
       "grid_auto_flow": null,
       "grid_auto_rows": null,
       "grid_column": null,
       "grid_gap": null,
       "grid_row": null,
       "grid_template_areas": null,
       "grid_template_columns": null,
       "grid_template_rows": null,
       "height": null,
       "justify_content": null,
       "justify_items": null,
       "left": null,
       "margin": null,
       "max_height": null,
       "max_width": null,
       "min_height": null,
       "min_width": null,
       "object_fit": null,
       "object_position": null,
       "order": null,
       "overflow": null,
       "overflow_x": null,
       "overflow_y": null,
       "padding": null,
       "right": null,
       "top": null,
       "visibility": null,
       "width": null
      }
     },
     "923583dc7e7e49339e7ccc507f48e057": {
      "model_module": "@jupyter-widgets/controls",
      "model_module_version": "1.5.0",
      "model_name": "DescriptionStyleModel",
      "state": {
       "_model_module": "@jupyter-widgets/controls",
       "_model_module_version": "1.5.0",
       "_model_name": "DescriptionStyleModel",
       "_view_count": null,
       "_view_module": "@jupyter-widgets/base",
       "_view_module_version": "1.2.0",
       "_view_name": "StyleView",
       "description_width": ""
      }
     },
     "95149b1de6684e92927b934ddf2ef632": {
      "model_module": "@jupyter-widgets/base",
      "model_module_version": "1.2.0",
      "model_name": "LayoutModel",
      "state": {
       "_model_module": "@jupyter-widgets/base",
       "_model_module_version": "1.2.0",
       "_model_name": "LayoutModel",
       "_view_count": null,
       "_view_module": "@jupyter-widgets/base",
       "_view_module_version": "1.2.0",
       "_view_name": "LayoutView",
       "align_content": null,
       "align_items": null,
       "align_self": null,
       "border": null,
       "bottom": null,
       "display": null,
       "flex": null,
       "flex_flow": null,
       "grid_area": null,
       "grid_auto_columns": null,
       "grid_auto_flow": null,
       "grid_auto_rows": null,
       "grid_column": null,
       "grid_gap": null,
       "grid_row": null,
       "grid_template_areas": null,
       "grid_template_columns": null,
       "grid_template_rows": null,
       "height": null,
       "justify_content": null,
       "justify_items": null,
       "left": null,
       "margin": null,
       "max_height": null,
       "max_width": null,
       "min_height": null,
       "min_width": null,
       "object_fit": null,
       "object_position": null,
       "order": null,
       "overflow": null,
       "overflow_x": null,
       "overflow_y": null,
       "padding": null,
       "right": null,
       "top": null,
       "visibility": null,
       "width": null
      }
     },
     "9720f23e18d8429ca28001a5408b4e43": {
      "model_module": "@jupyter-widgets/base",
      "model_module_version": "1.2.0",
      "model_name": "LayoutModel",
      "state": {
       "_model_module": "@jupyter-widgets/base",
       "_model_module_version": "1.2.0",
       "_model_name": "LayoutModel",
       "_view_count": null,
       "_view_module": "@jupyter-widgets/base",
       "_view_module_version": "1.2.0",
       "_view_name": "LayoutView",
       "align_content": null,
       "align_items": null,
       "align_self": null,
       "border": null,
       "bottom": null,
       "display": null,
       "flex": null,
       "flex_flow": null,
       "grid_area": null,
       "grid_auto_columns": null,
       "grid_auto_flow": null,
       "grid_auto_rows": null,
       "grid_column": null,
       "grid_gap": null,
       "grid_row": null,
       "grid_template_areas": null,
       "grid_template_columns": null,
       "grid_template_rows": null,
       "height": null,
       "justify_content": null,
       "justify_items": null,
       "left": null,
       "margin": null,
       "max_height": null,
       "max_width": null,
       "min_height": null,
       "min_width": null,
       "object_fit": null,
       "object_position": null,
       "order": null,
       "overflow": null,
       "overflow_x": null,
       "overflow_y": null,
       "padding": null,
       "right": null,
       "top": null,
       "visibility": "hidden",
       "width": null
      }
     },
     "99a0ee2ab3ee48c9a3e5a1497122f618": {
      "model_module": "@jupyter-widgets/controls",
      "model_module_version": "1.5.0",
      "model_name": "DescriptionStyleModel",
      "state": {
       "_model_module": "@jupyter-widgets/controls",
       "_model_module_version": "1.5.0",
       "_model_name": "DescriptionStyleModel",
       "_view_count": null,
       "_view_module": "@jupyter-widgets/base",
       "_view_module_version": "1.2.0",
       "_view_name": "StyleView",
       "description_width": ""
      }
     },
     "9c2b02cf48754dc0bcdb4c18b6113c0f": {
      "model_module": "@jupyter-widgets/base",
      "model_module_version": "1.2.0",
      "model_name": "LayoutModel",
      "state": {
       "_model_module": "@jupyter-widgets/base",
       "_model_module_version": "1.2.0",
       "_model_name": "LayoutModel",
       "_view_count": null,
       "_view_module": "@jupyter-widgets/base",
       "_view_module_version": "1.2.0",
       "_view_name": "LayoutView",
       "align_content": null,
       "align_items": null,
       "align_self": null,
       "border": null,
       "bottom": null,
       "display": null,
       "flex": null,
       "flex_flow": null,
       "grid_area": null,
       "grid_auto_columns": null,
       "grid_auto_flow": null,
       "grid_auto_rows": null,
       "grid_column": null,
       "grid_gap": null,
       "grid_row": null,
       "grid_template_areas": null,
       "grid_template_columns": null,
       "grid_template_rows": null,
       "height": null,
       "justify_content": null,
       "justify_items": null,
       "left": null,
       "margin": null,
       "max_height": null,
       "max_width": null,
       "min_height": null,
       "min_width": null,
       "object_fit": null,
       "object_position": null,
       "order": null,
       "overflow": null,
       "overflow_x": null,
       "overflow_y": null,
       "padding": null,
       "right": null,
       "top": null,
       "visibility": null,
       "width": "20px"
      }
     },
     "9e185f68910941a5937d81a853465861": {
      "model_module": "@jupyter-widgets/controls",
      "model_module_version": "1.5.0",
      "model_name": "HTMLModel",
      "state": {
       "_dom_classes": [],
       "_model_module": "@jupyter-widgets/controls",
       "_model_module_version": "1.5.0",
       "_model_name": "HTMLModel",
       "_view_count": null,
       "_view_module": "@jupyter-widgets/controls",
       "_view_module_version": "1.5.0",
       "_view_name": "HTMLView",
       "description": "",
       "description_tooltip": null,
       "layout": "IPY_MODEL_be81a028965140278e3324bb8e13c0b1",
       "placeholder": "​",
       "style": "IPY_MODEL_4d8098f230a142829e5c41a48c546c6e",
       "value": "Generating train examples...:  98%"
      }
     },
     "9f136423d76e4bf68ac7b562a9d0e52a": {
      "model_module": "@jupyter-widgets/controls",
      "model_module_version": "1.5.0",
      "model_name": "HTMLModel",
      "state": {
       "_dom_classes": [],
       "_model_module": "@jupyter-widgets/controls",
       "_model_module_version": "1.5.0",
       "_model_name": "HTMLModel",
       "_view_count": null,
       "_view_module": "@jupyter-widgets/controls",
       "_view_module_version": "1.5.0",
       "_view_name": "HTMLView",
       "description": "",
       "description_tooltip": null,
       "layout": "IPY_MODEL_d0fcb819f1534b4ea591f97ad36b6924",
       "placeholder": "​",
       "style": "IPY_MODEL_8d5f71fa2a7d45f693c63d66243dc24c",
       "value": " 3/3 [00:04&lt;00:00,  1.17s/ splits]"
      }
     },
     "a520f5ee465e47f4927e8ccaf1152a12": {
      "model_module": "@jupyter-widgets/controls",
      "model_module_version": "1.5.0",
      "model_name": "HTMLModel",
      "state": {
       "_dom_classes": [],
       "_model_module": "@jupyter-widgets/controls",
       "_model_module_version": "1.5.0",
       "_model_name": "HTMLModel",
       "_view_count": null,
       "_view_module": "@jupyter-widgets/controls",
       "_view_module_version": "1.5.0",
       "_view_name": "HTMLView",
       "description": "",
       "description_tooltip": null,
       "layout": "IPY_MODEL_de991098f6ba4dbb902e9bb46fc603b7",
       "placeholder": "​",
       "style": "IPY_MODEL_d5f8e8e2ad904bec98808e47c8bb8919",
       "value": "Generating test examples...:  64%"
      }
     },
     "a7bc2eeb5f6e475188e12d3a899b1039": {
      "model_module": "@jupyter-widgets/base",
      "model_module_version": "1.2.0",
      "model_name": "LayoutModel",
      "state": {
       "_model_module": "@jupyter-widgets/base",
       "_model_module_version": "1.2.0",
       "_model_name": "LayoutModel",
       "_view_count": null,
       "_view_module": "@jupyter-widgets/base",
       "_view_module_version": "1.2.0",
       "_view_name": "LayoutView",
       "align_content": null,
       "align_items": null,
       "align_self": null,
       "border": null,
       "bottom": null,
       "display": null,
       "flex": null,
       "flex_flow": null,
       "grid_area": null,
       "grid_auto_columns": null,
       "grid_auto_flow": null,
       "grid_auto_rows": null,
       "grid_column": null,
       "grid_gap": null,
       "grid_row": null,
       "grid_template_areas": null,
       "grid_template_columns": null,
       "grid_template_rows": null,
       "height": null,
       "justify_content": null,
       "justify_items": null,
       "left": null,
       "margin": null,
       "max_height": null,
       "max_width": null,
       "min_height": null,
       "min_width": null,
       "object_fit": null,
       "object_position": null,
       "order": null,
       "overflow": null,
       "overflow_x": null,
       "overflow_y": null,
       "padding": null,
       "right": null,
       "top": null,
       "visibility": null,
       "width": null
      }
     },
     "b5329d2b40f44a85886cb9b0d4f7932a": {
      "model_module": "@jupyter-widgets/base",
      "model_module_version": "1.2.0",
      "model_name": "LayoutModel",
      "state": {
       "_model_module": "@jupyter-widgets/base",
       "_model_module_version": "1.2.0",
       "_model_name": "LayoutModel",
       "_view_count": null,
       "_view_module": "@jupyter-widgets/base",
       "_view_module_version": "1.2.0",
       "_view_name": "LayoutView",
       "align_content": null,
       "align_items": null,
       "align_self": null,
       "border": null,
       "bottom": null,
       "display": null,
       "flex": null,
       "flex_flow": null,
       "grid_area": null,
       "grid_auto_columns": null,
       "grid_auto_flow": null,
       "grid_auto_rows": null,
       "grid_column": null,
       "grid_gap": null,
       "grid_row": null,
       "grid_template_areas": null,
       "grid_template_columns": null,
       "grid_template_rows": null,
       "height": null,
       "justify_content": null,
       "justify_items": null,
       "left": null,
       "margin": null,
       "max_height": null,
       "max_width": null,
       "min_height": null,
       "min_width": null,
       "object_fit": null,
       "object_position": null,
       "order": null,
       "overflow": null,
       "overflow_x": null,
       "overflow_y": null,
       "padding": null,
       "right": null,
       "top": null,
       "visibility": null,
       "width": null
      }
     },
     "b85df33efc3142b3b9eea6e91a1a84d0": {
      "model_module": "@jupyter-widgets/controls",
      "model_module_version": "1.5.0",
      "model_name": "HTMLModel",
      "state": {
       "_dom_classes": [],
       "_model_module": "@jupyter-widgets/controls",
       "_model_module_version": "1.5.0",
       "_model_name": "HTMLModel",
       "_view_count": null,
       "_view_module": "@jupyter-widgets/controls",
       "_view_module_version": "1.5.0",
       "_view_name": "HTMLView",
       "description": "",
       "description_tooltip": null,
       "layout": "IPY_MODEL_ef379a856b4f40f497361216ea06153d",
       "placeholder": "​",
       "style": "IPY_MODEL_75c00c184d4a4a0c86788d5e86e5dd69",
       "value": " 0/1193 [00:00&lt;?, ? examples/s]"
      }
     },
     "b85fad24765444b3812edda5ec57a427": {
      "model_module": "@jupyter-widgets/base",
      "model_module_version": "1.2.0",
      "model_name": "LayoutModel",
      "state": {
       "_model_module": "@jupyter-widgets/base",
       "_model_module_version": "1.2.0",
       "_model_name": "LayoutModel",
       "_view_count": null,
       "_view_module": "@jupyter-widgets/base",
       "_view_module_version": "1.2.0",
       "_view_name": "LayoutView",
       "align_content": null,
       "align_items": null,
       "align_self": null,
       "border": null,
       "bottom": null,
       "display": null,
       "flex": null,
       "flex_flow": null,
       "grid_area": null,
       "grid_auto_columns": null,
       "grid_auto_flow": null,
       "grid_auto_rows": null,
       "grid_column": null,
       "grid_gap": null,
       "grid_row": null,
       "grid_template_areas": null,
       "grid_template_columns": null,
       "grid_template_rows": null,
       "height": null,
       "justify_content": null,
       "justify_items": null,
       "left": null,
       "margin": null,
       "max_height": null,
       "max_width": null,
       "min_height": null,
       "min_width": null,
       "object_fit": null,
       "object_position": null,
       "order": null,
       "overflow": null,
       "overflow_x": null,
       "overflow_y": null,
       "padding": null,
       "right": null,
       "top": null,
       "visibility": null,
       "width": null
      }
     },
     "b8c965709542475baee297de373b0b93": {
      "model_module": "@jupyter-widgets/controls",
      "model_module_version": "1.5.0",
      "model_name": "HBoxModel",
      "state": {
       "_dom_classes": [],
       "_model_module": "@jupyter-widgets/controls",
       "_model_module_version": "1.5.0",
       "_model_name": "HBoxModel",
       "_view_count": null,
       "_view_module": "@jupyter-widgets/controls",
       "_view_module_version": "1.5.0",
       "_view_name": "HBoxView",
       "box_style": "",
       "children": [
        "IPY_MODEL_2672251245494174be7e690addd32762",
        "IPY_MODEL_d1bcf5a0f45d4878b3d86d9ac226c294",
        "IPY_MODEL_b85df33efc3142b3b9eea6e91a1a84d0"
       ],
       "layout": "IPY_MODEL_777b8bf8b2064434b44d6c1ab3c997b8"
      }
     },
     "be81a028965140278e3324bb8e13c0b1": {
      "model_module": "@jupyter-widgets/base",
      "model_module_version": "1.2.0",
      "model_name": "LayoutModel",
      "state": {
       "_model_module": "@jupyter-widgets/base",
       "_model_module_version": "1.2.0",
       "_model_name": "LayoutModel",
       "_view_count": null,
       "_view_module": "@jupyter-widgets/base",
       "_view_module_version": "1.2.0",
       "_view_name": "LayoutView",
       "align_content": null,
       "align_items": null,
       "align_self": null,
       "border": null,
       "bottom": null,
       "display": null,
       "flex": null,
       "flex_flow": null,
       "grid_area": null,
       "grid_auto_columns": null,
       "grid_auto_flow": null,
       "grid_auto_rows": null,
       "grid_column": null,
       "grid_gap": null,
       "grid_row": null,
       "grid_template_areas": null,
       "grid_template_columns": null,
       "grid_template_rows": null,
       "height": null,
       "justify_content": null,
       "justify_items": null,
       "left": null,
       "margin": null,
       "max_height": null,
       "max_width": null,
       "min_height": null,
       "min_width": null,
       "object_fit": null,
       "object_position": null,
       "order": null,
       "overflow": null,
       "overflow_x": null,
       "overflow_y": null,
       "padding": null,
       "right": null,
       "top": null,
       "visibility": null,
       "width": null
      }
     },
     "c0a63e13e62c4d67b6a1f9c4ecba821a": {
      "model_module": "@jupyter-widgets/controls",
      "model_module_version": "1.5.0",
      "model_name": "FloatProgressModel",
      "state": {
       "_dom_classes": [],
       "_model_module": "@jupyter-widgets/controls",
       "_model_module_version": "1.5.0",
       "_model_name": "FloatProgressModel",
       "_view_count": null,
       "_view_module": "@jupyter-widgets/controls",
       "_view_module_version": "1.5.0",
       "_view_name": "ProgressView",
       "bar_style": "",
       "description": "",
       "description_tooltip": null,
       "layout": "IPY_MODEL_b5329d2b40f44a85886cb9b0d4f7932a",
       "max": 51785.0,
       "min": 0.0,
       "orientation": "horizontal",
       "style": "IPY_MODEL_80dc8571ad984490ae23be9be6e12496",
       "value": 51785.0
      }
     },
     "c6cd7acd34b648d09f1e58e5b39f3fcc": {
      "model_module": "@jupyter-widgets/controls",
      "model_module_version": "1.5.0",
      "model_name": "HTMLModel",
      "state": {
       "_dom_classes": [],
       "_model_module": "@jupyter-widgets/controls",
       "_model_module_version": "1.5.0",
       "_model_name": "HTMLModel",
       "_view_count": null,
       "_view_module": "@jupyter-widgets/controls",
       "_view_module_version": "1.5.0",
       "_view_name": "HTMLView",
       "description": "",
       "description_tooltip": null,
       "layout": "IPY_MODEL_e748b2a895ce4d1490cdc1fece0a8fa4",
       "placeholder": "​",
       "style": "IPY_MODEL_99a0ee2ab3ee48c9a3e5a1497122f618",
       "value": "Dl Completed...: 100%"
      }
     },
     "c93dd087fecc4eb79321836a5affd410": {
      "model_module": "@jupyter-widgets/controls",
      "model_module_version": "1.5.0",
      "model_name": "ProgressStyleModel",
      "state": {
       "_model_module": "@jupyter-widgets/controls",
       "_model_module_version": "1.5.0",
       "_model_name": "ProgressStyleModel",
       "_view_count": null,
       "_view_module": "@jupyter-widgets/base",
       "_view_module_version": "1.2.0",
       "_view_name": "StyleView",
       "bar_color": null,
       "description_width": ""
      }
     },
     "caebf13ecc0b429b8468d43e391d4d58": {
      "model_module": "@jupyter-widgets/base",
      "model_module_version": "1.2.0",
      "model_name": "LayoutModel",
      "state": {
       "_model_module": "@jupyter-widgets/base",
       "_model_module_version": "1.2.0",
       "_model_name": "LayoutModel",
       "_view_count": null,
       "_view_module": "@jupyter-widgets/base",
       "_view_module_version": "1.2.0",
       "_view_name": "LayoutView",
       "align_content": null,
       "align_items": null,
       "align_self": null,
       "border": null,
       "bottom": null,
       "display": null,
       "flex": null,
       "flex_flow": null,
       "grid_area": null,
       "grid_auto_columns": null,
       "grid_auto_flow": null,
       "grid_auto_rows": null,
       "grid_column": null,
       "grid_gap": null,
       "grid_row": null,
       "grid_template_areas": null,
       "grid_template_columns": null,
       "grid_template_rows": null,
       "height": null,
       "justify_content": null,
       "justify_items": null,
       "left": null,
       "margin": null,
       "max_height": null,
       "max_width": null,
       "min_height": null,
       "min_width": null,
       "object_fit": null,
       "object_position": null,
       "order": null,
       "overflow": null,
       "overflow_x": null,
       "overflow_y": null,
       "padding": null,
       "right": null,
       "top": null,
       "visibility": "hidden",
       "width": null
      }
     },
     "cca400b8b80742a9b02fe9014ec7c081": {
      "model_module": "@jupyter-widgets/controls",
      "model_module_version": "1.5.0",
      "model_name": "DescriptionStyleModel",
      "state": {
       "_model_module": "@jupyter-widgets/controls",
       "_model_module_version": "1.5.0",
       "_model_name": "DescriptionStyleModel",
       "_view_count": null,
       "_view_module": "@jupyter-widgets/base",
       "_view_module_version": "1.2.0",
       "_view_name": "StyleView",
       "description_width": ""
      }
     },
     "ce11892f3a9b4298a459642f09215509": {
      "model_module": "@jupyter-widgets/base",
      "model_module_version": "1.2.0",
      "model_name": "LayoutModel",
      "state": {
       "_model_module": "@jupyter-widgets/base",
       "_model_module_version": "1.2.0",
       "_model_name": "LayoutModel",
       "_view_count": null,
       "_view_module": "@jupyter-widgets/base",
       "_view_module_version": "1.2.0",
       "_view_name": "LayoutView",
       "align_content": null,
       "align_items": null,
       "align_self": null,
       "border": null,
       "bottom": null,
       "display": null,
       "flex": null,
       "flex_flow": null,
       "grid_area": null,
       "grid_auto_columns": null,
       "grid_auto_flow": null,
       "grid_auto_rows": null,
       "grid_column": null,
       "grid_gap": null,
       "grid_row": null,
       "grid_template_areas": null,
       "grid_template_columns": null,
       "grid_template_rows": null,
       "height": null,
       "justify_content": null,
       "justify_items": null,
       "left": null,
       "margin": null,
       "max_height": null,
       "max_width": null,
       "min_height": null,
       "min_width": null,
       "object_fit": null,
       "object_position": null,
       "order": null,
       "overflow": null,
       "overflow_x": null,
       "overflow_y": null,
       "padding": null,
       "right": null,
       "top": null,
       "visibility": "hidden",
       "width": null
      }
     },
     "ce328620781b48dcbaf4f2ab23532b8d": {
      "model_module": "@jupyter-widgets/base",
      "model_module_version": "1.2.0",
      "model_name": "LayoutModel",
      "state": {
       "_model_module": "@jupyter-widgets/base",
       "_model_module_version": "1.2.0",
       "_model_name": "LayoutModel",
       "_view_count": null,
       "_view_module": "@jupyter-widgets/base",
       "_view_module_version": "1.2.0",
       "_view_name": "LayoutView",
       "align_content": null,
       "align_items": null,
       "align_self": null,
       "border": null,
       "bottom": null,
       "display": null,
       "flex": null,
       "flex_flow": null,
       "grid_area": null,
       "grid_auto_columns": null,
       "grid_auto_flow": null,
       "grid_auto_rows": null,
       "grid_column": null,
       "grid_gap": null,
       "grid_row": null,
       "grid_template_areas": null,
       "grid_template_columns": null,
       "grid_template_rows": null,
       "height": null,
       "justify_content": null,
       "justify_items": null,
       "left": null,
       "margin": null,
       "max_height": null,
       "max_width": null,
       "min_height": null,
       "min_width": null,
       "object_fit": null,
       "object_position": null,
       "order": null,
       "overflow": null,
       "overflow_x": null,
       "overflow_y": null,
       "padding": null,
       "right": null,
       "top": null,
       "visibility": null,
       "width": null
      }
     },
     "d0207b0d7b7648cbb67a272b7cac4cee": {
      "model_module": "@jupyter-widgets/base",
      "model_module_version": "1.2.0",
      "model_name": "LayoutModel",
      "state": {
       "_model_module": "@jupyter-widgets/base",
       "_model_module_version": "1.2.0",
       "_model_name": "LayoutModel",
       "_view_count": null,
       "_view_module": "@jupyter-widgets/base",
       "_view_module_version": "1.2.0",
       "_view_name": "LayoutView",
       "align_content": null,
       "align_items": null,
       "align_self": null,
       "border": null,
       "bottom": null,
       "display": null,
       "flex": null,
       "flex_flow": null,
       "grid_area": null,
       "grid_auto_columns": null,
       "grid_auto_flow": null,
       "grid_auto_rows": null,
       "grid_column": null,
       "grid_gap": null,
       "grid_row": null,
       "grid_template_areas": null,
       "grid_template_columns": null,
       "grid_template_rows": null,
       "height": null,
       "justify_content": null,
       "justify_items": null,
       "left": null,
       "margin": null,
       "max_height": null,
       "max_width": null,
       "min_height": null,
       "min_width": null,
       "object_fit": null,
       "object_position": null,
       "order": null,
       "overflow": null,
       "overflow_x": null,
       "overflow_y": null,
       "padding": null,
       "right": null,
       "top": null,
       "visibility": "hidden",
       "width": null
      }
     },
     "d0fcb819f1534b4ea591f97ad36b6924": {
      "model_module": "@jupyter-widgets/base",
      "model_module_version": "1.2.0",
      "model_name": "LayoutModel",
      "state": {
       "_model_module": "@jupyter-widgets/base",
       "_model_module_version": "1.2.0",
       "_model_name": "LayoutModel",
       "_view_count": null,
       "_view_module": "@jupyter-widgets/base",
       "_view_module_version": "1.2.0",
       "_view_name": "LayoutView",
       "align_content": null,
       "align_items": null,
       "align_self": null,
       "border": null,
       "bottom": null,
       "display": null,
       "flex": null,
       "flex_flow": null,
       "grid_area": null,
       "grid_auto_columns": null,
       "grid_auto_flow": null,
       "grid_auto_rows": null,
       "grid_column": null,
       "grid_gap": null,
       "grid_row": null,
       "grid_template_areas": null,
       "grid_template_columns": null,
       "grid_template_rows": null,
       "height": null,
       "justify_content": null,
       "justify_items": null,
       "left": null,
       "margin": null,
       "max_height": null,
       "max_width": null,
       "min_height": null,
       "min_width": null,
       "object_fit": null,
       "object_position": null,
       "order": null,
       "overflow": null,
       "overflow_x": null,
       "overflow_y": null,
       "padding": null,
       "right": null,
       "top": null,
       "visibility": null,
       "width": null
      }
     },
     "d1bcf5a0f45d4878b3d86d9ac226c294": {
      "model_module": "@jupyter-widgets/controls",
      "model_module_version": "1.5.0",
      "model_name": "FloatProgressModel",
      "state": {
       "_dom_classes": [],
       "_model_module": "@jupyter-widgets/controls",
       "_model_module_version": "1.5.0",
       "_model_name": "FloatProgressModel",
       "_view_count": null,
       "_view_module": "@jupyter-widgets/controls",
       "_view_module_version": "1.5.0",
       "_view_name": "ProgressView",
       "bar_style": "",
       "description": "",
       "description_tooltip": null,
       "layout": "IPY_MODEL_95149b1de6684e92927b934ddf2ef632",
       "max": 1193.0,
       "min": 0.0,
       "orientation": "horizontal",
       "style": "IPY_MODEL_d3ae0c5c9c354612bf664b867a18005f",
       "value": 1193.0
      }
     },
     "d3ae0c5c9c354612bf664b867a18005f": {
      "model_module": "@jupyter-widgets/controls",
      "model_module_version": "1.5.0",
      "model_name": "ProgressStyleModel",
      "state": {
       "_model_module": "@jupyter-widgets/controls",
       "_model_module_version": "1.5.0",
       "_model_name": "ProgressStyleModel",
       "_view_count": null,
       "_view_module": "@jupyter-widgets/base",
       "_view_module_version": "1.2.0",
       "_view_name": "StyleView",
       "bar_color": null,
       "description_width": ""
      }
     },
     "d4144f3a591546cb8c069f7267fbef54": {
      "model_module": "@jupyter-widgets/base",
      "model_module_version": "1.2.0",
      "model_name": "LayoutModel",
      "state": {
       "_model_module": "@jupyter-widgets/base",
       "_model_module_version": "1.2.0",
       "_model_name": "LayoutModel",
       "_view_count": null,
       "_view_module": "@jupyter-widgets/base",
       "_view_module_version": "1.2.0",
       "_view_name": "LayoutView",
       "align_content": null,
       "align_items": null,
       "align_self": null,
       "border": null,
       "bottom": null,
       "display": null,
       "flex": null,
       "flex_flow": null,
       "grid_area": null,
       "grid_auto_columns": null,
       "grid_auto_flow": null,
       "grid_auto_rows": null,
       "grid_column": null,
       "grid_gap": null,
       "grid_row": null,
       "grid_template_areas": null,
       "grid_template_columns": null,
       "grid_template_rows": null,
       "height": null,
       "justify_content": null,
       "justify_items": null,
       "left": null,
       "margin": null,
       "max_height": null,
       "max_width": null,
       "min_height": null,
       "min_width": null,
       "object_fit": null,
       "object_position": null,
       "order": null,
       "overflow": null,
       "overflow_x": null,
       "overflow_y": null,
       "padding": null,
       "right": null,
       "top": null,
       "visibility": null,
       "width": null
      }
     },
     "d4cdc6ca32234422b15c2ca6bf5b173d": {
      "model_module": "@jupyter-widgets/base",
      "model_module_version": "1.2.0",
      "model_name": "LayoutModel",
      "state": {
       "_model_module": "@jupyter-widgets/base",
       "_model_module_version": "1.2.0",
       "_model_name": "LayoutModel",
       "_view_count": null,
       "_view_module": "@jupyter-widgets/base",
       "_view_module_version": "1.2.0",
       "_view_name": "LayoutView",
       "align_content": null,
       "align_items": null,
       "align_self": null,
       "border": null,
       "bottom": null,
       "display": null,
       "flex": null,
       "flex_flow": null,
       "grid_area": null,
       "grid_auto_columns": null,
       "grid_auto_flow": null,
       "grid_auto_rows": null,
       "grid_column": null,
       "grid_gap": null,
       "grid_row": null,
       "grid_template_areas": null,
       "grid_template_columns": null,
       "grid_template_rows": null,
       "height": null,
       "justify_content": null,
       "justify_items": null,
       "left": null,
       "margin": null,
       "max_height": null,
       "max_width": null,
       "min_height": null,
       "min_width": null,
       "object_fit": null,
       "object_position": null,
       "order": null,
       "overflow": null,
       "overflow_x": null,
       "overflow_y": null,
       "padding": null,
       "right": null,
       "top": null,
       "visibility": null,
       "width": "20px"
      }
     },
     "d5f8e8e2ad904bec98808e47c8bb8919": {
      "model_module": "@jupyter-widgets/controls",
      "model_module_version": "1.5.0",
      "model_name": "DescriptionStyleModel",
      "state": {
       "_model_module": "@jupyter-widgets/controls",
       "_model_module_version": "1.5.0",
       "_model_name": "DescriptionStyleModel",
       "_view_count": null,
       "_view_module": "@jupyter-widgets/base",
       "_view_module_version": "1.2.0",
       "_view_name": "StyleView",
       "description_width": ""
      }
     },
     "dbad359bb22a464890ebc891ff90c01d": {
      "model_module": "@jupyter-widgets/controls",
      "model_module_version": "1.5.0",
      "model_name": "ProgressStyleModel",
      "state": {
       "_model_module": "@jupyter-widgets/controls",
       "_model_module_version": "1.5.0",
       "_model_name": "ProgressStyleModel",
       "_view_count": null,
       "_view_module": "@jupyter-widgets/base",
       "_view_module_version": "1.2.0",
       "_view_name": "StyleView",
       "bar_color": null,
       "description_width": ""
      }
     },
     "dc54c6aca89641dfabba293708211384": {
      "model_module": "@jupyter-widgets/base",
      "model_module_version": "1.2.0",
      "model_name": "LayoutModel",
      "state": {
       "_model_module": "@jupyter-widgets/base",
       "_model_module_version": "1.2.0",
       "_model_name": "LayoutModel",
       "_view_count": null,
       "_view_module": "@jupyter-widgets/base",
       "_view_module_version": "1.2.0",
       "_view_name": "LayoutView",
       "align_content": null,
       "align_items": null,
       "align_self": null,
       "border": null,
       "bottom": null,
       "display": null,
       "flex": null,
       "flex_flow": null,
       "grid_area": null,
       "grid_auto_columns": null,
       "grid_auto_flow": null,
       "grid_auto_rows": null,
       "grid_column": null,
       "grid_gap": null,
       "grid_row": null,
       "grid_template_areas": null,
       "grid_template_columns": null,
       "grid_template_rows": null,
       "height": null,
       "justify_content": null,
       "justify_items": null,
       "left": null,
       "margin": null,
       "max_height": null,
       "max_width": null,
       "min_height": null,
       "min_width": null,
       "object_fit": null,
       "object_position": null,
       "order": null,
       "overflow": null,
       "overflow_x": null,
       "overflow_y": null,
       "padding": null,
       "right": null,
       "top": null,
       "visibility": null,
       "width": "20px"
      }
     },
     "dd0fb9d746d445adacb0f9536745341d": {
      "model_module": "@jupyter-widgets/controls",
      "model_module_version": "1.5.0",
      "model_name": "HTMLModel",
      "state": {
       "_dom_classes": [],
       "_model_module": "@jupyter-widgets/controls",
       "_model_module_version": "1.5.0",
       "_model_name": "HTMLModel",
       "_view_count": null,
       "_view_module": "@jupyter-widgets/controls",
       "_view_module_version": "1.5.0",
       "_view_name": "HTMLView",
       "description": "",
       "description_tooltip": null,
       "layout": "IPY_MODEL_303b6c625a484170a496fd057cecb84b",
       "placeholder": "​",
       "style": "IPY_MODEL_3b8921342573427b9cea26a4fadb37a2",
       "value": "Shuffling /root/tensorflow_datasets/ted_hrlr_translate/pt_to_en/1.0.0.incompleteFGUE6I/ted_hrlr_translate-train.tfrecord*...:  37%"
      }
     },
     "de4970264e7249719919b58bcf45f764": {
      "model_module": "@jupyter-widgets/controls",
      "model_module_version": "1.5.0",
      "model_name": "FloatProgressModel",
      "state": {
       "_dom_classes": [],
       "_model_module": "@jupyter-widgets/controls",
       "_model_module_version": "1.5.0",
       "_model_name": "FloatProgressModel",
       "_view_count": null,
       "_view_module": "@jupyter-widgets/controls",
       "_view_module_version": "1.5.0",
       "_view_name": "ProgressView",
       "bar_style": "",
       "description": "",
       "description_tooltip": null,
       "layout": "IPY_MODEL_ed7553c81c55408aa5e8fc5202e2ddc9",
       "max": 1193.0,
       "min": 0.0,
       "orientation": "horizontal",
       "style": "IPY_MODEL_ee14e6a76cdd4c1791350795a87a24fa",
       "value": 1193.0
      }
     },
     "de991098f6ba4dbb902e9bb46fc603b7": {
      "model_module": "@jupyter-widgets/base",
      "model_module_version": "1.2.0",
      "model_name": "LayoutModel",
      "state": {
       "_model_module": "@jupyter-widgets/base",
       "_model_module_version": "1.2.0",
       "_model_name": "LayoutModel",
       "_view_count": null,
       "_view_module": "@jupyter-widgets/base",
       "_view_module_version": "1.2.0",
       "_view_name": "LayoutView",
       "align_content": null,
       "align_items": null,
       "align_self": null,
       "border": null,
       "bottom": null,
       "display": null,
       "flex": null,
       "flex_flow": null,
       "grid_area": null,
       "grid_auto_columns": null,
       "grid_auto_flow": null,
       "grid_auto_rows": null,
       "grid_column": null,
       "grid_gap": null,
       "grid_row": null,
       "grid_template_areas": null,
       "grid_template_columns": null,
       "grid_template_rows": null,
       "height": null,
       "justify_content": null,
       "justify_items": null,
       "left": null,
       "margin": null,
       "max_height": null,
       "max_width": null,
       "min_height": null,
       "min_width": null,
       "object_fit": null,
       "object_position": null,
       "order": null,
       "overflow": null,
       "overflow_x": null,
       "overflow_y": null,
       "padding": null,
       "right": null,
       "top": null,
       "visibility": null,
       "width": null
      }
     },
     "dec7a020c25e4033a6615acdb57ae628": {
      "model_module": "@jupyter-widgets/controls",
      "model_module_version": "1.5.0",
      "model_name": "HTMLModel",
      "state": {
       "_dom_classes": [],
       "_model_module": "@jupyter-widgets/controls",
       "_model_module_version": "1.5.0",
       "_model_name": "HTMLModel",
       "_view_count": null,
       "_view_module": "@jupyter-widgets/controls",
       "_view_module_version": "1.5.0",
       "_view_name": "HTMLView",
       "description": "",
       "description_tooltip": null,
       "layout": "IPY_MODEL_ce328620781b48dcbaf4f2ab23532b8d",
       "placeholder": "​",
       "style": "IPY_MODEL_4f86a1e250f4478dbea174afbe04b56c",
       "value": "Extraction completed...: 100%"
      }
     },
     "e0705f514e8a493a84f9095339722d07": {
      "model_module": "@jupyter-widgets/controls",
      "model_module_version": "1.5.0",
      "model_name": "HTMLModel",
      "state": {
       "_dom_classes": [],
       "_model_module": "@jupyter-widgets/controls",
       "_model_module_version": "1.5.0",
       "_model_name": "HTMLModel",
       "_view_count": null,
       "_view_module": "@jupyter-widgets/controls",
       "_view_module_version": "1.5.0",
       "_view_name": "HTMLView",
       "description": "",
       "description_tooltip": null,
       "layout": "IPY_MODEL_1c89dfe9a24844f7b79665cf3d299f4e",
       "placeholder": "​",
       "style": "IPY_MODEL_f8c2aaada3454076b09fea70a881b5d3",
       "value": " 1114/1193 [00:00&lt;00:00, 11133.35 examples/s]"
      }
     },
     "e13e7a82f94c44ceadd7b579b600d5a1": {
      "model_module": "@jupyter-widgets/controls",
      "model_module_version": "1.5.0",
      "model_name": "FloatProgressModel",
      "state": {
       "_dom_classes": [],
       "_model_module": "@jupyter-widgets/controls",
       "_model_module_version": "1.5.0",
       "_model_name": "FloatProgressModel",
       "_view_count": null,
       "_view_module": "@jupyter-widgets/controls",
       "_view_module_version": "1.5.0",
       "_view_name": "ProgressView",
       "bar_style": "",
       "description": "",
       "description_tooltip": null,
       "layout": "IPY_MODEL_72a120253b084ac0b7b745f7184af43e",
       "max": 1803.0,
       "min": 0.0,
       "orientation": "horizontal",
       "style": "IPY_MODEL_287954e4aaf74d74a686587f0d53f936",
       "value": 1803.0
      }
     },
     "e14cd7e149fb469d8253f4678a75a85c": {
      "model_module": "@jupyter-widgets/controls",
      "model_module_version": "1.5.0",
      "model_name": "HTMLModel",
      "state": {
       "_dom_classes": [],
       "_model_module": "@jupyter-widgets/controls",
       "_model_module_version": "1.5.0",
       "_model_name": "HTMLModel",
       "_view_count": null,
       "_view_module": "@jupyter-widgets/controls",
       "_view_module_version": "1.5.0",
       "_view_name": "HTMLView",
       "description": "",
       "description_tooltip": null,
       "layout": "IPY_MODEL_1035873c3c5d4f0caaa7001bf1f86b3a",
       "placeholder": "​",
       "style": "IPY_MODEL_0f51a45b633d49a7a53358fdabdf7681",
       "value": " 50519/51785 [00:04&lt;00:00, 9526.77 examples/s]"
      }
     },
     "e19e8b7ac4344520aece4a28036349e9": {
      "model_module": "@jupyter-widgets/base",
      "model_module_version": "1.2.0",
      "model_name": "LayoutModel",
      "state": {
       "_model_module": "@jupyter-widgets/base",
       "_model_module_version": "1.2.0",
       "_model_name": "LayoutModel",
       "_view_count": null,
       "_view_module": "@jupyter-widgets/base",
       "_view_module_version": "1.2.0",
       "_view_name": "LayoutView",
       "align_content": null,
       "align_items": null,
       "align_self": null,
       "border": null,
       "bottom": null,
       "display": null,
       "flex": null,
       "flex_flow": null,
       "grid_area": null,
       "grid_auto_columns": null,
       "grid_auto_flow": null,
       "grid_auto_rows": null,
       "grid_column": null,
       "grid_gap": null,
       "grid_row": null,
       "grid_template_areas": null,
       "grid_template_columns": null,
       "grid_template_rows": null,
       "height": null,
       "justify_content": null,
       "justify_items": null,
       "left": null,
       "margin": null,
       "max_height": null,
       "max_width": null,
       "min_height": null,
       "min_width": null,
       "object_fit": null,
       "object_position": null,
       "order": null,
       "overflow": null,
       "overflow_x": null,
       "overflow_y": null,
       "padding": null,
       "right": null,
       "top": null,
       "visibility": null,
       "width": null
      }
     },
     "e4995de6abe047a39d2f9963c79e0ed7": {
      "model_module": "@jupyter-widgets/controls",
      "model_module_version": "1.5.0",
      "model_name": "HTMLModel",
      "state": {
       "_dom_classes": [],
       "_model_module": "@jupyter-widgets/controls",
       "_model_module_version": "1.5.0",
       "_model_name": "HTMLModel",
       "_view_count": null,
       "_view_module": "@jupyter-widgets/controls",
       "_view_module_version": "1.5.0",
       "_view_name": "HTMLView",
       "description": "",
       "description_tooltip": null,
       "layout": "IPY_MODEL_f9a1e248549b497bbedc171996795c97",
       "placeholder": "​",
       "style": "IPY_MODEL_cca400b8b80742a9b02fe9014ec7c081",
       "value": " 124/124 [00:14&lt;00:00, 14.24 MiB/s]"
      }
     },
     "e748b2a895ce4d1490cdc1fece0a8fa4": {
      "model_module": "@jupyter-widgets/base",
      "model_module_version": "1.2.0",
      "model_name": "LayoutModel",
      "state": {
       "_model_module": "@jupyter-widgets/base",
       "_model_module_version": "1.2.0",
       "_model_name": "LayoutModel",
       "_view_count": null,
       "_view_module": "@jupyter-widgets/base",
       "_view_module_version": "1.2.0",
       "_view_name": "LayoutView",
       "align_content": null,
       "align_items": null,
       "align_self": null,
       "border": null,
       "bottom": null,
       "display": null,
       "flex": null,
       "flex_flow": null,
       "grid_area": null,
       "grid_auto_columns": null,
       "grid_auto_flow": null,
       "grid_auto_rows": null,
       "grid_column": null,
       "grid_gap": null,
       "grid_row": null,
       "grid_template_areas": null,
       "grid_template_columns": null,
       "grid_template_rows": null,
       "height": null,
       "justify_content": null,
       "justify_items": null,
       "left": null,
       "margin": null,
       "max_height": null,
       "max_width": null,
       "min_height": null,
       "min_width": null,
       "object_fit": null,
       "object_position": null,
       "order": null,
       "overflow": null,
       "overflow_x": null,
       "overflow_y": null,
       "padding": null,
       "right": null,
       "top": null,
       "visibility": null,
       "width": null
      }
     },
     "e97afcbe51944a229e174fad2572f6e2": {
      "model_module": "@jupyter-widgets/base",
      "model_module_version": "1.2.0",
      "model_name": "LayoutModel",
      "state": {
       "_model_module": "@jupyter-widgets/base",
       "_model_module_version": "1.2.0",
       "_model_name": "LayoutModel",
       "_view_count": null,
       "_view_module": "@jupyter-widgets/base",
       "_view_module_version": "1.2.0",
       "_view_name": "LayoutView",
       "align_content": null,
       "align_items": null,
       "align_self": null,
       "border": null,
       "bottom": null,
       "display": null,
       "flex": null,
       "flex_flow": null,
       "grid_area": null,
       "grid_auto_columns": null,
       "grid_auto_flow": null,
       "grid_auto_rows": null,
       "grid_column": null,
       "grid_gap": null,
       "grid_row": null,
       "grid_template_areas": null,
       "grid_template_columns": null,
       "grid_template_rows": null,
       "height": null,
       "justify_content": null,
       "justify_items": null,
       "left": null,
       "margin": null,
       "max_height": null,
       "max_width": null,
       "min_height": null,
       "min_width": null,
       "object_fit": null,
       "object_position": null,
       "order": null,
       "overflow": null,
       "overflow_x": null,
       "overflow_y": null,
       "padding": null,
       "right": null,
       "top": null,
       "visibility": "hidden",
       "width": null
      }
     },
     "ea7b9c70be1b48d1a0df0e55ce25b50a": {
      "model_module": "@jupyter-widgets/controls",
      "model_module_version": "1.5.0",
      "model_name": "HBoxModel",
      "state": {
       "_dom_classes": [],
       "_model_module": "@jupyter-widgets/controls",
       "_model_module_version": "1.5.0",
       "_model_name": "HBoxModel",
       "_view_count": null,
       "_view_module": "@jupyter-widgets/controls",
       "_view_module_version": "1.5.0",
       "_view_name": "HBoxView",
       "box_style": "",
       "children": [
        "IPY_MODEL_a520f5ee465e47f4927e8ccaf1152a12",
        "IPY_MODEL_e13e7a82f94c44ceadd7b579b600d5a1",
        "IPY_MODEL_4a21c1569bc04667a36f3dd5b9b3949e"
       ],
       "layout": "IPY_MODEL_9720f23e18d8429ca28001a5408b4e43"
      }
     },
     "ed7553c81c55408aa5e8fc5202e2ddc9": {
      "model_module": "@jupyter-widgets/base",
      "model_module_version": "1.2.0",
      "model_name": "LayoutModel",
      "state": {
       "_model_module": "@jupyter-widgets/base",
       "_model_module_version": "1.2.0",
       "_model_name": "LayoutModel",
       "_view_count": null,
       "_view_module": "@jupyter-widgets/base",
       "_view_module_version": "1.2.0",
       "_view_name": "LayoutView",
       "align_content": null,
       "align_items": null,
       "align_self": null,
       "border": null,
       "bottom": null,
       "display": null,
       "flex": null,
       "flex_flow": null,
       "grid_area": null,
       "grid_auto_columns": null,
       "grid_auto_flow": null,
       "grid_auto_rows": null,
       "grid_column": null,
       "grid_gap": null,
       "grid_row": null,
       "grid_template_areas": null,
       "grid_template_columns": null,
       "grid_template_rows": null,
       "height": null,
       "justify_content": null,
       "justify_items": null,
       "left": null,
       "margin": null,
       "max_height": null,
       "max_width": null,
       "min_height": null,
       "min_width": null,
       "object_fit": null,
       "object_position": null,
       "order": null,
       "overflow": null,
       "overflow_x": null,
       "overflow_y": null,
       "padding": null,
       "right": null,
       "top": null,
       "visibility": null,
       "width": null
      }
     },
     "ee14e6a76cdd4c1791350795a87a24fa": {
      "model_module": "@jupyter-widgets/controls",
      "model_module_version": "1.5.0",
      "model_name": "ProgressStyleModel",
      "state": {
       "_model_module": "@jupyter-widgets/controls",
       "_model_module_version": "1.5.0",
       "_model_name": "ProgressStyleModel",
       "_view_count": null,
       "_view_module": "@jupyter-widgets/base",
       "_view_module_version": "1.2.0",
       "_view_name": "StyleView",
       "bar_color": null,
       "description_width": ""
      }
     },
     "eedfb607ddb84493b275e0f3145f1597": {
      "model_module": "@jupyter-widgets/controls",
      "model_module_version": "1.5.0",
      "model_name": "FloatProgressModel",
      "state": {
       "_dom_classes": [],
       "_model_module": "@jupyter-widgets/controls",
       "_model_module_version": "1.5.0",
       "_model_name": "FloatProgressModel",
       "_view_count": null,
       "_view_module": "@jupyter-widgets/controls",
       "_view_module_version": "1.5.0",
       "_view_name": "ProgressView",
       "bar_style": "success",
       "description": "",
       "description_tooltip": null,
       "layout": "IPY_MODEL_9c2b02cf48754dc0bcdb4c18b6113c0f",
       "max": 1.0,
       "min": 0.0,
       "orientation": "horizontal",
       "style": "IPY_MODEL_832960cce591440eb1b89c52298e980d",
       "value": 1.0
      }
     },
     "ef379a856b4f40f497361216ea06153d": {
      "model_module": "@jupyter-widgets/base",
      "model_module_version": "1.2.0",
      "model_name": "LayoutModel",
      "state": {
       "_model_module": "@jupyter-widgets/base",
       "_model_module_version": "1.2.0",
       "_model_name": "LayoutModel",
       "_view_count": null,
       "_view_module": "@jupyter-widgets/base",
       "_view_module_version": "1.2.0",
       "_view_name": "LayoutView",
       "align_content": null,
       "align_items": null,
       "align_self": null,
       "border": null,
       "bottom": null,
       "display": null,
       "flex": null,
       "flex_flow": null,
       "grid_area": null,
       "grid_auto_columns": null,
       "grid_auto_flow": null,
       "grid_auto_rows": null,
       "grid_column": null,
       "grid_gap": null,
       "grid_row": null,
       "grid_template_areas": null,
       "grid_template_columns": null,
       "grid_template_rows": null,
       "height": null,
       "justify_content": null,
       "justify_items": null,
       "left": null,
       "margin": null,
       "max_height": null,
       "max_width": null,
       "min_height": null,
       "min_width": null,
       "object_fit": null,
       "object_position": null,
       "order": null,
       "overflow": null,
       "overflow_x": null,
       "overflow_y": null,
       "padding": null,
       "right": null,
       "top": null,
       "visibility": null,
       "width": null
      }
     },
     "f148e0add75f4669b080bb23a2fb43c7": {
      "model_module": "@jupyter-widgets/controls",
      "model_module_version": "1.5.0",
      "model_name": "DescriptionStyleModel",
      "state": {
       "_model_module": "@jupyter-widgets/controls",
       "_model_module_version": "1.5.0",
       "_model_name": "DescriptionStyleModel",
       "_view_count": null,
       "_view_module": "@jupyter-widgets/base",
       "_view_module_version": "1.2.0",
       "_view_name": "StyleView",
       "description_width": ""
      }
     },
     "f8c2aaada3454076b09fea70a881b5d3": {
      "model_module": "@jupyter-widgets/controls",
      "model_module_version": "1.5.0",
      "model_name": "DescriptionStyleModel",
      "state": {
       "_model_module": "@jupyter-widgets/controls",
       "_model_module_version": "1.5.0",
       "_model_name": "DescriptionStyleModel",
       "_view_count": null,
       "_view_module": "@jupyter-widgets/base",
       "_view_module_version": "1.2.0",
       "_view_name": "StyleView",
       "description_width": ""
      }
     },
     "f9a1e248549b497bbedc171996795c97": {
      "model_module": "@jupyter-widgets/base",
      "model_module_version": "1.2.0",
      "model_name": "LayoutModel",
      "state": {
       "_model_module": "@jupyter-widgets/base",
       "_model_module_version": "1.2.0",
       "_model_name": "LayoutModel",
       "_view_count": null,
       "_view_module": "@jupyter-widgets/base",
       "_view_module_version": "1.2.0",
       "_view_name": "LayoutView",
       "align_content": null,
       "align_items": null,
       "align_self": null,
       "border": null,
       "bottom": null,
       "display": null,
       "flex": null,
       "flex_flow": null,
       "grid_area": null,
       "grid_auto_columns": null,
       "grid_auto_flow": null,
       "grid_auto_rows": null,
       "grid_column": null,
       "grid_gap": null,
       "grid_row": null,
       "grid_template_areas": null,
       "grid_template_columns": null,
       "grid_template_rows": null,
       "height": null,
       "justify_content": null,
       "justify_items": null,
       "left": null,
       "margin": null,
       "max_height": null,
       "max_width": null,
       "min_height": null,
       "min_width": null,
       "object_fit": null,
       "object_position": null,
       "order": null,
       "overflow": null,
       "overflow_x": null,
       "overflow_y": null,
       "padding": null,
       "right": null,
       "top": null,
       "visibility": null,
       "width": null
      }
     },
     "fa39fb52e9cf42289699d557ea0fa764": {
      "model_module": "@jupyter-widgets/controls",
      "model_module_version": "1.5.0",
      "model_name": "HTMLModel",
      "state": {
       "_dom_classes": [],
       "_model_module": "@jupyter-widgets/controls",
       "_model_module_version": "1.5.0",
       "_model_name": "HTMLModel",
       "_view_count": null,
       "_view_module": "@jupyter-widgets/controls",
       "_view_module_version": "1.5.0",
       "_view_name": "HTMLView",
       "description": "",
       "description_tooltip": null,
       "layout": "IPY_MODEL_8e89fce642a84c60881cd685375130c8",
       "placeholder": "​",
       "style": "IPY_MODEL_44bff8a1e91c49be98886537437f0c27",
       "value": "Shuffling /root/tensorflow_datasets/ted_hrlr_translate/pt_to_en/1.0.0.incompleteFGUE6I/ted_hrlr_translate-test.tfrecord*...:   0%"
      }
     },
     "fbb0f139987b4aaf9c15e4f236534d7d": {
      "model_module": "@jupyter-widgets/controls",
      "model_module_version": "1.5.0",
      "model_name": "HBoxModel",
      "state": {
       "_dom_classes": [],
       "_model_module": "@jupyter-widgets/controls",
       "_model_module_version": "1.5.0",
       "_model_name": "HBoxModel",
       "_view_count": null,
       "_view_module": "@jupyter-widgets/controls",
       "_view_module_version": "1.5.0",
       "_view_name": "HBoxView",
       "box_style": "",
       "children": [
        "IPY_MODEL_5fff37abc654428eb8c6e15132dbd0d7",
        "IPY_MODEL_5370b1b3f45b48819eb2ea0946f90950",
        "IPY_MODEL_e4995de6abe047a39d2f9963c79e0ed7"
       ],
       "layout": "IPY_MODEL_6f4206ddfacc43bbae1ac1296cf980c6"
      }
     },
     "fc79b27e86fb4d6d85a637eab78e259b": {
      "model_module": "@jupyter-widgets/controls",
      "model_module_version": "1.5.0",
      "model_name": "HBoxModel",
      "state": {
       "_dom_classes": [],
       "_model_module": "@jupyter-widgets/controls",
       "_model_module_version": "1.5.0",
       "_model_name": "HBoxModel",
       "_view_count": null,
       "_view_module": "@jupyter-widgets/controls",
       "_view_module_version": "1.5.0",
       "_view_name": "HBoxView",
       "box_style": "",
       "children": [
        "IPY_MODEL_48293876001c479e8c4d4a1d69a21cfd",
        "IPY_MODEL_de4970264e7249719919b58bcf45f764",
        "IPY_MODEL_e0705f514e8a493a84f9095339722d07"
       ],
       "layout": "IPY_MODEL_caebf13ecc0b429b8468d43e391d4d58"
      }
     },
     "fd5710e7c02c48f79755abe12b38d88d": {
      "model_module": "@jupyter-widgets/controls",
      "model_module_version": "1.5.0",
      "model_name": "HBoxModel",
      "state": {
       "_dom_classes": [],
       "_model_module": "@jupyter-widgets/controls",
       "_model_module_version": "1.5.0",
       "_model_name": "HBoxModel",
       "_view_count": null,
       "_view_module": "@jupyter-widgets/controls",
       "_view_module_version": "1.5.0",
       "_view_name": "HBoxView",
       "box_style": "",
       "children": [
        "IPY_MODEL_0c55cf79bc194f89b12faa597c2a4867",
        "IPY_MODEL_09c5a1878ef44353ba4383d2c2d69648",
        "IPY_MODEL_9f136423d76e4bf68ac7b562a9d0e52a"
       ],
       "layout": "IPY_MODEL_d0207b0d7b7648cbb67a272b7cac4cee"
      }
     }
    },
    "version_major": 2,
    "version_minor": 0
   }
  }
 },
 "nbformat": 4,
 "nbformat_minor": 5
}
